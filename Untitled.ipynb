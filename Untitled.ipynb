{
 "cells": [
  {
   "cell_type": "code",
   "execution_count": null,
   "id": "aafa66c5-71be-41c1-8ba9-4e532f57a8be",
   "metadata": {},
   "outputs": [],
   "source": [
    "import json\n",
    "import torch\n",
    "import numpy as np\n",
    "from transformers import AutoModelForCausalLM, AutoTokenizer\n",
    "from sklearn.linear_model import Ridge\n",
    "from sklearn.metrics import r2_score\n",
    "import matplotlib.pyplot as plt\n",
    "import seaborn as sns\n",
    "from tqdm import tqdm\n",
    "import random\n",
    "import re\n",
    "import os\n",
    "from collections import defaultdict\n",
    "import gc\n",
    "\n",
    "# Set device\n",
    "device = torch.device(\"cuda\" if torch.cuda.is_available() else \"cpu\")\n",
    "print(f\"Using device: {device}\")\n",
    "\n",
    "# Create output directory\n",
    "os.makedirs(\"interp_plots\", exist_ok=True)\n",
    "\n",
    "# Initialize model and tokenizer\n",
    "MODEL_NAME = \"meta-llama/Meta-Llama-3-8B-Instruct\"\n",
    "print(\"Loading model and tokenizer...\")\n",
    "tokenizer = AutoTokenizer.from_pretrained(MODEL_NAME)\n",
    "tokenizer.pad_token = tokenizer.eos_token\n",
    "model = AutoModelForCausalLM.from_pretrained(\n",
    "    MODEL_NAME,\n",
    "    torch_dtype=torch.float16,  # Use float16 to save memory\n",
    "    device_map=\"auto\"  # Automatically distribute across GPUs\n",
    ")\n",
    "model.eval()\n",
    "\n",
    "# Get model config\n",
    "num_layers = model.config.num_hidden_layers\n",
    "print(f\"Model has {num_layers} layers\")\n",
    "\n",
    "def extract_correct_predictions(input_file, output_file, num_samples=200):\n",
    "    \"\"\"Extract prompts where pred == gold\"\"\"\n",
    "    correct_prompts = []\n",
    "    \n",
    "    with open(input_file, 'r') as f:\n",
    "        for line in f:\n",
    "            data = json.loads(line)\n",
    "            if data['pred'] == data['gold']:\n",
    "                correct_prompts.append(data)\n",
    "                if len(correct_prompts) >= num_samples:\n",
    "                    break\n",
    "    \n",
    "    # Save to new file\n",
    "    with open(output_file, 'w') as f:\n",
    "        for prompt_data in correct_prompts:\n",
    "            f.write(json.dumps(prompt_data) + '\\n')\n",
    "    \n",
    "    print(f\"Extracted {len(correct_prompts)} correct predictions\")\n",
    "    return correct_prompts\n",
    "\n",
    "def parse_prompt(prompt):\n",
    "    \"\"\"Extract category type and list items from prompt\"\"\"\n",
    "    type_match = re.search(r'Type: (\\w+)', prompt)\n",
    "    list_match = re.search(r'List: \\[(.*?)\\]', prompt)\n",
    "    \n",
    "    if not type_match or not list_match:\n",
    "        raise ValueError(\"Could not parse prompt\")\n",
    "    \n",
    "    category = type_match.group(1)\n",
    "    items = [item.strip() for item in list_match.group(1).split(',')]\n",
    "    \n",
    "    return category, items\n",
    "\n",
    "def get_token_positions_for_items(tokenizer, prompt, items):\n",
    "    \"\"\"Map each list item to its token position in the prompt\"\"\"\n",
    "    # Tokenize the full prompt\n",
    "    encoding = tokenizer(prompt, return_tensors=\"pt\")\n",
    "    tokens = tokenizer.convert_ids_to_tokens(encoding.input_ids[0])\n",
    "    \n",
    "    # Debug: print tokens for first example\n",
    "    if items[0] == 'stool':  # First example\n",
    "        print(f\"\\nDebug - Tokenization:\")\n",
    "        print(f\"  Tokens (first 40): {tokens[:40]}\")\n",
    "        print(f\"  Looking for items: {items}\")\n",
    "    \n",
    "    # Find positions of list items\n",
    "    item_positions = []\n",
    "    \n",
    "    for item in items:\n",
    "        # Try to find the item in the token sequence\n",
    "        item_lower = item.lower()\n",
    "        found = False\n",
    "        \n",
    "        # Look for exact match first\n",
    "        for i, token in enumerate(tokens):\n",
    "            # Remove special tokens markers\n",
    "            clean_token = token.replace('Ġ', '').replace('▁', '').lower()\n",
    "            \n",
    "            if clean_token == item_lower:\n",
    "                item_positions.append(i)\n",
    "                found = True\n",
    "                break\n",
    "        \n",
    "        # If not found, look for partial matches (item might be split across tokens)\n",
    "        if not found:\n",
    "            # Tokenize the item separately\n",
    "            item_tokens = tokenizer.tokenize(item)\n",
    "            item_tokens_clean = [t.replace('Ġ', '').replace('▁', '').lower() for t in item_tokens]\n",
    "            \n",
    "            # Look for sequence of tokens\n",
    "            for i in range(len(tokens) - len(item_tokens) + 1):\n",
    "                tokens_slice = [tokens[j].replace('Ġ', '').replace('▁', '').lower() \n",
    "                               for j in range(i, i + len(item_tokens))]\n",
    "                if tokens_slice == item_tokens_clean:\n",
    "                    item_positions.append(i)\n",
    "                    found = True\n",
    "                    break\n",
    "        \n",
    "        # If still not found, append -1 as placeholder\n",
    "        if not found:\n",
    "            item_positions.append(-1)\n",
    "    \n",
    "    # Filter out -1 values\n",
    "    valid_positions = [pos for pos in item_positions if pos != -1]\n",
    "    \n",
    "    if items[0] == 'stool':  # Debug first example\n",
    "        print(f\"  Found positions: {item_positions}\")\n",
    "        print(f\"  Valid positions: {valid_positions}\")\n",
    "    \n",
    "    return valid_positions\n",
    "\n",
    "def is_category_match(item, category):\n",
    "    \"\"\"Check if an item belongs to a category\"\"\"\n",
    "    CATEGORY_ITEMS = {\n",
    "        \"fruit\": [\n",
    "            \"apple\", \"banana\", \"cherry\", \"grape\", \"orange\",\n",
    "            \"pear\", \"peach\", \"mango\", \"tangerine\", \"plum\"\n",
    "        ],\n",
    "        \"animal\": [\n",
    "            \"dog\", \"cat\", \"horse\", \"cow\", \"sheep\",\n",
    "            \"lion\", \"tiger\", \"bear\", \"rabbit\", \"fox\"\n",
    "        ],\n",
    "        \"vehicle\": [\n",
    "            \"car\", \"bus\", \"truck\", \"bicycle\", \"motorcycle\",\n",
    "            \"train\", \"boat\", \"plane\", \"scooter\", \"van\"\n",
    "        ],\n",
    "        \"instrument\": [           \n",
    "            \"guitar\", \"piano\", \"violin\", \"drum\", \"flute\",\n",
    "            \"trumpet\", \"saxophone\", \"cello\", \"clarinet\", \"harp\"\n",
    "        ],\n",
    "        \"furniture\": [            \n",
    "            \"chair\", \"table\", \"sofa\", \"bed\", \"desk\",\n",
    "            \"cabinet\", \"dresser\", \"stool\", \"wardrobe\", \"bookshelf\"\n",
    "        ],\n",
    "    }\n",
    "    \n",
    "    return item.lower() in CATEGORY_ITEMS.get(category.lower(), [])\n",
    "\n",
    "def count_category_matches(items, category):\n",
    "    \"\"\"Count how many items match the category\"\"\"\n",
    "    count = 0\n",
    "    for item in items:\n",
    "        if is_category_match(item, category):\n",
    "            count += 1\n",
    "    return count\n",
    "\n",
    "def compute_running_counts(items, category):\n",
    "    \"\"\"Compute running count of category matches at each position\"\"\"\n",
    "    running_counts = []\n",
    "    count = 0\n",
    "    for i, item in enumerate(items):\n",
    "        if is_category_match(item, category):\n",
    "            count += 1\n",
    "        running_counts.append(count)\n",
    "    return running_counts\n",
    "\n",
    "def get_cumulative_counts_up_to_position(items, category, positions):\n",
    "    \"\"\"Get the cumulative count up to each token position\"\"\"\n",
    "    # If we don't have valid positions, return empty\n",
    "    if not positions:\n",
    "        return []\n",
    "    \n",
    "    # For each token position, count how many category items we've seen\n",
    "    cumulative_counts = []\n",
    "    \n",
    "    # Create a mapping of positions to items\n",
    "    pos_to_item_idx = {}\n",
    "    for item_idx, pos in enumerate(positions):\n",
    "        if pos != -1 and item_idx < len(items):\n",
    "            pos_to_item_idx[pos] = item_idx\n",
    "    \n",
    "    # Sort positions to process in order\n",
    "    sorted_positions = sorted(positions)\n",
    "    \n",
    "    for pos in positions:  # Keep original order\n",
    "        # Count items up to this position\n",
    "        count = 0\n",
    "        for sorted_pos in sorted_positions:\n",
    "            if sorted_pos <= pos and sorted_pos in pos_to_item_idx:\n",
    "                item_idx = pos_to_item_idx[sorted_pos]\n",
    "                if item_idx < len(items) and is_category_match(items[item_idx], category):\n",
    "                    count += 1\n",
    "        cumulative_counts.append(count)\n",
    "    \n",
    "    return cumulative_counts\n",
    "\n",
    "def get_hidden_states_with_hook(model, input_ids):\n",
    "    \"\"\"Get hidden states for all layers using hooks\"\"\"\n",
    "    hidden_states = {}\n",
    "    \n",
    "    def hook_fn(name):\n",
    "        def hook(module, input, output):\n",
    "            # Store the hidden states, move to CPU immediately to save GPU memory\n",
    "            hidden_states[name] = output[0].detach().cpu()\n",
    "        return hook\n",
    "    \n",
    "    # Register hooks\n",
    "    hooks = []\n",
    "    for i in range(num_layers):\n",
    "        layer = model.model.layers[i]\n",
    "        hook = layer.register_forward_hook(hook_fn(f\"layer_{i}\"))\n",
    "        hooks.append(hook)\n",
    "    \n",
    "    # Forward pass\n",
    "    with torch.no_grad():\n",
    "        with torch.cuda.amp.autocast():  # Use mixed precision to save memory\n",
    "            outputs = model(input_ids)\n",
    "    \n",
    "    # Remove hooks\n",
    "    for hook in hooks:\n",
    "        hook.remove()\n",
    "    \n",
    "    return hidden_states\n",
    "\n",
    "def create_prefix_permuted_prompt(prompt, items, k):\n",
    "    \"\"\"Create a prompt with the first k+1 items shuffled\"\"\"\n",
    "    # Shuffle first k+1 items\n",
    "    prefix = items[:k+1].copy()\n",
    "    random.shuffle(prefix)\n",
    "    \n",
    "    # Combine with rest of list\n",
    "    permuted_items = prefix + items[k+1:]\n",
    "    \n",
    "    # Reconstruct prompt\n",
    "    list_str = ', '.join(permuted_items)\n",
    "    permuted_prompt = re.sub(r'List: \\[.*?\\]', f'List: [{list_str}]', prompt)\n",
    "    \n",
    "    return permuted_prompt, permuted_items\n",
    "\n",
    "def train_probes(hidden_states_dict, running_counts_dict, token_positions_dict, layer_idx):\n",
    "    \"\"\"Train linear probes to predict running counts from hidden states\"\"\"\n",
    "    X_all = []\n",
    "    y_all = []\n",
    "    \n",
    "    for prompt_idx, hidden_states in hidden_states_dict.items():\n",
    "        running_counts = running_counts_dict[prompt_idx]\n",
    "        token_positions = token_positions_dict[prompt_idx]\n",
    "        \n",
    "        # Debug: print sample data\n",
    "        if prompt_idx == 0 and layer_idx == 0:\n",
    "            print(f\"\\nDebug - Prompt {prompt_idx}:\")\n",
    "            print(f\"  Running counts: {running_counts}\")\n",
    "            print(f\"  Token positions: {token_positions}\")\n",
    "            print(f\"  Hidden states shape: {hidden_states.shape}\")\n",
    "        \n",
    "        # For each list item and its corresponding token position\n",
    "        for i, (count, token_pos) in enumerate(zip(running_counts, token_positions)):\n",
    "            if token_pos < hidden_states.shape[1]:  # Ensure we're within bounds\n",
    "                # Use the hidden state at this token position\n",
    "                hidden_state = hidden_states[0, token_pos].numpy()\n",
    "                X_all.append(hidden_state)\n",
    "                y_all.append(count)\n",
    "    \n",
    "    if len(X_all) == 0:\n",
    "        return None, 0.0\n",
    "    \n",
    "    X_all = np.array(X_all)\n",
    "    y_all = np.array(y_all)\n",
    "    \n",
    "    # Debug: print training data info\n",
    "    if layer_idx == 0:\n",
    "        print(f\"\\nDebug - Training data for layer {layer_idx}:\")\n",
    "        print(f\"  X shape: {X_all.shape}\")\n",
    "        print(f\"  y shape: {y_all.shape}\")\n",
    "        print(f\"  y unique values: {np.unique(y_all)}\")\n",
    "        print(f\"  y mean: {np.mean(y_all):.3f}, std: {np.std(y_all):.3f}\")\n",
    "    \n",
    "    # Split data for proper evaluation\n",
    "    from sklearn.model_selection import train_test_split\n",
    "    if len(X_all) > 20:  # Only split if we have enough data\n",
    "        X_train, X_test, y_train, y_test = train_test_split(\n",
    "            X_all, y_all, test_size=0.2, random_state=42\n",
    "        )\n",
    "    else:\n",
    "        X_train, X_test = X_all, X_all\n",
    "        y_train, y_test = y_all, y_all\n",
    "    \n",
    "    # Train Ridge regression with cross-validation\n",
    "    from sklearn.model_selection import cross_val_score\n",
    "    alphas = [0.01, 0.1, 1.0, 10.0, 100.0]\n",
    "    best_alpha = 1.0\n",
    "    best_cv_score = -float('inf')\n",
    "    \n",
    "    for alpha in alphas:\n",
    "        probe = Ridge(alpha=alpha)\n",
    "        cv_scores = cross_val_score(probe, X_train, y_train, cv=3, scoring='r2')\n",
    "        mean_cv_score = np.mean(cv_scores)\n",
    "        if mean_cv_score > best_cv_score:\n",
    "            best_cv_score = mean_cv_score\n",
    "            best_alpha = alpha\n",
    "    \n",
    "    # Train final model with best alpha\n",
    "    probe = Ridge(alpha=best_alpha)\n",
    "    probe.fit(X_train, y_train)\n",
    "    \n",
    "    # Evaluate on test set\n",
    "    y_pred = probe.predict(X_test)\n",
    "    score = r2_score(y_test, y_pred)\n",
    "    \n",
    "    # Additional debug for first layer\n",
    "    if layer_idx == 0:\n",
    "        print(f\"  Best alpha: {best_alpha}\")\n",
    "        print(f\"  CV score: {best_cv_score:.4f}\")\n",
    "        print(f\"  Test R² score: {score:.4f}\")\n",
    "    \n",
    "    return probe, score\n",
    "\n",
    "def patch_and_evaluate(model, tokenizer, prompt_data, layer_idx, probes):\n",
    "    \"\"\"Patch hidden states and evaluate impact on final answer\"\"\"\n",
    "    prompt = prompt_data['prompt']\n",
    "    gold_answer = prompt_data['gold']\n",
    "    category, items = parse_prompt(prompt)\n",
    "    \n",
    "    # Get token positions for list items\n",
    "    token_positions = get_token_positions_for_items(tokenizer, prompt, items)\n",
    "    \n",
    "    # Tokenize original prompt\n",
    "    inputs = tokenizer(prompt, return_tensors=\"pt\", padding=True).to(device)\n",
    "    \n",
    "    # Get clean run hidden states\n",
    "    clean_hidden_states = get_hidden_states_with_hook(model, inputs.input_ids)\n",
    "    \n",
    "    patching_results = []\n",
    "    \n",
    "    for k in range(min(len(items) - 1, len(token_positions) - 1)):  # For each prefix position\n",
    "        # Create prefix-permuted version\n",
    "        permuted_prompt, permuted_items = create_prefix_permuted_prompt(prompt, items, k)\n",
    "        permuted_count = count_category_matches(permuted_items, category)\n",
    "        \n",
    "        # Get counterfactual hidden states\n",
    "        permuted_inputs = tokenizer(permuted_prompt, return_tensors=\"pt\", padding=True).to(device)\n",
    "        \n",
    "        # Ensure both sequences have the same length\n",
    "        if permuted_inputs.input_ids.shape[1] != inputs.input_ids.shape[1]:\n",
    "            continue\n",
    "            \n",
    "        counterfactual_hidden_states = get_hidden_states_with_hook(model, permuted_inputs.input_ids)\n",
    "        \n",
    "        # Get the token position for item k\n",
    "        if k >= len(token_positions):\n",
    "            continue\n",
    "        token_pos = token_positions[k]\n",
    "        \n",
    "        # Check if token position is valid\n",
    "        if token_pos >= clean_hidden_states[f\"layer_{layer_idx}\"].shape[1]:\n",
    "            continue\n",
    "        \n",
    "        # Patch at specified layer, token position for item k\n",
    "        def patching_hook(module, input, output):\n",
    "            # Replace hidden state at token position with counterfactual\n",
    "            hidden_states = output[0]\n",
    "            if token_pos < hidden_states.shape[1]:\n",
    "                hidden_states[:, token_pos] = counterfactual_hidden_states[f\"layer_{layer_idx}\"][:, token_pos].to(device)\n",
    "            return (hidden_states,) + output[1:]\n",
    "        \n",
    "        # Register patching hook\n",
    "        hook = model.model.layers[layer_idx].register_forward_hook(patching_hook)\n",
    "        \n",
    "        # Run patched forward pass\n",
    "        with torch.no_grad():\n",
    "            outputs = model.generate(\n",
    "                inputs.input_ids,\n",
    "                max_new_tokens=10,\n",
    "                do_sample=False,\n",
    "                pad_token_id=tokenizer.eos_token_id,\n",
    "                attention_mask=inputs.attention_mask\n",
    "            )\n",
    "        \n",
    "        # Remove hook\n",
    "        hook.remove()\n",
    "        \n",
    "        # Extract predicted number\n",
    "        generated_text = tokenizer.decode(outputs[0], skip_special_tokens=True)\n",
    "        pred_match = re.search(r'\\((\\d+)\\)', generated_text)\n",
    "        if pred_match:\n",
    "            patched_pred = int(pred_match.group(1))\n",
    "        else:\n",
    "            patched_pred = -1\n",
    "        \n",
    "        patching_results.append({\n",
    "            'position': k,\n",
    "            'token_position': token_pos,\n",
    "            'original_answer': gold_answer,\n",
    "            'permuted_answer': permuted_count,\n",
    "            'patched_prediction': patched_pred,\n",
    "            'shifted_correctly': patched_pred == permuted_count\n",
    "        })\n",
    "    \n",
    "    return patching_results\n",
    "\n",
    "def visualize_probe_scores(probe_scores, best_layer):\n",
    "    \"\"\"Visualize probe R² scores across layers\"\"\"\n",
    "    plt.figure(figsize=(12, 6))\n",
    "    \n",
    "    layers = sorted(probe_scores.keys())\n",
    "    scores = [probe_scores[l] for l in layers]\n",
    "    \n",
    "    # Create bar plot\n",
    "    bars = plt.bar(layers, scores, color='skyblue', edgecolor='navy', alpha=0.7)\n",
    "    \n",
    "    # Highlight best layer\n",
    "    bars[best_layer].set_color('red')\n",
    "    bars[best_layer].set_alpha(1.0)\n",
    "    \n",
    "    plt.xlabel('Layer', fontsize=12)\n",
    "    plt.ylabel('R² Score', fontsize=12)\n",
    "    plt.title('Linear Probe Performance Across Layers (Predicting Running Count)', fontsize=14)\n",
    "    plt.grid(True, alpha=0.3)\n",
    "    \n",
    "    # Add value labels on bars\n",
    "    for i, (layer, score) in enumerate(zip(layers, scores)):\n",
    "        if layer == best_layer:\n",
    "            plt.text(layer, score + 0.01, f'{score:.3f}', ha='center', fontweight='bold')\n",
    "        elif i % 4 == 0:  # Show every 4th layer to avoid crowding\n",
    "            plt.text(layer, score + 0.01, f'{score:.3f}', ha='center', fontsize=9)\n",
    "    \n",
    "    plt.tight_layout()\n",
    "    plt.savefig('interp_plots/probe_scores_by_layer.png', dpi=150)\n",
    "    plt.show()\n",
    "\n",
    "def visualize_patching_heatmap(patching_results, layer_idx):\n",
    "    \"\"\"Create heatmap for patching results at a specific layer\"\"\"\n",
    "    if not patching_results:\n",
    "        return\n",
    "    \n",
    "    # Group by position\n",
    "    success_matrix = defaultdict(list)\n",
    "    for result in patching_results:\n",
    "        success_matrix[result['position']].append(int(result['shifted_correctly']))\n",
    "    \n",
    "    if not success_matrix:\n",
    "        return\n",
    "    \n",
    "    # Convert to array for plotting\n",
    "    max_pos = max(success_matrix.keys()) + 1\n",
    "    heatmap_data = np.zeros((1, max_pos))\n",
    "    for pos, successes in success_matrix.items():\n",
    "        heatmap_data[0, pos] = np.mean(successes)\n",
    "    \n",
    "    # Plot\n",
    "    plt.figure(figsize=(12, 3))\n",
    "    sns.heatmap(heatmap_data, \n",
    "                xticklabels=range(max_pos),\n",
    "                yticklabels=[f'Layer {layer_idx}'],\n",
    "                cmap='RdYlGn',\n",
    "                vmin=0, vmax=1,\n",
    "                annot=True, fmt='.2f',\n",
    "                cbar_kws={'label': 'Patching Success Rate'})\n",
    "    plt.xlabel('List Position')\n",
    "    plt.title(f'Impact of Patching Hidden States at Layer {layer_idx}')\n",
    "    plt.tight_layout()\n",
    "    plt.savefig(f'interp_plots/patching_heatmap_layer_{layer_idx}.png', dpi=150)\n",
    "    plt.show()\n",
    "\n",
    "def visualize_averaged_impact(all_layer_results):\n",
    "    \"\"\"Visualize averaged impact across all layers\"\"\"\n",
    "    layer_avg_impacts = {}\n",
    "    \n",
    "    for layer_idx, results in all_layer_results.items():\n",
    "        if results:\n",
    "            # Calculate average success rate across all positions\n",
    "            all_successes = [r['shifted_correctly'] for r in results]\n",
    "            avg_impact = np.mean(all_successes) if all_successes else 0\n",
    "            layer_avg_impacts[layer_idx] = avg_impact\n",
    "    \n",
    "    if not layer_avg_impacts:\n",
    "        return\n",
    "    \n",
    "    # Plot\n",
    "    plt.figure(figsize=(12, 6))\n",
    "    \n",
    "    layers = sorted(layer_avg_impacts.keys())\n",
    "    impacts = [layer_avg_impacts[l] for l in layers]\n",
    "    \n",
    "    plt.plot(layers, impacts, 'o-', linewidth=2, markersize=8, color='darkblue')\n",
    "    plt.fill_between(layers, impacts, alpha=0.3, color='lightblue')\n",
    "    \n",
    "    plt.xlabel('Layer', fontsize=12)\n",
    "    plt.ylabel('Average Patching Success Rate', fontsize=12)\n",
    "    plt.title('Average Impact of Patching Across Layers', fontsize=14)\n",
    "    plt.grid(True, alpha=0.3)\n",
    "    plt.ylim(0, 1.05)\n",
    "    \n",
    "    # Mark the best layer\n",
    "    best_impact_layer = max(layer_avg_impacts, key=layer_avg_impacts.get)\n",
    "    plt.axvline(x=best_impact_layer, color='red', linestyle='--', alpha=0.7, \n",
    "                label=f'Best Layer: {best_impact_layer}')\n",
    "    plt.legend()\n",
    "    \n",
    "    plt.tight_layout()\n",
    "    plt.savefig('interp_plots/average_impact_by_layer.png', dpi=150)\n",
    "    plt.show()\n",
    "\n",
    "def main():\n",
    "    # Set CUDA environment for better debugging\n",
    "    os.environ['CUDA_LAUNCH_BLOCKING'] = '1'\n",
    "    \n",
    "    # Step 1: Extract correct predictions\n",
    "    input_file = \"/net/scratch/slhleosun/counting_items/behavioral_results/llama3-8b-inst/predictions.jsonl\"\n",
    "    output_file = \"correct_predictions.jsonl\"\n",
    "    correct_prompts = extract_correct_predictions(input_file, output_file)\n",
    "    \n",
    "    # Step 2 & 3: Run clean and counterfactual runs, collect hidden states\n",
    "    print(\"\\nCollecting hidden states for clean runs...\")\n",
    "    clean_hidden_states = {}\n",
    "    running_counts_all = {}\n",
    "    token_positions_all = {}\n",
    "    \n",
    "    # Also collect some statistics\n",
    "    total_items = 0\n",
    "    total_matches = 0\n",
    "    \n",
    "    # Process in smaller batches to avoid memory issues\n",
    "    batch_size = 5\n",
    "    num_samples = 100  # Increased from 30 to 100 for better analysis\n",
    "    \n",
    "    for batch_start in range(0, min(num_samples, len(correct_prompts)), batch_size):\n",
    "        batch_end = min(batch_start + batch_size, num_samples, len(correct_prompts))\n",
    "        print(f\"\\nProcessing batch {batch_start//batch_size + 1}/{(num_samples + batch_size - 1)//batch_size}\")\n",
    "        \n",
    "        for idx in tqdm(range(batch_start, batch_end)):\n",
    "            prompt_data = correct_prompts[idx]\n",
    "            prompt = prompt_data['prompt']\n",
    "            \n",
    "            try:\n",
    "                category, items = parse_prompt(prompt)\n",
    "                \n",
    "                # Get token positions for list items\n",
    "                token_positions = get_token_positions_for_items(tokenizer, prompt, items)\n",
    "                \n",
    "                # Skip if we couldn't find enough token positions\n",
    "                if len(token_positions) < len(items) * 0.5:  # If we found less than half\n",
    "                    print(f\"\\nWarning: Could only find {len(token_positions)}/{len(items)} items in prompt {idx}\")\n",
    "                    continue\n",
    "                    \n",
    "                token_positions_all[idx] = token_positions\n",
    "                \n",
    "                # Tokenize\n",
    "                inputs = tokenizer(prompt, return_tensors=\"pt\", padding=True).to(device)\n",
    "                \n",
    "                # Get hidden states\n",
    "                hidden_states = get_hidden_states_with_hook(model, inputs.input_ids)\n",
    "                \n",
    "                # Store hidden states for each layer\n",
    "                for layer_idx in range(num_layers):\n",
    "                    if layer_idx not in clean_hidden_states:\n",
    "                        clean_hidden_states[layer_idx] = {}\n",
    "                    clean_hidden_states[layer_idx][idx] = hidden_states[f\"layer_{layer_idx}\"]\n",
    "                \n",
    "                # Compute cumulative counts at each token position\n",
    "                running_counts = get_cumulative_counts_up_to_position(items, category, token_positions)\n",
    "                running_counts_all[idx] = running_counts\n",
    "                \n",
    "                # Collect statistics\n",
    "                total_items += len(items)\n",
    "                final_count = count_category_matches(items, category)\n",
    "                total_matches += final_count\n",
    "                \n",
    "                # Debug first few examples\n",
    "                if idx < 3:\n",
    "                    print(f\"\\nDebug - Example {idx}:\")\n",
    "                    print(f\"  Category: {category}\")\n",
    "                    print(f\"  Items: {items}\")\n",
    "                    print(f\"  Gold answer: {prompt_data['gold']}\")\n",
    "                    print(f\"  Actual count: {final_count}\")\n",
    "                    print(f\"  Token positions found: {len(token_positions)}/{len(items)}\")\n",
    "                    print(f\"  Running counts: {running_counts}\")\n",
    "                \n",
    "                # Clean up\n",
    "                del inputs\n",
    "                del hidden_states\n",
    "                \n",
    "            except Exception as e:\n",
    "                print(f\"Error processing prompt {idx}: {e}\")\n",
    "                continue\n",
    "        \n",
    "        # Clear GPU memory after each batch\n",
    "        gc.collect()\n",
    "        if torch.cuda.is_available():\n",
    "            torch.cuda.synchronize()\n",
    "            torch.cuda.empty_cache()\n",
    "    \n",
    "    print(f\"\\nDataset statistics:\")\n",
    "    print(f\"  Total items: {total_items}\")\n",
    "    print(f\"  Total matches: {total_matches}\")\n",
    "    print(f\"  Match rate: {total_matches/total_items:.2%}\" if total_items > 0 else \"N/A\")\n",
    "    \n",
    "    # Step 4: Train probes at each layer\n",
    "    print(\"\\nTraining probes at each layer...\")\n",
    "    probe_scores = {}\n",
    "    probes = {}\n",
    "    \n",
    "    for layer_idx in tqdm(range(num_layers)):\n",
    "        if layer_idx in clean_hidden_states and clean_hidden_states[layer_idx]:\n",
    "            probe, score = train_probes(clean_hidden_states[layer_idx], running_counts_all, token_positions_all, layer_idx)\n",
    "            probe_scores[layer_idx] = score\n",
    "            probes[layer_idx] = probe\n",
    "            if layer_idx % 8 == 0:  # Print every 8 layers\n",
    "                print(f\"Layer {layer_idx}: R² score = {score:.4f}\")\n",
    "        else:\n",
    "            probe_scores[layer_idx] = 0.0\n",
    "            probes[layer_idx] = None\n",
    "    \n",
    "    # Find best layer\n",
    "    if probe_scores:\n",
    "        best_layer = max(probe_scores, key=probe_scores.get)\n",
    "        print(f\"\\nBest layer for count tracking: Layer {best_layer} (R² = {probe_scores[best_layer]:.4f})\")\n",
    "        \n",
    "        # Visualize probe scores\n",
    "        visualize_probe_scores(probe_scores, best_layer)\n",
    "    else:\n",
    "        print(\"Error: No probe scores computed\")\n",
    "        return\n",
    "    \n",
    "    # Step 5 & 6: Patch and evaluate on multiple layers\n",
    "    print(\"\\nPatching and evaluating...\")\n",
    "    \n",
    "    # Select layers to evaluate - best layer + evenly spaced others\n",
    "    layers_to_evaluate = [best_layer]  # Start with best layer\n",
    "    other_layers = [i for i in range(0, num_layers, 4) if i != best_layer]  # Every 4th layer\n",
    "    layers_to_evaluate.extend(other_layers)\n",
    "    layers_to_evaluate = sorted(set(layers_to_evaluate))  # Remove duplicates and sort\n",
    "    \n",
    "    print(f\"Evaluating layers: {layers_to_evaluate}\")\n",
    "    \n",
    "    all_layer_results = {}\n",
    "    num_prompts_to_patch = min(100, len(correct_prompts))  # Increased from 20 to 100\n",
    "    \n",
    "    for layer_idx in layers_to_evaluate:\n",
    "        print(f\"\\nPatching at layer {layer_idx}...\")\n",
    "        layer_patching_results = []\n",
    "        \n",
    "        for prompt_data in tqdm(correct_prompts[:num_prompts_to_patch]):\n",
    "            try:\n",
    "                results = patch_and_evaluate(model, tokenizer, prompt_data, layer_idx, probes)\n",
    "                layer_patching_results.extend(results)\n",
    "            except Exception as e:\n",
    "                print(f\"Error patching prompt: {e}\")\n",
    "                continue\n",
    "        \n",
    "        all_layer_results[layer_idx] = layer_patching_results\n",
    "        \n",
    "        # Visualize results for this layer\n",
    "        if layer_patching_results:\n",
    "            visualize_patching_heatmap(layer_patching_results, layer_idx)\n",
    "        \n",
    "        # Clear memory\n",
    "        gc.collect()\n",
    "        if torch.cuda.is_available():\n",
    "            torch.cuda.synchronize()\n",
    "            torch.cuda.empty_cache()\n",
    "    \n",
    "    # Step 7: Final visualization - averaged impact across layers\n",
    "    print(\"\\nCreating final visualizations...\")\n",
    "    visualize_averaged_impact(all_layer_results)\n",
    "    \n",
    "    # Save detailed results\n",
    "    with open('patching_results.json', 'w') as f:\n",
    "        json.dump({\n",
    "            'probe_scores': probe_scores,\n",
    "            'best_layer': best_layer,\n",
    "            'layers_evaluated': layers_to_evaluate,\n",
    "            'patching_results_by_layer': {str(k): v for k, v in all_layer_results.items()},\n",
    "            'dataset_stats': {\n",
    "                'total_items': total_items,\n",
    "                'total_matches': total_matches,\n",
    "                'match_rate': total_matches/total_items if total_items > 0 else 0\n",
    "            }\n",
    "        }, f, indent=2)\n",
    "    \n",
    "    print(\"\\nAnalysis complete! Results saved to patching_results.json and plots in interp_plots/\")\n",
    "\n",
    "if __name__ == \"__main__\":\n",
    "    main()"
   ]
  },
  {
   "cell_type": "code",
   "execution_count": 1,
   "id": "1eb5df91-bdc2-4fc8-a7f6-b1ffd9dc77d5",
   "metadata": {
    "scrolled": true
   },
   "outputs": [
    {
     "name": "stdout",
     "output_type": "stream",
     "text": [
      "Using device: cuda\n",
      "Loading model and tokenizer...\n"
     ]
    },
    {
     "data": {
      "application/vnd.jupyter.widget-view+json": {
       "model_id": "74d867f64b6345688848d44b1b4a3319",
       "version_major": 2,
       "version_minor": 0
      },
      "text/plain": [
       "Loading checkpoint shards:   0%|          | 0/4 [00:00<?, ?it/s]"
      ]
     },
     "metadata": {},
     "output_type": "display_data"
    },
    {
     "name": "stdout",
     "output_type": "stream",
     "text": [
      "Model has 32 layers\n",
      "Extracted 200 correct predictions\n",
      "\n",
      "Collecting hidden states for clean runs...\n",
      "\n",
      "Processing batch 1/20\n"
     ]
    },
    {
     "name": "stderr",
     "output_type": "stream",
     "text": [
      "  0%|                                                                           | 0/5 [00:00<?, ?it/s]"
     ]
    },
    {
     "name": "stdout",
     "output_type": "stream",
     "text": [
      "\n",
      "Debug - Tokenization:\n",
      "  Tokens (first 40): ['<|begin_of_text|>', 'Count', 'Ġthe', 'Ġnumber', 'Ġof', 'Ġwords', 'Ġin', 'Ġthe', 'Ġfollowing', 'Ġlist', 'Ġthat', 'Ġmatch', 'Ġthe', 'Ġgiven', 'Ġtype', ',', 'Ġand', 'Ġput', 'Ġthe', 'Ġnumerical', 'Ġanswer', 'Ġin', 'Ġparentheses', '.Ċ', 'Type', ':', 'Ġfruit', 'Ċ', 'List', ':', 'Ġ[', 'st', 'ool', ',', 'Ġbear', ',', 'Ġlion', ',', 'Ġsheep', ',']\n",
      "  Looking for items: ['stool', 'bear', 'lion', 'sheep', 'tangerine', 'peach']\n",
      "  Found positions: [31, 34, 36, 38, 40, 44]\n",
      "  Valid positions: [31, 34, 36, 38, 40, 44]\n"
     ]
    },
    {
     "name": "stderr",
     "output_type": "stream",
     "text": [
      "/tmp/ipykernel_1212579/1999086641.py:224: FutureWarning: `torch.cuda.amp.autocast(args...)` is deprecated. Please use `torch.amp.autocast('cuda', args...)` instead.\n",
      "  with torch.cuda.amp.autocast():  # Use mixed precision to save memory\n",
      " 60%|████████████████████████████████████████▏                          | 3/5 [00:13<00:06,  3.48s/it]"
     ]
    },
    {
     "name": "stdout",
     "output_type": "stream",
     "text": [
      "\n",
      "Debug - Example 0:\n",
      "  Category: fruit\n",
      "  Items: ['stool', 'bear', 'lion', 'sheep', 'tangerine', 'peach']\n",
      "  Gold answer: 2\n",
      "  Actual count: 2\n",
      "  Token positions found: 6/6\n",
      "  Running counts: [0, 0, 0, 0, 1, 2]\n",
      "\n",
      "Debug - Example 1:\n",
      "  Category: furniture\n",
      "  Items: ['trumpet', 'horse', 'cabinet', 'table', 'desk', 'flute']\n",
      "  Gold answer: 3\n",
      "  Actual count: 3\n",
      "  Token positions found: 6/6\n",
      "  Running counts: [0, 0, 1, 2, 3, 3]\n",
      "\n",
      "Debug - Example 2:\n",
      "  Category: instrument\n",
      "  Items: ['scooter', 'cello', 'bear', 'apple', 'dog', 'desk', 'plane']\n",
      "  Gold answer: 1\n",
      "  Actual count: 1\n",
      "  Token positions found: 6/7\n",
      "  Running counts: [0, 1, 1, 1, 1, 1]\n"
     ]
    },
    {
     "name": "stderr",
     "output_type": "stream",
     "text": [
      "100%|███████████████████████████████████████████████████████████████████| 5/5 [00:13<00:00,  2.71s/it]\n"
     ]
    },
    {
     "name": "stdout",
     "output_type": "stream",
     "text": [
      "\n",
      "Processing batch 2/20\n"
     ]
    },
    {
     "name": "stderr",
     "output_type": "stream",
     "text": [
      "100%|███████████████████████████████████████████████████████████████████| 5/5 [00:00<00:00,  5.64it/s]\n"
     ]
    },
    {
     "name": "stdout",
     "output_type": "stream",
     "text": [
      "\n",
      "Processing batch 3/20\n"
     ]
    },
    {
     "name": "stderr",
     "output_type": "stream",
     "text": [
      "100%|███████████████████████████████████████████████████████████████████| 5/5 [00:01<00:00,  4.90it/s]\n"
     ]
    },
    {
     "name": "stdout",
     "output_type": "stream",
     "text": [
      "\n",
      "Processing batch 4/20\n"
     ]
    },
    {
     "name": "stderr",
     "output_type": "stream",
     "text": [
      "100%|███████████████████████████████████████████████████████████████████| 5/5 [00:00<00:00,  5.16it/s]\n"
     ]
    },
    {
     "name": "stdout",
     "output_type": "stream",
     "text": [
      "\n",
      "Processing batch 5/20\n"
     ]
    },
    {
     "name": "stderr",
     "output_type": "stream",
     "text": [
      "100%|███████████████████████████████████████████████████████████████████| 5/5 [00:00<00:00,  5.24it/s]\n"
     ]
    },
    {
     "name": "stdout",
     "output_type": "stream",
     "text": [
      "\n",
      "Processing batch 6/20\n"
     ]
    },
    {
     "name": "stderr",
     "output_type": "stream",
     "text": [
      "100%|███████████████████████████████████████████████████████████████████| 5/5 [00:00<00:00,  5.29it/s]\n"
     ]
    },
    {
     "name": "stdout",
     "output_type": "stream",
     "text": [
      "\n",
      "Processing batch 7/20\n"
     ]
    },
    {
     "name": "stderr",
     "output_type": "stream",
     "text": [
      "100%|███████████████████████████████████████████████████████████████████| 5/5 [00:00<00:00,  5.76it/s]\n"
     ]
    },
    {
     "name": "stdout",
     "output_type": "stream",
     "text": [
      "\n",
      "Processing batch 8/20\n"
     ]
    },
    {
     "name": "stderr",
     "output_type": "stream",
     "text": [
      "100%|███████████████████████████████████████████████████████████████████| 5/5 [00:00<00:00,  5.67it/s]\n"
     ]
    },
    {
     "name": "stdout",
     "output_type": "stream",
     "text": [
      "\n",
      "Processing batch 9/20\n"
     ]
    },
    {
     "name": "stderr",
     "output_type": "stream",
     "text": [
      "100%|███████████████████████████████████████████████████████████████████| 5/5 [00:01<00:00,  4.78it/s]\n"
     ]
    },
    {
     "name": "stdout",
     "output_type": "stream",
     "text": [
      "\n",
      "Processing batch 10/20\n"
     ]
    },
    {
     "name": "stderr",
     "output_type": "stream",
     "text": [
      "100%|███████████████████████████████████████████████████████████████████| 5/5 [00:01<00:00,  4.96it/s]\n"
     ]
    },
    {
     "name": "stdout",
     "output_type": "stream",
     "text": [
      "\n",
      "Processing batch 11/20\n"
     ]
    },
    {
     "name": "stderr",
     "output_type": "stream",
     "text": [
      "100%|███████████████████████████████████████████████████████████████████| 5/5 [00:00<00:00,  5.19it/s]\n"
     ]
    },
    {
     "name": "stdout",
     "output_type": "stream",
     "text": [
      "\n",
      "Processing batch 12/20\n"
     ]
    },
    {
     "name": "stderr",
     "output_type": "stream",
     "text": [
      "100%|███████████████████████████████████████████████████████████████████| 5/5 [00:00<00:00,  5.85it/s]\n"
     ]
    },
    {
     "name": "stdout",
     "output_type": "stream",
     "text": [
      "\n",
      "Processing batch 13/20\n"
     ]
    },
    {
     "name": "stderr",
     "output_type": "stream",
     "text": [
      "100%|███████████████████████████████████████████████████████████████████| 5/5 [00:01<00:00,  4.80it/s]\n"
     ]
    },
    {
     "name": "stdout",
     "output_type": "stream",
     "text": [
      "\n",
      "Processing batch 14/20\n"
     ]
    },
    {
     "name": "stderr",
     "output_type": "stream",
     "text": [
      "100%|███████████████████████████████████████████████████████████████████| 5/5 [00:00<00:00,  5.14it/s]\n"
     ]
    },
    {
     "name": "stdout",
     "output_type": "stream",
     "text": [
      "\n",
      "Processing batch 15/20\n"
     ]
    },
    {
     "name": "stderr",
     "output_type": "stream",
     "text": [
      "100%|███████████████████████████████████████████████████████████████████| 5/5 [00:00<00:00,  5.15it/s]\n"
     ]
    },
    {
     "name": "stdout",
     "output_type": "stream",
     "text": [
      "\n",
      "Processing batch 16/20\n"
     ]
    },
    {
     "name": "stderr",
     "output_type": "stream",
     "text": [
      "  0%|                                                                           | 0/5 [00:00<?, ?it/s]"
     ]
    },
    {
     "name": "stdout",
     "output_type": "stream",
     "text": [
      "\n",
      "Debug - Tokenization:\n",
      "  Tokens (first 40): ['<|begin_of_text|>', 'Count', 'Ġthe', 'Ġnumber', 'Ġof', 'Ġwords', 'Ġin', 'Ġthe', 'Ġfollowing', 'Ġlist', 'Ġthat', 'Ġmatch', 'Ġthe', 'Ġgiven', 'Ġtype', ',', 'Ġand', 'Ġput', 'Ġthe', 'Ġnumerical', 'Ġanswer', 'Ġin', 'Ġparentheses', '.Ċ', 'Type', ':', 'Ġvehicle', 'Ċ', 'List', ':', 'Ġ[', 'st', 'ool', ',', 'Ġpear', ',', 'Ġplane', ',', 'Ġpeach', ',']\n",
      "  Looking for items: ['stool', 'pear', 'plane', 'peach', 'chair', 'dresser', 'scooter']\n",
      "  Found positions: [31, 34, 36, 38, 40, 42, 44]\n",
      "  Valid positions: [31, 34, 36, 38, 40, 42, 44]\n"
     ]
    },
    {
     "name": "stderr",
     "output_type": "stream",
     "text": [
      "100%|███████████████████████████████████████████████████████████████████| 5/5 [00:00<00:00,  5.34it/s]\n"
     ]
    },
    {
     "name": "stdout",
     "output_type": "stream",
     "text": [
      "\n",
      "Processing batch 17/20\n"
     ]
    },
    {
     "name": "stderr",
     "output_type": "stream",
     "text": [
      "100%|███████████████████████████████████████████████████████████████████| 5/5 [00:00<00:00,  5.80it/s]\n"
     ]
    },
    {
     "name": "stdout",
     "output_type": "stream",
     "text": [
      "\n",
      "Debug - Tokenization:\n",
      "  Tokens (first 40): ['<|begin_of_text|>', 'Count', 'Ġthe', 'Ġnumber', 'Ġof', 'Ġwords', 'Ġin', 'Ġthe', 'Ġfollowing', 'Ġlist', 'Ġthat', 'Ġmatch', 'Ġthe', 'Ġgiven', 'Ġtype', ',', 'Ġand', 'Ġput', 'Ġthe', 'Ġnumerical', 'Ġanswer', 'Ġin', 'Ġparentheses', '.Ċ', 'Type', ':', 'Ġfruit', 'Ċ', 'List', ':', 'Ġ[', 'st', 'ool', ',', 'Ġpiano', ',', 'Ġorange', ',', 'Ġsheep', ',']\n",
      "  Looking for items: ['stool', 'piano', 'orange', 'sheep', 'clarinet', 'truck', 'dresser', 'chair', 'horse', 'harp']\n",
      "  Found positions: [31, 34, 36, 38, 40, 43, 45, 47, 49, -1]\n",
      "  Valid positions: [31, 34, 36, 38, 40, 43, 45, 47, 49]\n",
      "\n",
      "Processing batch 18/20\n"
     ]
    },
    {
     "name": "stderr",
     "output_type": "stream",
     "text": [
      "100%|███████████████████████████████████████████████████████████████████| 5/5 [00:00<00:00,  5.33it/s]\n"
     ]
    },
    {
     "name": "stdout",
     "output_type": "stream",
     "text": [
      "\n",
      "Processing batch 19/20\n"
     ]
    },
    {
     "name": "stderr",
     "output_type": "stream",
     "text": [
      "100%|███████████████████████████████████████████████████████████████████| 5/5 [00:01<00:00,  4.50it/s]\n"
     ]
    },
    {
     "name": "stdout",
     "output_type": "stream",
     "text": [
      "\n",
      "Processing batch 20/20\n"
     ]
    },
    {
     "name": "stderr",
     "output_type": "stream",
     "text": [
      "100%|███████████████████████████████████████████████████████████████████| 5/5 [00:00<00:00,  5.82it/s]\n"
     ]
    },
    {
     "name": "stdout",
     "output_type": "stream",
     "text": [
      "\n",
      "Dataset statistics:\n",
      "  Total items: 908\n",
      "  Total matches: 189\n",
      "  Match rate: 20.81%\n",
      "\n",
      "Training probes at each layer...\n"
     ]
    },
    {
     "name": "stderr",
     "output_type": "stream",
     "text": [
      "  0%|                                                                          | 0/32 [00:00<?, ?it/s]"
     ]
    },
    {
     "name": "stdout",
     "output_type": "stream",
     "text": [
      "\n",
      "Debug - Prompt 0:\n",
      "  Running counts: [0, 0, 0, 0, 1, 2]\n",
      "  Token positions: [31, 34, 36, 38, 40, 44]\n",
      "  Hidden states shape: torch.Size([1, 49, 4096])\n",
      "\n",
      "Debug - Training data for layer 0:\n",
      "  X shape: (860, 4096)\n",
      "  y shape: (860,)\n",
      "  y unique values: [0 1 2 3]\n",
      "  y mean: 0.943, std: 0.848\n"
     ]
    },
    {
     "name": "stderr",
     "output_type": "stream",
     "text": [
      "  3%|██                                                                | 1/32 [00:01<01:01,  1.99s/it]"
     ]
    },
    {
     "name": "stdout",
     "output_type": "stream",
     "text": [
      "  Best alpha: 0.1\n",
      "  CV score: 0.2857\n",
      "  Test R² score: 0.3468\n",
      "Layer 0: R² score = 0.3468\n"
     ]
    },
    {
     "name": "stderr",
     "output_type": "stream",
     "text": [
      " 28%|██████████████████▌                                               | 9/32 [00:17<00:47,  2.05s/it]"
     ]
    },
    {
     "name": "stdout",
     "output_type": "stream",
     "text": [
      "Layer 8: R² score = 0.6370\n"
     ]
    },
    {
     "name": "stderr",
     "output_type": "stream",
     "text": [
      " 53%|██████████████████████████████████▌                              | 17/32 [00:33<00:30,  2.00s/it]"
     ]
    },
    {
     "name": "stdout",
     "output_type": "stream",
     "text": [
      "Layer 16: R² score = 0.8161\n"
     ]
    },
    {
     "name": "stderr",
     "output_type": "stream",
     "text": [
      " 78%|██████████████████████████████████████████████████▊              | 25/32 [00:49<00:13,  1.94s/it]"
     ]
    },
    {
     "name": "stdout",
     "output_type": "stream",
     "text": [
      "Layer 24: R² score = 0.7465\n"
     ]
    },
    {
     "name": "stderr",
     "output_type": "stream",
     "text": [
      "100%|█████████████████████████████████████████████████████████████████| 32/32 [01:03<00:00,  1.99s/it]\n"
     ]
    },
    {
     "name": "stdout",
     "output_type": "stream",
     "text": [
      "\n",
      "Best layer for count tracking: Layer 13 (R² = 0.8215)\n"
     ]
    },
    {
     "data": {
      "image/png": "[encoded data removed]",
      "text/plain": [
       "<Figure size 1200x600 with 1 Axes>"
      ]
     },
     "metadata": {},
     "output_type": "display_data"
    },
    {
     "name": "stdout",
     "output_type": "stream",
     "text": [
      "\n",
      "Patching and evaluating...\n",
      "Evaluating layers: [0, 4, 8, 12, 13, 16, 20, 24, 28]\n",
      "\n",
      "Patching at layer 0...\n"
     ]
    },
    {
     "name": "stderr",
     "output_type": "stream",
     "text": [
      "  0%|                                                                         | 0/100 [00:00<?, ?it/s]"
     ]
    },
    {
     "name": "stdout",
     "output_type": "stream",
     "text": [
      "\n",
      "Debug - Tokenization:\n",
      "  Tokens (first 40): ['<|begin_of_text|>', 'Count', 'Ġthe', 'Ġnumber', 'Ġof', 'Ġwords', 'Ġin', 'Ġthe', 'Ġfollowing', 'Ġlist', 'Ġthat', 'Ġmatch', 'Ġthe', 'Ġgiven', 'Ġtype', ',', 'Ġand', 'Ġput', 'Ġthe', 'Ġnumerical', 'Ġanswer', 'Ġin', 'Ġparentheses', '.Ċ', 'Type', ':', 'Ġfruit', 'Ċ', 'List', ':', 'Ġ[', 'st', 'ool', ',', 'Ġbear', ',', 'Ġlion', ',', 'Ġsheep', ',']\n",
      "  Looking for items: ['stool', 'bear', 'lion', 'sheep', 'tangerine', 'peach']\n",
      "  Found positions: [31, 34, 36, 38, 40, 44]\n",
      "  Valid positions: [31, 34, 36, 38, 40, 44]\n"
     ]
    },
    {
     "name": "stderr",
     "output_type": "stream",
     "text": [
      "/tmp/ipykernel_1212579/1999086641.py:224: FutureWarning: `torch.cuda.amp.autocast(args...)` is deprecated. Please use `torch.amp.autocast('cuda', args...)` instead.\n",
      "  with torch.cuda.amp.autocast():  # Use mixed precision to save memory\n",
      "/net/scratch/slhleosun/miniconda3/envs/fixed_ai_env/lib/python3.11/site-packages/transformers/generation/configuration_utils.py:628: UserWarning: `do_sample` is set to `False`. However, `temperature` is set to `0.6` -- this flag is only used in sample-based generation modes. You should set `do_sample=True` or unset `temperature`.\n",
      "  warnings.warn(\n",
      "/net/scratch/slhleosun/miniconda3/envs/fixed_ai_env/lib/python3.11/site-packages/transformers/generation/configuration_utils.py:633: UserWarning: `do_sample` is set to `False`. However, `top_p` is set to `0.9` -- this flag is only used in sample-based generation modes. You should set `do_sample=True` or unset `top_p`.\n",
      "  warnings.warn(\n",
      " 75%|████████████████████████████████████████████████                | 75/100 [01:49<00:38,  1.56s/it]"
     ]
    },
    {
     "name": "stdout",
     "output_type": "stream",
     "text": [
      "\n",
      "Debug - Tokenization:\n",
      "  Tokens (first 40): ['<|begin_of_text|>', 'Count', 'Ġthe', 'Ġnumber', 'Ġof', 'Ġwords', 'Ġin', 'Ġthe', 'Ġfollowing', 'Ġlist', 'Ġthat', 'Ġmatch', 'Ġthe', 'Ġgiven', 'Ġtype', ',', 'Ġand', 'Ġput', 'Ġthe', 'Ġnumerical', 'Ġanswer', 'Ġin', 'Ġparentheses', '.Ċ', 'Type', ':', 'Ġvehicle', 'Ċ', 'List', ':', 'Ġ[', 'st', 'ool', ',', 'Ġpear', ',', 'Ġplane', ',', 'Ġpeach', ',']\n",
      "  Looking for items: ['stool', 'pear', 'plane', 'peach', 'chair', 'dresser', 'scooter']\n",
      "  Found positions: [31, 34, 36, 38, 40, 42, 44]\n",
      "  Valid positions: [31, 34, 36, 38, 40, 42, 44]\n"
     ]
    },
    {
     "name": "stderr",
     "output_type": "stream",
     "text": [
      " 82%|████████████████████████████████████████████████████▍           | 82/100 [01:58<00:24,  1.37s/it]"
     ]
    },
    {
     "name": "stdout",
     "output_type": "stream",
     "text": [
      "\n",
      "Debug - Tokenization:\n",
      "  Tokens (first 40): ['<|begin_of_text|>', 'Count', 'Ġthe', 'Ġnumber', 'Ġof', 'Ġwords', 'Ġin', 'Ġthe', 'Ġfollowing', 'Ġlist', 'Ġthat', 'Ġmatch', 'Ġthe', 'Ġgiven', 'Ġtype', ',', 'Ġand', 'Ġput', 'Ġthe', 'Ġnumerical', 'Ġanswer', 'Ġin', 'Ġparentheses', '.Ċ', 'Type', ':', 'Ġfruit', 'Ċ', 'List', ':', 'Ġ[', 'st', 'ool', ',', 'Ġpiano', ',', 'Ġorange', ',', 'Ġsheep', ',']\n",
      "  Looking for items: ['stool', 'piano', 'orange', 'sheep', 'clarinet', 'truck', 'dresser', 'chair', 'horse', 'harp']\n",
      "  Found positions: [31, 34, 36, 38, 40, 43, 45, 47, 49, -1]\n",
      "  Valid positions: [31, 34, 36, 38, 40, 43, 45, 47, 49]\n"
     ]
    },
    {
     "name": "stderr",
     "output_type": "stream",
     "text": [
      "100%|███████████████████████████████████████████████████████████████| 100/100 [02:25<00:00,  1.46s/it]\n"
     ]
    },
    {
     "data": {
      "image/png": "[encoded data removed]",
      "text/plain": [
       "<Figure size 1200x300 with 2 Axes>"
      ]
     },
     "metadata": {},
     "output_type": "display_data"
    },
    {
     "name": "stdout",
     "output_type": "stream",
     "text": [
      "\n",
      "Patching at layer 4...\n"
     ]
    },
    {
     "name": "stderr",
     "output_type": "stream",
     "text": [
      "  0%|                                                                         | 0/100 [00:00<?, ?it/s]"
     ]
    },
    {
     "name": "stdout",
     "output_type": "stream",
     "text": [
      "\n",
      "Debug - Tokenization:\n",
      "  Tokens (first 40): ['<|begin_of_text|>', 'Count', 'Ġthe', 'Ġnumber', 'Ġof', 'Ġwords', 'Ġin', 'Ġthe', 'Ġfollowing', 'Ġlist', 'Ġthat', 'Ġmatch', 'Ġthe', 'Ġgiven', 'Ġtype', ',', 'Ġand', 'Ġput', 'Ġthe', 'Ġnumerical', 'Ġanswer', 'Ġin', 'Ġparentheses', '.Ċ', 'Type', ':', 'Ġfruit', 'Ċ', 'List', ':', 'Ġ[', 'st', 'ool', ',', 'Ġbear', ',', 'Ġlion', ',', 'Ġsheep', ',']\n",
      "  Looking for items: ['stool', 'bear', 'lion', 'sheep', 'tangerine', 'peach']\n",
      "  Found positions: [31, 34, 36, 38, 40, 44]\n",
      "  Valid positions: [31, 34, 36, 38, 40, 44]\n"
     ]
    },
    {
     "name": "stderr",
     "output_type": "stream",
     "text": [
      "/tmp/ipykernel_1212579/1999086641.py:224: FutureWarning: `torch.cuda.amp.autocast(args...)` is deprecated. Please use `torch.amp.autocast('cuda', args...)` instead.\n",
      "  with torch.cuda.amp.autocast():  # Use mixed precision to save memory\n",
      "/net/scratch/slhleosun/miniconda3/envs/fixed_ai_env/lib/python3.11/site-packages/transformers/generation/configuration_utils.py:628: UserWarning: `do_sample` is set to `False`. However, `temperature` is set to `0.6` -- this flag is only used in sample-based generation modes. You should set `do_sample=True` or unset `temperature`.\n",
      "  warnings.warn(\n",
      "/net/scratch/slhleosun/miniconda3/envs/fixed_ai_env/lib/python3.11/site-packages/transformers/generation/configuration_utils.py:633: UserWarning: `do_sample` is set to `False`. However, `top_p` is set to `0.9` -- this flag is only used in sample-based generation modes. You should set `do_sample=True` or unset `top_p`.\n",
      "  warnings.warn(\n",
      " 75%|████████████████████████████████████████████████                | 75/100 [01:49<00:41,  1.66s/it]"
     ]
    },
    {
     "name": "stdout",
     "output_type": "stream",
     "text": [
      "\n",
      "Debug - Tokenization:\n",
      "  Tokens (first 40): ['<|begin_of_text|>', 'Count', 'Ġthe', 'Ġnumber', 'Ġof', 'Ġwords', 'Ġin', 'Ġthe', 'Ġfollowing', 'Ġlist', 'Ġthat', 'Ġmatch', 'Ġthe', 'Ġgiven', 'Ġtype', ',', 'Ġand', 'Ġput', 'Ġthe', 'Ġnumerical', 'Ġanswer', 'Ġin', 'Ġparentheses', '.Ċ', 'Type', ':', 'Ġvehicle', 'Ċ', 'List', ':', 'Ġ[', 'st', 'ool', ',', 'Ġpear', ',', 'Ġplane', ',', 'Ġpeach', ',']\n",
      "  Looking for items: ['stool', 'pear', 'plane', 'peach', 'chair', 'dresser', 'scooter']\n",
      "  Found positions: [31, 34, 36, 38, 40, 42, 44]\n",
      "  Valid positions: [31, 34, 36, 38, 40, 42, 44]\n"
     ]
    },
    {
     "name": "stderr",
     "output_type": "stream",
     "text": [
      " 82%|████████████████████████████████████████████████████▍           | 82/100 [01:58<00:26,  1.48s/it]"
     ]
    },
    {
     "name": "stdout",
     "output_type": "stream",
     "text": [
      "\n",
      "Debug - Tokenization:\n",
      "  Tokens (first 40): ['<|begin_of_text|>', 'Count', 'Ġthe', 'Ġnumber', 'Ġof', 'Ġwords', 'Ġin', 'Ġthe', 'Ġfollowing', 'Ġlist', 'Ġthat', 'Ġmatch', 'Ġthe', 'Ġgiven', 'Ġtype', ',', 'Ġand', 'Ġput', 'Ġthe', 'Ġnumerical', 'Ġanswer', 'Ġin', 'Ġparentheses', '.Ċ', 'Type', ':', 'Ġfruit', 'Ċ', 'List', ':', 'Ġ[', 'st', 'ool', ',', 'Ġpiano', ',', 'Ġorange', ',', 'Ġsheep', ',']\n",
      "  Looking for items: ['stool', 'piano', 'orange', 'sheep', 'clarinet', 'truck', 'dresser', 'chair', 'horse', 'harp']\n",
      "  Found positions: [31, 34, 36, 38, 40, 43, 45, 47, 49, -1]\n",
      "  Valid positions: [31, 34, 36, 38, 40, 43, 45, 47, 49]\n"
     ]
    },
    {
     "name": "stderr",
     "output_type": "stream",
     "text": [
      "100%|███████████████████████████████████████████████████████████████| 100/100 [02:23<00:00,  1.43s/it]\n"
     ]
    },
    {
     "data": {
      "image/png": "[encoded data removed]",
      "text/plain": [
       "<Figure size 1200x300 with 2 Axes>"
      ]
     },
     "metadata": {},
     "output_type": "display_data"
    },
    {
     "name": "stdout",
     "output_type": "stream",
     "text": [
      "\n",
      "Patching at layer 8...\n"
     ]
    },
    {
     "name": "stderr",
     "output_type": "stream",
     "text": [
      "  0%|                                                                         | 0/100 [00:00<?, ?it/s]"
     ]
    },
    {
     "name": "stdout",
     "output_type": "stream",
     "text": [
      "\n",
      "Debug - Tokenization:\n",
      "  Tokens (first 40): ['<|begin_of_text|>', 'Count', 'Ġthe', 'Ġnumber', 'Ġof', 'Ġwords', 'Ġin', 'Ġthe', 'Ġfollowing', 'Ġlist', 'Ġthat', 'Ġmatch', 'Ġthe', 'Ġgiven', 'Ġtype', ',', 'Ġand', 'Ġput', 'Ġthe', 'Ġnumerical', 'Ġanswer', 'Ġin', 'Ġparentheses', '.Ċ', 'Type', ':', 'Ġfruit', 'Ċ', 'List', ':', 'Ġ[', 'st', 'ool', ',', 'Ġbear', ',', 'Ġlion', ',', 'Ġsheep', ',']\n",
      "  Looking for items: ['stool', 'bear', 'lion', 'sheep', 'tangerine', 'peach']\n",
      "  Found positions: [31, 34, 36, 38, 40, 44]\n",
      "  Valid positions: [31, 34, 36, 38, 40, 44]\n"
     ]
    },
    {
     "name": "stderr",
     "output_type": "stream",
     "text": [
      "/tmp/ipykernel_1212579/1999086641.py:224: FutureWarning: `torch.cuda.amp.autocast(args...)` is deprecated. Please use `torch.amp.autocast('cuda', args...)` instead.\n",
      "  with torch.cuda.amp.autocast():  # Use mixed precision to save memory\n",
      "/net/scratch/slhleosun/miniconda3/envs/fixed_ai_env/lib/python3.11/site-packages/transformers/generation/configuration_utils.py:628: UserWarning: `do_sample` is set to `False`. However, `temperature` is set to `0.6` -- this flag is only used in sample-based generation modes. You should set `do_sample=True` or unset `temperature`.\n",
      "  warnings.warn(\n",
      "/net/scratch/slhleosun/miniconda3/envs/fixed_ai_env/lib/python3.11/site-packages/transformers/generation/configuration_utils.py:633: UserWarning: `do_sample` is set to `False`. However, `top_p` is set to `0.9` -- this flag is only used in sample-based generation modes. You should set `do_sample=True` or unset `top_p`.\n",
      "  warnings.warn(\n",
      " 75%|████████████████████████████████████████████████                | 75/100 [01:50<00:39,  1.57s/it]"
     ]
    },
    {
     "name": "stdout",
     "output_type": "stream",
     "text": [
      "\n",
      "Debug - Tokenization:\n",
      "  Tokens (first 40): ['<|begin_of_text|>', 'Count', 'Ġthe', 'Ġnumber', 'Ġof', 'Ġwords', 'Ġin', 'Ġthe', 'Ġfollowing', 'Ġlist', 'Ġthat', 'Ġmatch', 'Ġthe', 'Ġgiven', 'Ġtype', ',', 'Ġand', 'Ġput', 'Ġthe', 'Ġnumerical', 'Ġanswer', 'Ġin', 'Ġparentheses', '.Ċ', 'Type', ':', 'Ġvehicle', 'Ċ', 'List', ':', 'Ġ[', 'st', 'ool', ',', 'Ġpear', ',', 'Ġplane', ',', 'Ġpeach', ',']\n",
      "  Looking for items: ['stool', 'pear', 'plane', 'peach', 'chair', 'dresser', 'scooter']\n",
      "  Found positions: [31, 34, 36, 38, 40, 42, 44]\n",
      "  Valid positions: [31, 34, 36, 38, 40, 42, 44]\n"
     ]
    },
    {
     "name": "stderr",
     "output_type": "stream",
     "text": [
      " 82%|████████████████████████████████████████████████████▍           | 82/100 [01:59<00:25,  1.42s/it]"
     ]
    },
    {
     "name": "stdout",
     "output_type": "stream",
     "text": [
      "\n",
      "Debug - Tokenization:\n",
      "  Tokens (first 40): ['<|begin_of_text|>', 'Count', 'Ġthe', 'Ġnumber', 'Ġof', 'Ġwords', 'Ġin', 'Ġthe', 'Ġfollowing', 'Ġlist', 'Ġthat', 'Ġmatch', 'Ġthe', 'Ġgiven', 'Ġtype', ',', 'Ġand', 'Ġput', 'Ġthe', 'Ġnumerical', 'Ġanswer', 'Ġin', 'Ġparentheses', '.Ċ', 'Type', ':', 'Ġfruit', 'Ċ', 'List', ':', 'Ġ[', 'st', 'ool', ',', 'Ġpiano', ',', 'Ġorange', ',', 'Ġsheep', ',']\n",
      "  Looking for items: ['stool', 'piano', 'orange', 'sheep', 'clarinet', 'truck', 'dresser', 'chair', 'horse', 'harp']\n",
      "  Found positions: [31, 34, 36, 38, 40, 43, 45, 47, 49, -1]\n",
      "  Valid positions: [31, 34, 36, 38, 40, 43, 45, 47, 49]\n"
     ]
    },
    {
     "name": "stderr",
     "output_type": "stream",
     "text": [
      "100%|███████████████████████████████████████████████████████████████| 100/100 [02:25<00:00,  1.46s/it]\n"
     ]
    },
    {
     "data": {
      "image/png": "[encoded data removed]",
      "text/plain": [
       "<Figure size 1200x300 with 2 Axes>"
      ]
     },
     "metadata": {},
     "output_type": "display_data"
    },
    {
     "name": "stdout",
     "output_type": "stream",
     "text": [
      "\n",
      "Patching at layer 12...\n"
     ]
    },
    {
     "name": "stderr",
     "output_type": "stream",
     "text": [
      "  0%|                                                                         | 0/100 [00:00<?, ?it/s]"
     ]
    },
    {
     "name": "stdout",
     "output_type": "stream",
     "text": [
      "\n",
      "Debug - Tokenization:\n",
      "  Tokens (first 40): ['<|begin_of_text|>', 'Count', 'Ġthe', 'Ġnumber', 'Ġof', 'Ġwords', 'Ġin', 'Ġthe', 'Ġfollowing', 'Ġlist', 'Ġthat', 'Ġmatch', 'Ġthe', 'Ġgiven', 'Ġtype', ',', 'Ġand', 'Ġput', 'Ġthe', 'Ġnumerical', 'Ġanswer', 'Ġin', 'Ġparentheses', '.Ċ', 'Type', ':', 'Ġfruit', 'Ċ', 'List', ':', 'Ġ[', 'st', 'ool', ',', 'Ġbear', ',', 'Ġlion', ',', 'Ġsheep', ',']\n",
      "  Looking for items: ['stool', 'bear', 'lion', 'sheep', 'tangerine', 'peach']\n",
      "  Found positions: [31, 34, 36, 38, 40, 44]\n",
      "  Valid positions: [31, 34, 36, 38, 40, 44]\n"
     ]
    },
    {
     "name": "stderr",
     "output_type": "stream",
     "text": [
      "/tmp/ipykernel_1212579/1999086641.py:224: FutureWarning: `torch.cuda.amp.autocast(args...)` is deprecated. Please use `torch.amp.autocast('cuda', args...)` instead.\n",
      "  with torch.cuda.amp.autocast():  # Use mixed precision to save memory\n",
      "/net/scratch/slhleosun/miniconda3/envs/fixed_ai_env/lib/python3.11/site-packages/transformers/generation/configuration_utils.py:628: UserWarning: `do_sample` is set to `False`. However, `temperature` is set to `0.6` -- this flag is only used in sample-based generation modes. You should set `do_sample=True` or unset `temperature`.\n",
      "  warnings.warn(\n",
      "/net/scratch/slhleosun/miniconda3/envs/fixed_ai_env/lib/python3.11/site-packages/transformers/generation/configuration_utils.py:633: UserWarning: `do_sample` is set to `False`. However, `top_p` is set to `0.9` -- this flag is only used in sample-based generation modes. You should set `do_sample=True` or unset `top_p`.\n",
      "  warnings.warn(\n",
      " 74%|███████████████████████████████████████████████▎                | 74/100 [01:50<00:38,  1.50s/it]\n"
     ]
    },
    {
     "ename": "KeyboardInterrupt",
     "evalue": "",
     "output_type": "error",
     "traceback": [
      "\u001b[0;31m---------------------------------------------------------------------------\u001b[0m",
      "\u001b[0;31mKeyboardInterrupt\u001b[0m                         Traceback (most recent call last)",
      "Cell \u001b[0;32mIn[1], line 692\u001b[0m\n\u001b[1;32m    689\u001b[0m     \u001b[38;5;28mprint\u001b[39m(\u001b[38;5;124m\"\u001b[39m\u001b[38;5;130;01m\\n\u001b[39;00m\u001b[38;5;124mAnalysis complete! Results saved to patching_results.json and plots in interp_plots/\u001b[39m\u001b[38;5;124m\"\u001b[39m)\n\u001b[1;32m    691\u001b[0m \u001b[38;5;28;01mif\u001b[39;00m \u001b[38;5;18m__name__\u001b[39m \u001b[38;5;241m==\u001b[39m \u001b[38;5;124m\"\u001b[39m\u001b[38;5;124m__main__\u001b[39m\u001b[38;5;124m\"\u001b[39m:\n\u001b[0;32m--> 692\u001b[0m     main()\n",
      "Cell \u001b[0;32mIn[1], line 653\u001b[0m, in \u001b[0;36mmain\u001b[0;34m()\u001b[0m\n\u001b[1;32m    651\u001b[0m \u001b[38;5;28;01mfor\u001b[39;00m prompt_data \u001b[38;5;129;01min\u001b[39;00m tqdm(correct_prompts[:num_prompts_to_patch]):\n\u001b[1;32m    652\u001b[0m     \u001b[38;5;28;01mtry\u001b[39;00m:\n\u001b[0;32m--> 653\u001b[0m         results \u001b[38;5;241m=\u001b[39m patch_and_evaluate(model, tokenizer, prompt_data, layer_idx, probes)\n\u001b[1;32m    654\u001b[0m         layer_patching_results\u001b[38;5;241m.\u001b[39mextend(results)\n\u001b[1;32m    655\u001b[0m     \u001b[38;5;28;01mexcept\u001b[39;00m \u001b[38;5;167;01mException\u001b[39;00m \u001b[38;5;28;01mas\u001b[39;00m e:\n",
      "Cell \u001b[0;32mIn[1], line 379\u001b[0m, in \u001b[0;36mpatch_and_evaluate\u001b[0;34m(model, tokenizer, prompt_data, layer_idx, probes)\u001b[0m\n\u001b[1;32m    377\u001b[0m \u001b[38;5;66;03m# Run patched forward pass\u001b[39;00m\n\u001b[1;32m    378\u001b[0m \u001b[38;5;28;01mwith\u001b[39;00m torch\u001b[38;5;241m.\u001b[39mno_grad():\n\u001b[0;32m--> 379\u001b[0m     outputs \u001b[38;5;241m=\u001b[39m model\u001b[38;5;241m.\u001b[39mgenerate(\n\u001b[1;32m    380\u001b[0m         inputs\u001b[38;5;241m.\u001b[39minput_ids,\n\u001b[1;32m    381\u001b[0m         max_new_tokens\u001b[38;5;241m=\u001b[39m\u001b[38;5;241m10\u001b[39m,\n\u001b[1;32m    382\u001b[0m         do_sample\u001b[38;5;241m=\u001b[39m\u001b[38;5;28;01mFalse\u001b[39;00m,\n\u001b[1;32m    383\u001b[0m         pad_token_id\u001b[38;5;241m=\u001b[39mtokenizer\u001b[38;5;241m.\u001b[39meos_token_id,\n\u001b[1;32m    384\u001b[0m         attention_mask\u001b[38;5;241m=\u001b[39minputs\u001b[38;5;241m.\u001b[39mattention_mask\n\u001b[1;32m    385\u001b[0m     )\n\u001b[1;32m    387\u001b[0m \u001b[38;5;66;03m# Remove hook\u001b[39;00m\n\u001b[1;32m    388\u001b[0m hook\u001b[38;5;241m.\u001b[39mremove()\n",
      "File \u001b[0;32m/net/scratch/slhleosun/miniconda3/envs/fixed_ai_env/lib/python3.11/site-packages/torch/utils/_contextlib.py:116\u001b[0m, in \u001b[0;36mcontext_decorator.<locals>.decorate_context\u001b[0;34m(*args, **kwargs)\u001b[0m\n\u001b[1;32m    113\u001b[0m \u001b[38;5;129m@functools\u001b[39m\u001b[38;5;241m.\u001b[39mwraps(func)\n\u001b[1;32m    114\u001b[0m \u001b[38;5;28;01mdef\u001b[39;00m \u001b[38;5;21mdecorate_context\u001b[39m(\u001b[38;5;241m*\u001b[39margs, \u001b[38;5;241m*\u001b[39m\u001b[38;5;241m*\u001b[39mkwargs):\n\u001b[1;32m    115\u001b[0m     \u001b[38;5;28;01mwith\u001b[39;00m ctx_factory():\n\u001b[0;32m--> 116\u001b[0m         \u001b[38;5;28;01mreturn\u001b[39;00m func(\u001b[38;5;241m*\u001b[39margs, \u001b[38;5;241m*\u001b[39m\u001b[38;5;241m*\u001b[39mkwargs)\n",
      "File \u001b[0;32m/net/scratch/slhleosun/miniconda3/envs/fixed_ai_env/lib/python3.11/site-packages/transformers/generation/utils.py:2255\u001b[0m, in \u001b[0;36mGenerationMixin.generate\u001b[0;34m(self, inputs, generation_config, logits_processor, stopping_criteria, prefix_allowed_tokens_fn, synced_gpus, assistant_model, streamer, negative_prompt_ids, negative_prompt_attention_mask, **kwargs)\u001b[0m\n\u001b[1;32m   2247\u001b[0m     input_ids, model_kwargs \u001b[38;5;241m=\u001b[39m \u001b[38;5;28mself\u001b[39m\u001b[38;5;241m.\u001b[39m_expand_inputs_for_generation(\n\u001b[1;32m   2248\u001b[0m         input_ids\u001b[38;5;241m=\u001b[39minput_ids,\n\u001b[1;32m   2249\u001b[0m         expand_size\u001b[38;5;241m=\u001b[39mgeneration_config\u001b[38;5;241m.\u001b[39mnum_return_sequences,\n\u001b[1;32m   2250\u001b[0m         is_encoder_decoder\u001b[38;5;241m=\u001b[39m\u001b[38;5;28mself\u001b[39m\u001b[38;5;241m.\u001b[39mconfig\u001b[38;5;241m.\u001b[39mis_encoder_decoder,\n\u001b[1;32m   2251\u001b[0m         \u001b[38;5;241m*\u001b[39m\u001b[38;5;241m*\u001b[39mmodel_kwargs,\n\u001b[1;32m   2252\u001b[0m     )\n\u001b[1;32m   2254\u001b[0m     \u001b[38;5;66;03m# 12. run sample (it degenerates to greedy search when `generation_config.do_sample=False`)\u001b[39;00m\n\u001b[0;32m-> 2255\u001b[0m     result \u001b[38;5;241m=\u001b[39m \u001b[38;5;28mself\u001b[39m\u001b[38;5;241m.\u001b[39m_sample(\n\u001b[1;32m   2256\u001b[0m         input_ids,\n\u001b[1;32m   2257\u001b[0m         logits_processor\u001b[38;5;241m=\u001b[39mprepared_logits_processor,\n\u001b[1;32m   2258\u001b[0m         stopping_criteria\u001b[38;5;241m=\u001b[39mprepared_stopping_criteria,\n\u001b[1;32m   2259\u001b[0m         generation_config\u001b[38;5;241m=\u001b[39mgeneration_config,\n\u001b[1;32m   2260\u001b[0m         synced_gpus\u001b[38;5;241m=\u001b[39msynced_gpus,\n\u001b[1;32m   2261\u001b[0m         streamer\u001b[38;5;241m=\u001b[39mstreamer,\n\u001b[1;32m   2262\u001b[0m         \u001b[38;5;241m*\u001b[39m\u001b[38;5;241m*\u001b[39mmodel_kwargs,\n\u001b[1;32m   2263\u001b[0m     )\n\u001b[1;32m   2265\u001b[0m \u001b[38;5;28;01melif\u001b[39;00m generation_mode \u001b[38;5;129;01min\u001b[39;00m (GenerationMode\u001b[38;5;241m.\u001b[39mBEAM_SAMPLE, GenerationMode\u001b[38;5;241m.\u001b[39mBEAM_SEARCH):\n\u001b[1;32m   2266\u001b[0m     \u001b[38;5;66;03m# 11. prepare beam search scorer\u001b[39;00m\n\u001b[1;32m   2267\u001b[0m     beam_scorer \u001b[38;5;241m=\u001b[39m BeamSearchScorer(\n\u001b[1;32m   2268\u001b[0m         batch_size\u001b[38;5;241m=\u001b[39mbatch_size,\n\u001b[1;32m   2269\u001b[0m         num_beams\u001b[38;5;241m=\u001b[39mgeneration_config\u001b[38;5;241m.\u001b[39mnum_beams,\n\u001b[0;32m   (...)\u001b[0m\n\u001b[1;32m   2274\u001b[0m         max_length\u001b[38;5;241m=\u001b[39mgeneration_config\u001b[38;5;241m.\u001b[39mmax_length,\n\u001b[1;32m   2275\u001b[0m     )\n",
      "File \u001b[0;32m/net/scratch/slhleosun/miniconda3/envs/fixed_ai_env/lib/python3.11/site-packages/transformers/generation/utils.py:3257\u001b[0m, in \u001b[0;36mGenerationMixin._sample\u001b[0;34m(self, input_ids, logits_processor, stopping_criteria, generation_config, synced_gpus, streamer, **model_kwargs)\u001b[0m\n\u001b[1;32m   3255\u001b[0m     is_prefill \u001b[38;5;241m=\u001b[39m \u001b[38;5;28;01mFalse\u001b[39;00m\n\u001b[1;32m   3256\u001b[0m \u001b[38;5;28;01melse\u001b[39;00m:\n\u001b[0;32m-> 3257\u001b[0m     outputs \u001b[38;5;241m=\u001b[39m model_forward(\u001b[38;5;241m*\u001b[39m\u001b[38;5;241m*\u001b[39mmodel_inputs, return_dict\u001b[38;5;241m=\u001b[39m\u001b[38;5;28;01mTrue\u001b[39;00m)\n\u001b[1;32m   3259\u001b[0m \u001b[38;5;66;03m# synced_gpus: don't waste resources running the code we don't need; kwargs must be updated before skipping\u001b[39;00m\n\u001b[1;32m   3260\u001b[0m model_kwargs \u001b[38;5;241m=\u001b[39m \u001b[38;5;28mself\u001b[39m\u001b[38;5;241m.\u001b[39m_update_model_kwargs_for_generation(\n\u001b[1;32m   3261\u001b[0m     outputs,\n\u001b[1;32m   3262\u001b[0m     model_kwargs,\n\u001b[1;32m   3263\u001b[0m     is_encoder_decoder\u001b[38;5;241m=\u001b[39m\u001b[38;5;28mself\u001b[39m\u001b[38;5;241m.\u001b[39mconfig\u001b[38;5;241m.\u001b[39mis_encoder_decoder,\n\u001b[1;32m   3264\u001b[0m )\n",
      "File \u001b[0;32m/net/scratch/slhleosun/miniconda3/envs/fixed_ai_env/lib/python3.11/site-packages/torch/nn/modules/module.py:1553\u001b[0m, in \u001b[0;36mModule._wrapped_call_impl\u001b[0;34m(self, *args, **kwargs)\u001b[0m\n\u001b[1;32m   1551\u001b[0m     \u001b[38;5;28;01mreturn\u001b[39;00m \u001b[38;5;28mself\u001b[39m\u001b[38;5;241m.\u001b[39m_compiled_call_impl(\u001b[38;5;241m*\u001b[39margs, \u001b[38;5;241m*\u001b[39m\u001b[38;5;241m*\u001b[39mkwargs)  \u001b[38;5;66;03m# type: ignore[misc]\u001b[39;00m\n\u001b[1;32m   1552\u001b[0m \u001b[38;5;28;01melse\u001b[39;00m:\n\u001b[0;32m-> 1553\u001b[0m     \u001b[38;5;28;01mreturn\u001b[39;00m \u001b[38;5;28mself\u001b[39m\u001b[38;5;241m.\u001b[39m_call_impl(\u001b[38;5;241m*\u001b[39margs, \u001b[38;5;241m*\u001b[39m\u001b[38;5;241m*\u001b[39mkwargs)\n",
      "File \u001b[0;32m/net/scratch/slhleosun/miniconda3/envs/fixed_ai_env/lib/python3.11/site-packages/torch/nn/modules/module.py:1562\u001b[0m, in \u001b[0;36mModule._call_impl\u001b[0;34m(self, *args, **kwargs)\u001b[0m\n\u001b[1;32m   1557\u001b[0m \u001b[38;5;66;03m# If we don't have any hooks, we want to skip the rest of the logic in\u001b[39;00m\n\u001b[1;32m   1558\u001b[0m \u001b[38;5;66;03m# this function, and just call forward.\u001b[39;00m\n\u001b[1;32m   1559\u001b[0m \u001b[38;5;28;01mif\u001b[39;00m \u001b[38;5;129;01mnot\u001b[39;00m (\u001b[38;5;28mself\u001b[39m\u001b[38;5;241m.\u001b[39m_backward_hooks \u001b[38;5;129;01mor\u001b[39;00m \u001b[38;5;28mself\u001b[39m\u001b[38;5;241m.\u001b[39m_backward_pre_hooks \u001b[38;5;129;01mor\u001b[39;00m \u001b[38;5;28mself\u001b[39m\u001b[38;5;241m.\u001b[39m_forward_hooks \u001b[38;5;129;01mor\u001b[39;00m \u001b[38;5;28mself\u001b[39m\u001b[38;5;241m.\u001b[39m_forward_pre_hooks\n\u001b[1;32m   1560\u001b[0m         \u001b[38;5;129;01mor\u001b[39;00m _global_backward_pre_hooks \u001b[38;5;129;01mor\u001b[39;00m _global_backward_hooks\n\u001b[1;32m   1561\u001b[0m         \u001b[38;5;129;01mor\u001b[39;00m _global_forward_hooks \u001b[38;5;129;01mor\u001b[39;00m _global_forward_pre_hooks):\n\u001b[0;32m-> 1562\u001b[0m     \u001b[38;5;28;01mreturn\u001b[39;00m forward_call(\u001b[38;5;241m*\u001b[39margs, \u001b[38;5;241m*\u001b[39m\u001b[38;5;241m*\u001b[39mkwargs)\n\u001b[1;32m   1564\u001b[0m \u001b[38;5;28;01mtry\u001b[39;00m:\n\u001b[1;32m   1565\u001b[0m     result \u001b[38;5;241m=\u001b[39m \u001b[38;5;28;01mNone\u001b[39;00m\n",
      "File \u001b[0;32m/net/scratch/slhleosun/miniconda3/envs/fixed_ai_env/lib/python3.11/site-packages/accelerate/hooks.py:170\u001b[0m, in \u001b[0;36madd_hook_to_module.<locals>.new_forward\u001b[0;34m(module, *args, **kwargs)\u001b[0m\n\u001b[1;32m    168\u001b[0m         output \u001b[38;5;241m=\u001b[39m module\u001b[38;5;241m.\u001b[39m_old_forward(\u001b[38;5;241m*\u001b[39margs, \u001b[38;5;241m*\u001b[39m\u001b[38;5;241m*\u001b[39mkwargs)\n\u001b[1;32m    169\u001b[0m \u001b[38;5;28;01melse\u001b[39;00m:\n\u001b[0;32m--> 170\u001b[0m     output \u001b[38;5;241m=\u001b[39m module\u001b[38;5;241m.\u001b[39m_old_forward(\u001b[38;5;241m*\u001b[39margs, \u001b[38;5;241m*\u001b[39m\u001b[38;5;241m*\u001b[39mkwargs)\n\u001b[1;32m    171\u001b[0m \u001b[38;5;28;01mreturn\u001b[39;00m module\u001b[38;5;241m.\u001b[39m_hf_hook\u001b[38;5;241m.\u001b[39mpost_forward(module, output)\n",
      "File \u001b[0;32m/net/scratch/slhleosun/miniconda3/envs/fixed_ai_env/lib/python3.11/site-packages/transformers/models/llama/modeling_llama.py:831\u001b[0m, in \u001b[0;36mLlamaForCausalLM.forward\u001b[0;34m(self, input_ids, attention_mask, position_ids, past_key_values, inputs_embeds, labels, use_cache, output_attentions, output_hidden_states, return_dict, cache_position, num_logits_to_keep, **kwargs)\u001b[0m\n\u001b[1;32m    828\u001b[0m return_dict \u001b[38;5;241m=\u001b[39m return_dict \u001b[38;5;28;01mif\u001b[39;00m return_dict \u001b[38;5;129;01mis\u001b[39;00m \u001b[38;5;129;01mnot\u001b[39;00m \u001b[38;5;28;01mNone\u001b[39;00m \u001b[38;5;28;01melse\u001b[39;00m \u001b[38;5;28mself\u001b[39m\u001b[38;5;241m.\u001b[39mconfig\u001b[38;5;241m.\u001b[39muse_return_dict\n\u001b[1;32m    830\u001b[0m \u001b[38;5;66;03m# decoder outputs consists of (dec_features, layer_state, dec_hidden, dec_attn)\u001b[39;00m\n\u001b[0;32m--> 831\u001b[0m outputs \u001b[38;5;241m=\u001b[39m \u001b[38;5;28mself\u001b[39m\u001b[38;5;241m.\u001b[39mmodel(\n\u001b[1;32m    832\u001b[0m     input_ids\u001b[38;5;241m=\u001b[39minput_ids,\n\u001b[1;32m    833\u001b[0m     attention_mask\u001b[38;5;241m=\u001b[39mattention_mask,\n\u001b[1;32m    834\u001b[0m     position_ids\u001b[38;5;241m=\u001b[39mposition_ids,\n\u001b[1;32m    835\u001b[0m     past_key_values\u001b[38;5;241m=\u001b[39mpast_key_values,\n\u001b[1;32m    836\u001b[0m     inputs_embeds\u001b[38;5;241m=\u001b[39minputs_embeds,\n\u001b[1;32m    837\u001b[0m     use_cache\u001b[38;5;241m=\u001b[39muse_cache,\n\u001b[1;32m    838\u001b[0m     output_attentions\u001b[38;5;241m=\u001b[39moutput_attentions,\n\u001b[1;32m    839\u001b[0m     output_hidden_states\u001b[38;5;241m=\u001b[39moutput_hidden_states,\n\u001b[1;32m    840\u001b[0m     return_dict\u001b[38;5;241m=\u001b[39mreturn_dict,\n\u001b[1;32m    841\u001b[0m     cache_position\u001b[38;5;241m=\u001b[39mcache_position,\n\u001b[1;32m    842\u001b[0m     \u001b[38;5;241m*\u001b[39m\u001b[38;5;241m*\u001b[39mkwargs,\n\u001b[1;32m    843\u001b[0m )\n\u001b[1;32m    845\u001b[0m hidden_states \u001b[38;5;241m=\u001b[39m outputs[\u001b[38;5;241m0\u001b[39m]\n\u001b[1;32m    846\u001b[0m \u001b[38;5;66;03m# Only compute necessary logits, and do not upcast them to float if we are not computing the loss\u001b[39;00m\n",
      "File \u001b[0;32m/net/scratch/slhleosun/miniconda3/envs/fixed_ai_env/lib/python3.11/site-packages/torch/nn/modules/module.py:1553\u001b[0m, in \u001b[0;36mModule._wrapped_call_impl\u001b[0;34m(self, *args, **kwargs)\u001b[0m\n\u001b[1;32m   1551\u001b[0m     \u001b[38;5;28;01mreturn\u001b[39;00m \u001b[38;5;28mself\u001b[39m\u001b[38;5;241m.\u001b[39m_compiled_call_impl(\u001b[38;5;241m*\u001b[39margs, \u001b[38;5;241m*\u001b[39m\u001b[38;5;241m*\u001b[39mkwargs)  \u001b[38;5;66;03m# type: ignore[misc]\u001b[39;00m\n\u001b[1;32m   1552\u001b[0m \u001b[38;5;28;01melse\u001b[39;00m:\n\u001b[0;32m-> 1553\u001b[0m     \u001b[38;5;28;01mreturn\u001b[39;00m \u001b[38;5;28mself\u001b[39m\u001b[38;5;241m.\u001b[39m_call_impl(\u001b[38;5;241m*\u001b[39margs, \u001b[38;5;241m*\u001b[39m\u001b[38;5;241m*\u001b[39mkwargs)\n",
      "File \u001b[0;32m/net/scratch/slhleosun/miniconda3/envs/fixed_ai_env/lib/python3.11/site-packages/torch/nn/modules/module.py:1562\u001b[0m, in \u001b[0;36mModule._call_impl\u001b[0;34m(self, *args, **kwargs)\u001b[0m\n\u001b[1;32m   1557\u001b[0m \u001b[38;5;66;03m# If we don't have any hooks, we want to skip the rest of the logic in\u001b[39;00m\n\u001b[1;32m   1558\u001b[0m \u001b[38;5;66;03m# this function, and just call forward.\u001b[39;00m\n\u001b[1;32m   1559\u001b[0m \u001b[38;5;28;01mif\u001b[39;00m \u001b[38;5;129;01mnot\u001b[39;00m (\u001b[38;5;28mself\u001b[39m\u001b[38;5;241m.\u001b[39m_backward_hooks \u001b[38;5;129;01mor\u001b[39;00m \u001b[38;5;28mself\u001b[39m\u001b[38;5;241m.\u001b[39m_backward_pre_hooks \u001b[38;5;129;01mor\u001b[39;00m \u001b[38;5;28mself\u001b[39m\u001b[38;5;241m.\u001b[39m_forward_hooks \u001b[38;5;129;01mor\u001b[39;00m \u001b[38;5;28mself\u001b[39m\u001b[38;5;241m.\u001b[39m_forward_pre_hooks\n\u001b[1;32m   1560\u001b[0m         \u001b[38;5;129;01mor\u001b[39;00m _global_backward_pre_hooks \u001b[38;5;129;01mor\u001b[39;00m _global_backward_hooks\n\u001b[1;32m   1561\u001b[0m         \u001b[38;5;129;01mor\u001b[39;00m _global_forward_hooks \u001b[38;5;129;01mor\u001b[39;00m _global_forward_pre_hooks):\n\u001b[0;32m-> 1562\u001b[0m     \u001b[38;5;28;01mreturn\u001b[39;00m forward_call(\u001b[38;5;241m*\u001b[39margs, \u001b[38;5;241m*\u001b[39m\u001b[38;5;241m*\u001b[39mkwargs)\n\u001b[1;32m   1564\u001b[0m \u001b[38;5;28;01mtry\u001b[39;00m:\n\u001b[1;32m   1565\u001b[0m     result \u001b[38;5;241m=\u001b[39m \u001b[38;5;28;01mNone\u001b[39;00m\n",
      "File \u001b[0;32m/net/scratch/slhleosun/miniconda3/envs/fixed_ai_env/lib/python3.11/site-packages/transformers/models/llama/modeling_llama.py:589\u001b[0m, in \u001b[0;36mLlamaModel.forward\u001b[0;34m(self, input_ids, attention_mask, position_ids, past_key_values, inputs_embeds, use_cache, output_attentions, output_hidden_states, return_dict, cache_position, **flash_attn_kwargs)\u001b[0m\n\u001b[1;32m    577\u001b[0m     layer_outputs \u001b[38;5;241m=\u001b[39m \u001b[38;5;28mself\u001b[39m\u001b[38;5;241m.\u001b[39m_gradient_checkpointing_func(\n\u001b[1;32m    578\u001b[0m         decoder_layer\u001b[38;5;241m.\u001b[39m\u001b[38;5;21m__call__\u001b[39m,\n\u001b[1;32m    579\u001b[0m         hidden_states,\n\u001b[0;32m   (...)\u001b[0m\n\u001b[1;32m    586\u001b[0m         position_embeddings,\n\u001b[1;32m    587\u001b[0m     )\n\u001b[1;32m    588\u001b[0m \u001b[38;5;28;01melse\u001b[39;00m:\n\u001b[0;32m--> 589\u001b[0m     layer_outputs \u001b[38;5;241m=\u001b[39m decoder_layer(\n\u001b[1;32m    590\u001b[0m         hidden_states,\n\u001b[1;32m    591\u001b[0m         attention_mask\u001b[38;5;241m=\u001b[39mcausal_mask,\n\u001b[1;32m    592\u001b[0m         position_ids\u001b[38;5;241m=\u001b[39mposition_ids,\n\u001b[1;32m    593\u001b[0m         past_key_value\u001b[38;5;241m=\u001b[39mpast_key_values,\n\u001b[1;32m    594\u001b[0m         output_attentions\u001b[38;5;241m=\u001b[39moutput_attentions,\n\u001b[1;32m    595\u001b[0m         use_cache\u001b[38;5;241m=\u001b[39muse_cache,\n\u001b[1;32m    596\u001b[0m         cache_position\u001b[38;5;241m=\u001b[39mcache_position,\n\u001b[1;32m    597\u001b[0m         position_embeddings\u001b[38;5;241m=\u001b[39mposition_embeddings,\n\u001b[1;32m    598\u001b[0m         \u001b[38;5;241m*\u001b[39m\u001b[38;5;241m*\u001b[39mflash_attn_kwargs,\n\u001b[1;32m    599\u001b[0m     )\n\u001b[1;32m    601\u001b[0m hidden_states \u001b[38;5;241m=\u001b[39m layer_outputs[\u001b[38;5;241m0\u001b[39m]\n\u001b[1;32m    603\u001b[0m \u001b[38;5;28;01mif\u001b[39;00m output_attentions:\n",
      "File \u001b[0;32m/net/scratch/slhleosun/miniconda3/envs/fixed_ai_env/lib/python3.11/site-packages/torch/nn/modules/module.py:1553\u001b[0m, in \u001b[0;36mModule._wrapped_call_impl\u001b[0;34m(self, *args, **kwargs)\u001b[0m\n\u001b[1;32m   1551\u001b[0m     \u001b[38;5;28;01mreturn\u001b[39;00m \u001b[38;5;28mself\u001b[39m\u001b[38;5;241m.\u001b[39m_compiled_call_impl(\u001b[38;5;241m*\u001b[39margs, \u001b[38;5;241m*\u001b[39m\u001b[38;5;241m*\u001b[39mkwargs)  \u001b[38;5;66;03m# type: ignore[misc]\u001b[39;00m\n\u001b[1;32m   1552\u001b[0m \u001b[38;5;28;01melse\u001b[39;00m:\n\u001b[0;32m-> 1553\u001b[0m     \u001b[38;5;28;01mreturn\u001b[39;00m \u001b[38;5;28mself\u001b[39m\u001b[38;5;241m.\u001b[39m_call_impl(\u001b[38;5;241m*\u001b[39margs, \u001b[38;5;241m*\u001b[39m\u001b[38;5;241m*\u001b[39mkwargs)\n",
      "File \u001b[0;32m/net/scratch/slhleosun/miniconda3/envs/fixed_ai_env/lib/python3.11/site-packages/torch/nn/modules/module.py:1562\u001b[0m, in \u001b[0;36mModule._call_impl\u001b[0;34m(self, *args, **kwargs)\u001b[0m\n\u001b[1;32m   1557\u001b[0m \u001b[38;5;66;03m# If we don't have any hooks, we want to skip the rest of the logic in\u001b[39;00m\n\u001b[1;32m   1558\u001b[0m \u001b[38;5;66;03m# this function, and just call forward.\u001b[39;00m\n\u001b[1;32m   1559\u001b[0m \u001b[38;5;28;01mif\u001b[39;00m \u001b[38;5;129;01mnot\u001b[39;00m (\u001b[38;5;28mself\u001b[39m\u001b[38;5;241m.\u001b[39m_backward_hooks \u001b[38;5;129;01mor\u001b[39;00m \u001b[38;5;28mself\u001b[39m\u001b[38;5;241m.\u001b[39m_backward_pre_hooks \u001b[38;5;129;01mor\u001b[39;00m \u001b[38;5;28mself\u001b[39m\u001b[38;5;241m.\u001b[39m_forward_hooks \u001b[38;5;129;01mor\u001b[39;00m \u001b[38;5;28mself\u001b[39m\u001b[38;5;241m.\u001b[39m_forward_pre_hooks\n\u001b[1;32m   1560\u001b[0m         \u001b[38;5;129;01mor\u001b[39;00m _global_backward_pre_hooks \u001b[38;5;129;01mor\u001b[39;00m _global_backward_hooks\n\u001b[1;32m   1561\u001b[0m         \u001b[38;5;129;01mor\u001b[39;00m _global_forward_hooks \u001b[38;5;129;01mor\u001b[39;00m _global_forward_pre_hooks):\n\u001b[0;32m-> 1562\u001b[0m     \u001b[38;5;28;01mreturn\u001b[39;00m forward_call(\u001b[38;5;241m*\u001b[39margs, \u001b[38;5;241m*\u001b[39m\u001b[38;5;241m*\u001b[39mkwargs)\n\u001b[1;32m   1564\u001b[0m \u001b[38;5;28;01mtry\u001b[39;00m:\n\u001b[1;32m   1565\u001b[0m     result \u001b[38;5;241m=\u001b[39m \u001b[38;5;28;01mNone\u001b[39;00m\n",
      "File \u001b[0;32m/net/scratch/slhleosun/miniconda3/envs/fixed_ai_env/lib/python3.11/site-packages/accelerate/hooks.py:170\u001b[0m, in \u001b[0;36madd_hook_to_module.<locals>.new_forward\u001b[0;34m(module, *args, **kwargs)\u001b[0m\n\u001b[1;32m    168\u001b[0m         output \u001b[38;5;241m=\u001b[39m module\u001b[38;5;241m.\u001b[39m_old_forward(\u001b[38;5;241m*\u001b[39margs, \u001b[38;5;241m*\u001b[39m\u001b[38;5;241m*\u001b[39mkwargs)\n\u001b[1;32m    169\u001b[0m \u001b[38;5;28;01melse\u001b[39;00m:\n\u001b[0;32m--> 170\u001b[0m     output \u001b[38;5;241m=\u001b[39m module\u001b[38;5;241m.\u001b[39m_old_forward(\u001b[38;5;241m*\u001b[39margs, \u001b[38;5;241m*\u001b[39m\u001b[38;5;241m*\u001b[39mkwargs)\n\u001b[1;32m    171\u001b[0m \u001b[38;5;28;01mreturn\u001b[39;00m module\u001b[38;5;241m.\u001b[39m_hf_hook\u001b[38;5;241m.\u001b[39mpost_forward(module, output)\n",
      "File \u001b[0;32m/net/scratch/slhleosun/miniconda3/envs/fixed_ai_env/lib/python3.11/site-packages/transformers/models/llama/modeling_llama.py:332\u001b[0m, in \u001b[0;36mLlamaDecoderLayer.forward\u001b[0;34m(self, hidden_states, attention_mask, position_ids, past_key_value, output_attentions, use_cache, cache_position, position_embeddings, **kwargs)\u001b[0m\n\u001b[1;32m    329\u001b[0m hidden_states \u001b[38;5;241m=\u001b[39m \u001b[38;5;28mself\u001b[39m\u001b[38;5;241m.\u001b[39minput_layernorm(hidden_states)\n\u001b[1;32m    331\u001b[0m \u001b[38;5;66;03m# Self Attention\u001b[39;00m\n\u001b[0;32m--> 332\u001b[0m hidden_states, self_attn_weights \u001b[38;5;241m=\u001b[39m \u001b[38;5;28mself\u001b[39m\u001b[38;5;241m.\u001b[39mself_attn(\n\u001b[1;32m    333\u001b[0m     hidden_states\u001b[38;5;241m=\u001b[39mhidden_states,\n\u001b[1;32m    334\u001b[0m     attention_mask\u001b[38;5;241m=\u001b[39mattention_mask,\n\u001b[1;32m    335\u001b[0m     position_ids\u001b[38;5;241m=\u001b[39mposition_ids,\n\u001b[1;32m    336\u001b[0m     past_key_value\u001b[38;5;241m=\u001b[39mpast_key_value,\n\u001b[1;32m    337\u001b[0m     output_attentions\u001b[38;5;241m=\u001b[39moutput_attentions,\n\u001b[1;32m    338\u001b[0m     use_cache\u001b[38;5;241m=\u001b[39muse_cache,\n\u001b[1;32m    339\u001b[0m     cache_position\u001b[38;5;241m=\u001b[39mcache_position,\n\u001b[1;32m    340\u001b[0m     position_embeddings\u001b[38;5;241m=\u001b[39mposition_embeddings,\n\u001b[1;32m    341\u001b[0m     \u001b[38;5;241m*\u001b[39m\u001b[38;5;241m*\u001b[39mkwargs,\n\u001b[1;32m    342\u001b[0m )\n\u001b[1;32m    343\u001b[0m hidden_states \u001b[38;5;241m=\u001b[39m residual \u001b[38;5;241m+\u001b[39m hidden_states\n\u001b[1;32m    345\u001b[0m \u001b[38;5;66;03m# Fully Connected\u001b[39;00m\n",
      "File \u001b[0;32m/net/scratch/slhleosun/miniconda3/envs/fixed_ai_env/lib/python3.11/site-packages/torch/nn/modules/module.py:1553\u001b[0m, in \u001b[0;36mModule._wrapped_call_impl\u001b[0;34m(self, *args, **kwargs)\u001b[0m\n\u001b[1;32m   1551\u001b[0m     \u001b[38;5;28;01mreturn\u001b[39;00m \u001b[38;5;28mself\u001b[39m\u001b[38;5;241m.\u001b[39m_compiled_call_impl(\u001b[38;5;241m*\u001b[39margs, \u001b[38;5;241m*\u001b[39m\u001b[38;5;241m*\u001b[39mkwargs)  \u001b[38;5;66;03m# type: ignore[misc]\u001b[39;00m\n\u001b[1;32m   1552\u001b[0m \u001b[38;5;28;01melse\u001b[39;00m:\n\u001b[0;32m-> 1553\u001b[0m     \u001b[38;5;28;01mreturn\u001b[39;00m \u001b[38;5;28mself\u001b[39m\u001b[38;5;241m.\u001b[39m_call_impl(\u001b[38;5;241m*\u001b[39margs, \u001b[38;5;241m*\u001b[39m\u001b[38;5;241m*\u001b[39mkwargs)\n",
      "File \u001b[0;32m/net/scratch/slhleosun/miniconda3/envs/fixed_ai_env/lib/python3.11/site-packages/torch/nn/modules/module.py:1562\u001b[0m, in \u001b[0;36mModule._call_impl\u001b[0;34m(self, *args, **kwargs)\u001b[0m\n\u001b[1;32m   1557\u001b[0m \u001b[38;5;66;03m# If we don't have any hooks, we want to skip the rest of the logic in\u001b[39;00m\n\u001b[1;32m   1558\u001b[0m \u001b[38;5;66;03m# this function, and just call forward.\u001b[39;00m\n\u001b[1;32m   1559\u001b[0m \u001b[38;5;28;01mif\u001b[39;00m \u001b[38;5;129;01mnot\u001b[39;00m (\u001b[38;5;28mself\u001b[39m\u001b[38;5;241m.\u001b[39m_backward_hooks \u001b[38;5;129;01mor\u001b[39;00m \u001b[38;5;28mself\u001b[39m\u001b[38;5;241m.\u001b[39m_backward_pre_hooks \u001b[38;5;129;01mor\u001b[39;00m \u001b[38;5;28mself\u001b[39m\u001b[38;5;241m.\u001b[39m_forward_hooks \u001b[38;5;129;01mor\u001b[39;00m \u001b[38;5;28mself\u001b[39m\u001b[38;5;241m.\u001b[39m_forward_pre_hooks\n\u001b[1;32m   1560\u001b[0m         \u001b[38;5;129;01mor\u001b[39;00m _global_backward_pre_hooks \u001b[38;5;129;01mor\u001b[39;00m _global_backward_hooks\n\u001b[1;32m   1561\u001b[0m         \u001b[38;5;129;01mor\u001b[39;00m _global_forward_hooks \u001b[38;5;129;01mor\u001b[39;00m _global_forward_pre_hooks):\n\u001b[0;32m-> 1562\u001b[0m     \u001b[38;5;28;01mreturn\u001b[39;00m forward_call(\u001b[38;5;241m*\u001b[39margs, \u001b[38;5;241m*\u001b[39m\u001b[38;5;241m*\u001b[39mkwargs)\n\u001b[1;32m   1564\u001b[0m \u001b[38;5;28;01mtry\u001b[39;00m:\n\u001b[1;32m   1565\u001b[0m     result \u001b[38;5;241m=\u001b[39m \u001b[38;5;28;01mNone\u001b[39;00m\n",
      "File \u001b[0;32m/net/scratch/slhleosun/miniconda3/envs/fixed_ai_env/lib/python3.11/site-packages/accelerate/hooks.py:170\u001b[0m, in \u001b[0;36madd_hook_to_module.<locals>.new_forward\u001b[0;34m(module, *args, **kwargs)\u001b[0m\n\u001b[1;32m    168\u001b[0m         output \u001b[38;5;241m=\u001b[39m module\u001b[38;5;241m.\u001b[39m_old_forward(\u001b[38;5;241m*\u001b[39margs, \u001b[38;5;241m*\u001b[39m\u001b[38;5;241m*\u001b[39mkwargs)\n\u001b[1;32m    169\u001b[0m \u001b[38;5;28;01melse\u001b[39;00m:\n\u001b[0;32m--> 170\u001b[0m     output \u001b[38;5;241m=\u001b[39m module\u001b[38;5;241m.\u001b[39m_old_forward(\u001b[38;5;241m*\u001b[39margs, \u001b[38;5;241m*\u001b[39m\u001b[38;5;241m*\u001b[39mkwargs)\n\u001b[1;32m    171\u001b[0m \u001b[38;5;28;01mreturn\u001b[39;00m module\u001b[38;5;241m.\u001b[39m_hf_hook\u001b[38;5;241m.\u001b[39mpost_forward(module, output)\n",
      "File \u001b[0;32m/net/scratch/slhleosun/miniconda3/envs/fixed_ai_env/lib/python3.11/site-packages/transformers/models/llama/modeling_llama.py:300\u001b[0m, in \u001b[0;36mLlamaAttention.forward\u001b[0;34m(self, hidden_states, position_embeddings, attention_mask, past_key_value, cache_position, **kwargs)\u001b[0m\n\u001b[1;32m    288\u001b[0m attn_output, attn_weights \u001b[38;5;241m=\u001b[39m attention_interface(\n\u001b[1;32m    289\u001b[0m     \u001b[38;5;28mself\u001b[39m,\n\u001b[1;32m    290\u001b[0m     query_states,\n\u001b[0;32m   (...)\u001b[0m\n\u001b[1;32m    296\u001b[0m     \u001b[38;5;241m*\u001b[39m\u001b[38;5;241m*\u001b[39mkwargs,\n\u001b[1;32m    297\u001b[0m )\n\u001b[1;32m    299\u001b[0m attn_output \u001b[38;5;241m=\u001b[39m attn_output\u001b[38;5;241m.\u001b[39mreshape(\u001b[38;5;241m*\u001b[39minput_shape, \u001b[38;5;241m-\u001b[39m\u001b[38;5;241m1\u001b[39m)\u001b[38;5;241m.\u001b[39mcontiguous()\n\u001b[0;32m--> 300\u001b[0m attn_output \u001b[38;5;241m=\u001b[39m \u001b[38;5;28mself\u001b[39m\u001b[38;5;241m.\u001b[39mo_proj(attn_output)\n\u001b[1;32m    301\u001b[0m \u001b[38;5;28;01mreturn\u001b[39;00m attn_output, attn_weights\n",
      "File \u001b[0;32m/net/scratch/slhleosun/miniconda3/envs/fixed_ai_env/lib/python3.11/site-packages/torch/nn/modules/module.py:1553\u001b[0m, in \u001b[0;36mModule._wrapped_call_impl\u001b[0;34m(self, *args, **kwargs)\u001b[0m\n\u001b[1;32m   1551\u001b[0m     \u001b[38;5;28;01mreturn\u001b[39;00m \u001b[38;5;28mself\u001b[39m\u001b[38;5;241m.\u001b[39m_compiled_call_impl(\u001b[38;5;241m*\u001b[39margs, \u001b[38;5;241m*\u001b[39m\u001b[38;5;241m*\u001b[39mkwargs)  \u001b[38;5;66;03m# type: ignore[misc]\u001b[39;00m\n\u001b[1;32m   1552\u001b[0m \u001b[38;5;28;01melse\u001b[39;00m:\n\u001b[0;32m-> 1553\u001b[0m     \u001b[38;5;28;01mreturn\u001b[39;00m \u001b[38;5;28mself\u001b[39m\u001b[38;5;241m.\u001b[39m_call_impl(\u001b[38;5;241m*\u001b[39margs, \u001b[38;5;241m*\u001b[39m\u001b[38;5;241m*\u001b[39mkwargs)\n",
      "File \u001b[0;32m/net/scratch/slhleosun/miniconda3/envs/fixed_ai_env/lib/python3.11/site-packages/torch/nn/modules/module.py:1562\u001b[0m, in \u001b[0;36mModule._call_impl\u001b[0;34m(self, *args, **kwargs)\u001b[0m\n\u001b[1;32m   1557\u001b[0m \u001b[38;5;66;03m# If we don't have any hooks, we want to skip the rest of the logic in\u001b[39;00m\n\u001b[1;32m   1558\u001b[0m \u001b[38;5;66;03m# this function, and just call forward.\u001b[39;00m\n\u001b[1;32m   1559\u001b[0m \u001b[38;5;28;01mif\u001b[39;00m \u001b[38;5;129;01mnot\u001b[39;00m (\u001b[38;5;28mself\u001b[39m\u001b[38;5;241m.\u001b[39m_backward_hooks \u001b[38;5;129;01mor\u001b[39;00m \u001b[38;5;28mself\u001b[39m\u001b[38;5;241m.\u001b[39m_backward_pre_hooks \u001b[38;5;129;01mor\u001b[39;00m \u001b[38;5;28mself\u001b[39m\u001b[38;5;241m.\u001b[39m_forward_hooks \u001b[38;5;129;01mor\u001b[39;00m \u001b[38;5;28mself\u001b[39m\u001b[38;5;241m.\u001b[39m_forward_pre_hooks\n\u001b[1;32m   1560\u001b[0m         \u001b[38;5;129;01mor\u001b[39;00m _global_backward_pre_hooks \u001b[38;5;129;01mor\u001b[39;00m _global_backward_hooks\n\u001b[1;32m   1561\u001b[0m         \u001b[38;5;129;01mor\u001b[39;00m _global_forward_hooks \u001b[38;5;129;01mor\u001b[39;00m _global_forward_pre_hooks):\n\u001b[0;32m-> 1562\u001b[0m     \u001b[38;5;28;01mreturn\u001b[39;00m forward_call(\u001b[38;5;241m*\u001b[39margs, \u001b[38;5;241m*\u001b[39m\u001b[38;5;241m*\u001b[39mkwargs)\n\u001b[1;32m   1564\u001b[0m \u001b[38;5;28;01mtry\u001b[39;00m:\n\u001b[1;32m   1565\u001b[0m     result \u001b[38;5;241m=\u001b[39m \u001b[38;5;28;01mNone\u001b[39;00m\n",
      "File \u001b[0;32m/net/scratch/slhleosun/miniconda3/envs/fixed_ai_env/lib/python3.11/site-packages/accelerate/hooks.py:170\u001b[0m, in \u001b[0;36madd_hook_to_module.<locals>.new_forward\u001b[0;34m(module, *args, **kwargs)\u001b[0m\n\u001b[1;32m    168\u001b[0m         output \u001b[38;5;241m=\u001b[39m module\u001b[38;5;241m.\u001b[39m_old_forward(\u001b[38;5;241m*\u001b[39margs, \u001b[38;5;241m*\u001b[39m\u001b[38;5;241m*\u001b[39mkwargs)\n\u001b[1;32m    169\u001b[0m \u001b[38;5;28;01melse\u001b[39;00m:\n\u001b[0;32m--> 170\u001b[0m     output \u001b[38;5;241m=\u001b[39m module\u001b[38;5;241m.\u001b[39m_old_forward(\u001b[38;5;241m*\u001b[39margs, \u001b[38;5;241m*\u001b[39m\u001b[38;5;241m*\u001b[39mkwargs)\n\u001b[1;32m    171\u001b[0m \u001b[38;5;28;01mreturn\u001b[39;00m module\u001b[38;5;241m.\u001b[39m_hf_hook\u001b[38;5;241m.\u001b[39mpost_forward(module, output)\n",
      "File \u001b[0;32m/net/scratch/slhleosun/miniconda3/envs/fixed_ai_env/lib/python3.11/site-packages/torch/nn/modules/linear.py:117\u001b[0m, in \u001b[0;36mLinear.forward\u001b[0;34m(self, input)\u001b[0m\n\u001b[1;32m    116\u001b[0m \u001b[38;5;28;01mdef\u001b[39;00m \u001b[38;5;21mforward\u001b[39m(\u001b[38;5;28mself\u001b[39m, \u001b[38;5;28minput\u001b[39m: Tensor) \u001b[38;5;241m-\u001b[39m\u001b[38;5;241m>\u001b[39m Tensor:\n\u001b[0;32m--> 117\u001b[0m     \u001b[38;5;28;01mreturn\u001b[39;00m F\u001b[38;5;241m.\u001b[39mlinear(\u001b[38;5;28minput\u001b[39m, \u001b[38;5;28mself\u001b[39m\u001b[38;5;241m.\u001b[39mweight, \u001b[38;5;28mself\u001b[39m\u001b[38;5;241m.\u001b[39mbias)\n",
      "\u001b[0;31mKeyboardInterrupt\u001b[0m: "
     ]
    }
   ],
   "source": [
    "import json\n",
    "import torch\n",
    "import numpy as np\n",
    "from transformers import AutoModelForCausalLM, AutoTokenizer\n",
    "from sklearn.linear_model import Ridge\n",
    "from sklearn.metrics import r2_score\n",
    "import matplotlib.pyplot as plt\n",
    "import seaborn as sns\n",
    "from tqdm import tqdm\n",
    "import random\n",
    "import re\n",
    "import os\n",
    "from collections import defaultdict\n",
    "import gc\n",
    "\n",
    "# Set device\n",
    "device = torch.device(\"cuda\" if torch.cuda.is_available() else \"cpu\")\n",
    "print(f\"Using device: {device}\")\n",
    "\n",
    "# Create output directory\n",
    "os.makedirs(\"interp_plots\", exist_ok=True)\n",
    "\n",
    "# Initialize model and tokenizer\n",
    "MODEL_NAME = \"meta-llama/Meta-Llama-3-8B-Instruct\"\n",
    "print(\"Loading model and tokenizer...\")\n",
    "tokenizer = AutoTokenizer.from_pretrained(MODEL_NAME)\n",
    "tokenizer.pad_token = tokenizer.eos_token\n",
    "model = AutoModelForCausalLM.from_pretrained(\n",
    "    MODEL_NAME,\n",
    "    torch_dtype=torch.float16,  # Use float16 to save memory\n",
    "    device_map=\"auto\"  # Automatically distribute across GPUs\n",
    ")\n",
    "model.eval()\n",
    "\n",
    "# Get model config\n",
    "num_layers = model.config.num_hidden_layers\n",
    "print(f\"Model has {num_layers} layers\")\n",
    "\n",
    "def extract_correct_predictions(input_file, output_file, num_samples=200):\n",
    "    \"\"\"Extract prompts where pred == gold\"\"\"\n",
    "    correct_prompts = []\n",
    "    \n",
    "    with open(input_file, 'r') as f:\n",
    "        for line in f:\n",
    "            data = json.loads(line)\n",
    "            if data['pred'] == data['gold']:\n",
    "                correct_prompts.append(data)\n",
    "                if len(correct_prompts) >= num_samples:\n",
    "                    break\n",
    "    \n",
    "    # Save to new file\n",
    "    with open(output_file, 'w') as f:\n",
    "        for prompt_data in correct_prompts:\n",
    "            f.write(json.dumps(prompt_data) + '\\n')\n",
    "    \n",
    "    print(f\"Extracted {len(correct_prompts)} correct predictions\")\n",
    "    return correct_prompts\n",
    "\n",
    "def parse_prompt(prompt):\n",
    "    \"\"\"Extract category type and list items from prompt\"\"\"\n",
    "    type_match = re.search(r'Type: (\\w+)', prompt)\n",
    "    list_match = re.search(r'List: \\[(.*?)\\]', prompt)\n",
    "    \n",
    "    if not type_match or not list_match:\n",
    "        raise ValueError(\"Could not parse prompt\")\n",
    "    \n",
    "    category = type_match.group(1)\n",
    "    items = [item.strip() for item in list_match.group(1).split(',')]\n",
    "    \n",
    "    return category, items\n",
    "\n",
    "def get_token_positions_for_items(tokenizer, prompt, items):\n",
    "    \"\"\"Map each list item to its token position in the prompt\"\"\"\n",
    "    # Tokenize the full prompt\n",
    "    encoding = tokenizer(prompt, return_tensors=\"pt\")\n",
    "    tokens = tokenizer.convert_ids_to_tokens(encoding.input_ids[0])\n",
    "    \n",
    "    # Debug: print tokens for first example\n",
    "    if items[0] == 'stool':  # First example\n",
    "        print(f\"\\nDebug - Tokenization:\")\n",
    "        print(f\"  Tokens (first 40): {tokens[:40]}\")\n",
    "        print(f\"  Looking for items: {items}\")\n",
    "    \n",
    "    # Find positions of list items\n",
    "    item_positions = []\n",
    "    \n",
    "    for item in items:\n",
    "        # Try to find the item in the token sequence\n",
    "        item_lower = item.lower()\n",
    "        found = False\n",
    "        \n",
    "        # Look for exact match first\n",
    "        for i, token in enumerate(tokens):\n",
    "            # Remove special tokens markers\n",
    "            clean_token = token.replace('Ġ', '').replace('▁', '').lower()\n",
    "            \n",
    "            if clean_token == item_lower:\n",
    "                item_positions.append(i)\n",
    "                found = True\n",
    "                break\n",
    "        \n",
    "        # If not found, look for partial matches (item might be split across tokens)\n",
    "        if not found:\n",
    "            # Tokenize the item separately\n",
    "            item_tokens = tokenizer.tokenize(item)\n",
    "            item_tokens_clean = [t.replace('Ġ', '').replace('▁', '').lower() for t in item_tokens]\n",
    "            \n",
    "            # Look for sequence of tokens\n",
    "            for i in range(len(tokens) - len(item_tokens) + 1):\n",
    "                tokens_slice = [tokens[j].replace('Ġ', '').replace('▁', '').lower() \n",
    "                               for j in range(i, i + len(item_tokens))]\n",
    "                if tokens_slice == item_tokens_clean:\n",
    "                    item_positions.append(i)\n",
    "                    found = True\n",
    "                    break\n",
    "        \n",
    "        # If still not found, append -1 as placeholder\n",
    "        if not found:\n",
    "            item_positions.append(-1)\n",
    "    \n",
    "    # Filter out -1 values\n",
    "    valid_positions = [pos for pos in item_positions if pos != -1]\n",
    "    \n",
    "    if items[0] == 'stool':  # Debug first example\n",
    "        print(f\"  Found positions: {item_positions}\")\n",
    "        print(f\"  Valid positions: {valid_positions}\")\n",
    "    \n",
    "    return valid_positions\n",
    "\n",
    "def is_category_match(item, category):\n",
    "    \"\"\"Check if an item belongs to a category\"\"\"\n",
    "    CATEGORY_ITEMS = {\n",
    "        \"fruit\": [\n",
    "            \"apple\", \"banana\", \"cherry\", \"grape\", \"orange\",\n",
    "            \"pear\", \"peach\", \"mango\", \"tangerine\", \"plum\"\n",
    "        ],\n",
    "        \"animal\": [\n",
    "            \"dog\", \"cat\", \"horse\", \"cow\", \"sheep\",\n",
    "            \"lion\", \"tiger\", \"bear\", \"rabbit\", \"fox\"\n",
    "        ],\n",
    "        \"vehicle\": [\n",
    "            \"car\", \"bus\", \"truck\", \"bicycle\", \"motorcycle\",\n",
    "            \"train\", \"boat\", \"plane\", \"scooter\", \"van\"\n",
    "        ],\n",
    "        \"instrument\": [           \n",
    "            \"guitar\", \"piano\", \"violin\", \"drum\", \"flute\",\n",
    "            \"trumpet\", \"saxophone\", \"cello\", \"clarinet\", \"harp\"\n",
    "        ],\n",
    "        \"furniture\": [            \n",
    "            \"chair\", \"table\", \"sofa\", \"bed\", \"desk\",\n",
    "            \"cabinet\", \"dresser\", \"stool\", \"wardrobe\", \"bookshelf\"\n",
    "        ],\n",
    "    }\n",
    "    \n",
    "    return item.lower() in CATEGORY_ITEMS.get(category.lower(), [])\n",
    "\n",
    "def count_category_matches(items, category):\n",
    "    \"\"\"Count how many items match the category\"\"\"\n",
    "    count = 0\n",
    "    for item in items:\n",
    "        if is_category_match(item, category):\n",
    "            count += 1\n",
    "    return count\n",
    "\n",
    "def compute_running_counts(items, category):\n",
    "    \"\"\"Compute running count of category matches at each position\"\"\"\n",
    "    running_counts = []\n",
    "    count = 0\n",
    "    for i, item in enumerate(items):\n",
    "        if is_category_match(item, category):\n",
    "            count += 1\n",
    "        running_counts.append(count)\n",
    "    return running_counts\n",
    "\n",
    "def get_cumulative_counts_up_to_position(items, category, positions):\n",
    "    \"\"\"Get the cumulative count up to each token position\"\"\"\n",
    "    # If we don't have valid positions, return empty\n",
    "    if not positions:\n",
    "        return []\n",
    "    \n",
    "    # For each token position, count how many category items we've seen\n",
    "    cumulative_counts = []\n",
    "    \n",
    "    # Create a mapping of positions to items\n",
    "    pos_to_item_idx = {}\n",
    "    for item_idx, pos in enumerate(positions):\n",
    "        if pos != -1 and item_idx < len(items):\n",
    "            pos_to_item_idx[pos] = item_idx\n",
    "    \n",
    "    # Sort positions to process in order\n",
    "    sorted_positions = sorted(positions)\n",
    "    \n",
    "    for pos in positions:  # Keep original order\n",
    "        # Count items up to this position\n",
    "        count = 0\n",
    "        for sorted_pos in sorted_positions:\n",
    "            if sorted_pos <= pos and sorted_pos in pos_to_item_idx:\n",
    "                item_idx = pos_to_item_idx[sorted_pos]\n",
    "                if item_idx < len(items) and is_category_match(items[item_idx], category):\n",
    "                    count += 1\n",
    "        cumulative_counts.append(count)\n",
    "    \n",
    "    return cumulative_counts\n",
    "\n",
    "def get_hidden_states_with_hook(model, input_ids):\n",
    "    \"\"\"Get hidden states for all layers using hooks\"\"\"\n",
    "    hidden_states = {}\n",
    "    \n",
    "    def hook_fn(name):\n",
    "        def hook(module, input, output):\n",
    "            # Store the hidden states, move to CPU immediately to save GPU memory\n",
    "            hidden_states[name] = output[0].detach().cpu()\n",
    "        return hook\n",
    "    \n",
    "    # Register hooks\n",
    "    hooks = []\n",
    "    for i in range(num_layers):\n",
    "        layer = model.model.layers[i]\n",
    "        hook = layer.register_forward_hook(hook_fn(f\"layer_{i}\"))\n",
    "        hooks.append(hook)\n",
    "    \n",
    "    # Forward pass\n",
    "    with torch.no_grad():\n",
    "        with torch.cuda.amp.autocast():  # Use mixed precision to save memory\n",
    "            outputs = model(input_ids)\n",
    "    \n",
    "    # Remove hooks\n",
    "    for hook in hooks:\n",
    "        hook.remove()\n",
    "    \n",
    "    return hidden_states\n",
    "\n",
    "def create_prefix_permuted_prompt(prompt, items, k):\n",
    "    \"\"\"Create a prompt with the first k+1 items shuffled\"\"\"\n",
    "    # Shuffle first k+1 items\n",
    "    prefix = items[:k+1].copy()\n",
    "    random.shuffle(prefix)\n",
    "    \n",
    "    # Combine with rest of list\n",
    "    permuted_items = prefix + items[k+1:]\n",
    "    \n",
    "    # Reconstruct prompt\n",
    "    list_str = ', '.join(permuted_items)\n",
    "    permuted_prompt = re.sub(r'List: \\[.*?\\]', f'List: [{list_str}]', prompt)\n",
    "    \n",
    "    return permuted_prompt, permuted_items\n",
    "\n",
    "def train_probes(hidden_states_dict, running_counts_dict, token_positions_dict, layer_idx):\n",
    "    \"\"\"Train linear probes to predict running counts from hidden states\"\"\"\n",
    "    X_all = []\n",
    "    y_all = []\n",
    "    \n",
    "    for prompt_idx, hidden_states in hidden_states_dict.items():\n",
    "        running_counts = running_counts_dict[prompt_idx]\n",
    "        token_positions = token_positions_dict[prompt_idx]\n",
    "        \n",
    "        # Debug: print sample data\n",
    "        if prompt_idx == 0 and layer_idx == 0:\n",
    "            print(f\"\\nDebug - Prompt {prompt_idx}:\")\n",
    "            print(f\"  Running counts: {running_counts}\")\n",
    "            print(f\"  Token positions: {token_positions}\")\n",
    "            print(f\"  Hidden states shape: {hidden_states.shape}\")\n",
    "        \n",
    "        # For each list item and its corresponding token position\n",
    "        for i, (count, token_pos) in enumerate(zip(running_counts, token_positions)):\n",
    "            if token_pos < hidden_states.shape[1]:  # Ensure we're within bounds\n",
    "                # Use the hidden state at this token position\n",
    "                hidden_state = hidden_states[0, token_pos].numpy()\n",
    "                X_all.append(hidden_state)\n",
    "                y_all.append(count)\n",
    "    \n",
    "    if len(X_all) == 0:\n",
    "        return None, 0.0\n",
    "    \n",
    "    X_all = np.array(X_all)\n",
    "    y_all = np.array(y_all)\n",
    "    \n",
    "    # Debug: print training data info\n",
    "    if layer_idx == 0:\n",
    "        print(f\"\\nDebug - Training data for layer {layer_idx}:\")\n",
    "        print(f\"  X shape: {X_all.shape}\")\n",
    "        print(f\"  y shape: {y_all.shape}\")\n",
    "        print(f\"  y unique values: {np.unique(y_all)}\")\n",
    "        print(f\"  y mean: {np.mean(y_all):.3f}, std: {np.std(y_all):.3f}\")\n",
    "    \n",
    "    # Split data for proper evaluation\n",
    "    from sklearn.model_selection import train_test_split\n",
    "    if len(X_all) > 20:  # Only split if we have enough data\n",
    "        X_train, X_test, y_train, y_test = train_test_split(\n",
    "            X_all, y_all, test_size=0.2, random_state=42\n",
    "        )\n",
    "    else:\n",
    "        X_train, X_test = X_all, X_all\n",
    "        y_train, y_test = y_all, y_all\n",
    "    \n",
    "    # Train Ridge regression with cross-validation\n",
    "    from sklearn.model_selection import cross_val_score\n",
    "    alphas = [0.01, 0.1, 1.0, 10.0, 100.0]\n",
    "    best_alpha = 1.0\n",
    "    best_cv_score = -float('inf')\n",
    "    \n",
    "    for alpha in alphas:\n",
    "        probe = Ridge(alpha=alpha)\n",
    "        cv_scores = cross_val_score(probe, X_train, y_train, cv=3, scoring='r2')\n",
    "        mean_cv_score = np.mean(cv_scores)\n",
    "        if mean_cv_score > best_cv_score:\n",
    "            best_cv_score = mean_cv_score\n",
    "            best_alpha = alpha\n",
    "    \n",
    "    # Train final model with best alpha\n",
    "    probe = Ridge(alpha=best_alpha)\n",
    "    probe.fit(X_train, y_train)\n",
    "    \n",
    "    # Evaluate on test set\n",
    "    y_pred = probe.predict(X_test)\n",
    "    score = r2_score(y_test, y_pred)\n",
    "    \n",
    "    # Additional debug for first layer\n",
    "    if layer_idx == 0:\n",
    "        print(f\"  Best alpha: {best_alpha}\")\n",
    "        print(f\"  CV score: {best_cv_score:.4f}\")\n",
    "        print(f\"  Test R² score: {score:.4f}\")\n",
    "    \n",
    "    return probe, score\n",
    "\n",
    "def patch_and_evaluate(model, tokenizer, prompt_data, layer_idx, probes):\n",
    "    \"\"\"Patch hidden states and evaluate impact on final answer\"\"\"\n",
    "    prompt = prompt_data['prompt']\n",
    "    gold_answer = prompt_data['gold']\n",
    "    category, items = parse_prompt(prompt)\n",
    "    \n",
    "    # Get token positions for list items\n",
    "    token_positions = get_token_positions_for_items(tokenizer, prompt, items)\n",
    "    \n",
    "    # Tokenize original prompt\n",
    "    inputs = tokenizer(prompt, return_tensors=\"pt\", padding=True).to(device)\n",
    "    \n",
    "    # Get clean run hidden states\n",
    "    clean_hidden_states = get_hidden_states_with_hook(model, inputs.input_ids)\n",
    "    \n",
    "    patching_results = []\n",
    "    \n",
    "    for k in range(min(len(items) - 1, len(token_positions) - 1)):  # For each prefix position\n",
    "        # Create prefix-permuted version\n",
    "        permuted_prompt, permuted_items = create_prefix_permuted_prompt(prompt, items, k)\n",
    "        permuted_count = count_category_matches(permuted_items, category)\n",
    "        \n",
    "        # Get counterfactual hidden states\n",
    "        permuted_inputs = tokenizer(permuted_prompt, return_tensors=\"pt\", padding=True).to(device)\n",
    "        \n",
    "        # Ensure both sequences have the same length\n",
    "        if permuted_inputs.input_ids.shape[1] != inputs.input_ids.shape[1]:\n",
    "            continue\n",
    "            \n",
    "        counterfactual_hidden_states = get_hidden_states_with_hook(model, permuted_inputs.input_ids)\n",
    "        \n",
    "        # Get the token position for item k\n",
    "        if k >= len(token_positions):\n",
    "            continue\n",
    "        token_pos = token_positions[k]\n",
    "        \n",
    "        # Check if token position is valid\n",
    "        if token_pos >= clean_hidden_states[f\"layer_{layer_idx}\"].shape[1]:\n",
    "            continue\n",
    "        \n",
    "        # Patch at specified layer, token position for item k\n",
    "        def patching_hook(module, input, output):\n",
    "            # Replace hidden state at token position with counterfactual\n",
    "            hidden_states = output[0]\n",
    "            if token_pos < hidden_states.shape[1]:\n",
    "                hidden_states[:, token_pos] = counterfactual_hidden_states[f\"layer_{layer_idx}\"][:, token_pos].to(device)\n",
    "            return (hidden_states,) + output[1:]\n",
    "        \n",
    "        # Register patching hook\n",
    "        hook = model.model.layers[layer_idx].register_forward_hook(patching_hook)\n",
    "        \n",
    "        # Run patched forward pass\n",
    "        with torch.no_grad():\n",
    "            outputs = model.generate(\n",
    "                inputs.input_ids,\n",
    "                max_new_tokens=10,\n",
    "                do_sample=False,\n",
    "                pad_token_id=tokenizer.eos_token_id,\n",
    "                attention_mask=inputs.attention_mask\n",
    "            )\n",
    "        \n",
    "        # Remove hook\n",
    "        hook.remove()\n",
    "        \n",
    "        # Extract predicted number\n",
    "        generated_text = tokenizer.decode(outputs[0], skip_special_tokens=True)\n",
    "        pred_match = re.search(r'\\((\\d+)\\)', generated_text)\n",
    "        if pred_match:\n",
    "            patched_pred = int(pred_match.group(1))\n",
    "        else:\n",
    "            patched_pred = -1\n",
    "        \n",
    "        patching_results.append({\n",
    "            'position': k,\n",
    "            'token_position': token_pos,\n",
    "            'original_answer': gold_answer,\n",
    "            'permuted_answer': permuted_count,\n",
    "            'patched_prediction': patched_pred,\n",
    "            'shifted_correctly': patched_pred == permuted_count\n",
    "        })\n",
    "    \n",
    "    return patching_results\n",
    "\n",
    "def visualize_probe_scores(probe_scores, best_layer):\n",
    "    \"\"\"Visualize probe R² scores across layers\"\"\"\n",
    "    plt.figure(figsize=(12, 6))\n",
    "    \n",
    "    layers = sorted(probe_scores.keys())\n",
    "    scores = [probe_scores[l] for l in layers]\n",
    "    \n",
    "    # Create bar plot\n",
    "    bars = plt.bar(layers, scores, color='skyblue', edgecolor='navy', alpha=0.7)\n",
    "    \n",
    "    # Highlight best layer\n",
    "    bars[best_layer].set_color('red')\n",
    "    bars[best_layer].set_alpha(1.0)\n",
    "    \n",
    "    plt.xlabel('Layer', fontsize=12)\n",
    "    plt.ylabel('R² Score', fontsize=12)\n",
    "    plt.title('Linear Probe Performance Across Layers (Predicting Running Count)', fontsize=14)\n",
    "    plt.grid(True, alpha=0.3)\n",
    "    \n",
    "    # Add value labels on bars\n",
    "    for i, (layer, score) in enumerate(zip(layers, scores)):\n",
    "        if layer == best_layer:\n",
    "            plt.text(layer, score + 0.01, f'{score:.3f}', ha='center', fontweight='bold')\n",
    "        elif i % 4 == 0:  # Show every 4th layer to avoid crowding\n",
    "            plt.text(layer, score + 0.01, f'{score:.3f}', ha='center', fontsize=9)\n",
    "    \n",
    "    plt.tight_layout()\n",
    "    plt.savefig('interp_plots/probe_scores_by_layer.png', dpi=150)\n",
    "    plt.show()\n",
    "\n",
    "def visualize_patching_heatmap(patching_results, layer_idx):\n",
    "    \"\"\"Create heatmap for patching results at a specific layer\"\"\"\n",
    "    if not patching_results:\n",
    "        return\n",
    "    \n",
    "    # Group by position\n",
    "    success_matrix = defaultdict(list)\n",
    "    for result in patching_results:\n",
    "        success_matrix[result['position']].append(int(result['shifted_correctly']))\n",
    "    \n",
    "    if not success_matrix:\n",
    "        return\n",
    "    \n",
    "    # Convert to array for plotting\n",
    "    max_pos = max(success_matrix.keys()) + 1\n",
    "    heatmap_data = np.zeros((1, max_pos))\n",
    "    for pos, successes in success_matrix.items():\n",
    "        heatmap_data[0, pos] = np.mean(successes)\n",
    "    \n",
    "    # Plot\n",
    "    plt.figure(figsize=(12, 3))\n",
    "    sns.heatmap(heatmap_data, \n",
    "                xticklabels=range(max_pos),\n",
    "                yticklabels=[f'Layer {layer_idx}'],\n",
    "                cmap='RdYlGn',\n",
    "                vmin=0, vmax=1,\n",
    "                annot=True, fmt='.2f',\n",
    "                cbar_kws={'label': 'Patching Success Rate'})\n",
    "    plt.xlabel('List Position')\n",
    "    plt.title(f'Impact of Patching Hidden States at Layer {layer_idx}')\n",
    "    plt.tight_layout()\n",
    "    plt.savefig(f'interp_plots/patching_heatmap_layer_{layer_idx}.png', dpi=150)\n",
    "    plt.show()\n",
    "\n",
    "def visualize_averaged_impact(all_layer_results):\n",
    "    \"\"\"Visualize averaged impact across all layers\"\"\"\n",
    "    layer_avg_impacts = {}\n",
    "    \n",
    "    for layer_idx, results in all_layer_results.items():\n",
    "        if results:\n",
    "            # Calculate average success rate across all positions\n",
    "            all_successes = [r['shifted_correctly'] for r in results]\n",
    "            avg_impact = np.mean(all_successes) if all_successes else 0\n",
    "            layer_avg_impacts[layer_idx] = avg_impact\n",
    "    \n",
    "    if not layer_avg_impacts:\n",
    "        return\n",
    "    \n",
    "    # Plot\n",
    "    plt.figure(figsize=(12, 6))\n",
    "    \n",
    "    layers = sorted(layer_avg_impacts.keys())\n",
    "    impacts = [layer_avg_impacts[l] for l in layers]\n",
    "    \n",
    "    plt.plot(layers, impacts, 'o-', linewidth=2, markersize=8, color='darkblue')\n",
    "    plt.fill_between(layers, impacts, alpha=0.3, color='lightblue')\n",
    "    \n",
    "    plt.xlabel('Layer', fontsize=12)\n",
    "    plt.ylabel('Average Patching Success Rate', fontsize=12)\n",
    "    plt.title('Average Impact of Patching Across Layers', fontsize=14)\n",
    "    plt.grid(True, alpha=0.3)\n",
    "    plt.ylim(0, 1.05)\n",
    "    \n",
    "    # Mark the best layer\n",
    "    best_impact_layer = max(layer_avg_impacts, key=layer_avg_impacts.get)\n",
    "    plt.axvline(x=best_impact_layer, color='red', linestyle='--', alpha=0.7, \n",
    "                label=f'Best Layer: {best_impact_layer}')\n",
    "    plt.legend()\n",
    "    \n",
    "    plt.tight_layout()\n",
    "    plt.savefig('interp_plots/average_impact_by_layer.png', dpi=150)\n",
    "    plt.show()\n",
    "\n",
    "def main():\n",
    "    # Set CUDA environment for better debugging\n",
    "    os.environ['CUDA_LAUNCH_BLOCKING'] = '1'\n",
    "    \n",
    "    # Step 1: Extract correct predictions\n",
    "    input_file = \"/net/scratch/slhleosun/counting_items/behavioral_results/llama3-8b-inst/predictions.jsonl\"\n",
    "    output_file = \"correct_predictions.jsonl\"\n",
    "    correct_prompts = extract_correct_predictions(input_file, output_file)\n",
    "    \n",
    "    # Step 2 & 3: Run clean and counterfactual runs, collect hidden states\n",
    "    print(\"\\nCollecting hidden states for clean runs...\")\n",
    "    clean_hidden_states = {}\n",
    "    running_counts_all = {}\n",
    "    token_positions_all = {}\n",
    "    \n",
    "    # Also collect some statistics\n",
    "    total_items = 0\n",
    "    total_matches = 0\n",
    "    \n",
    "    # Process in smaller batches to avoid memory issues\n",
    "    batch_size = 5\n",
    "    num_samples = 100  # Increased from 30 to 100 for better analysis\n",
    "    \n",
    "    for batch_start in range(0, min(num_samples, len(correct_prompts)), batch_size):\n",
    "        batch_end = min(batch_start + batch_size, num_samples, len(correct_prompts))\n",
    "        print(f\"\\nProcessing batch {batch_start//batch_size + 1}/{(num_samples + batch_size - 1)//batch_size}\")\n",
    "        \n",
    "        for idx in tqdm(range(batch_start, batch_end)):\n",
    "            prompt_data = correct_prompts[idx]\n",
    "            prompt = prompt_data['prompt']\n",
    "            \n",
    "            try:\n",
    "                category, items = parse_prompt(prompt)\n",
    "                \n",
    "                # Get token positions for list items\n",
    "                token_positions = get_token_positions_for_items(tokenizer, prompt, items)\n",
    "                \n",
    "                # Skip if we couldn't find enough token positions\n",
    "                if len(token_positions) < len(items) * 0.5:  # If we found less than half\n",
    "                    print(f\"\\nWarning: Could only find {len(token_positions)}/{len(items)} items in prompt {idx}\")\n",
    "                    continue\n",
    "                    \n",
    "                token_positions_all[idx] = token_positions\n",
    "                \n",
    "                # Tokenize\n",
    "                inputs = tokenizer(prompt, return_tensors=\"pt\", padding=True).to(device)\n",
    "                \n",
    "                # Get hidden states\n",
    "                hidden_states = get_hidden_states_with_hook(model, inputs.input_ids)\n",
    "                \n",
    "                # Store hidden states for each layer\n",
    "                for layer_idx in range(num_layers):\n",
    "                    if layer_idx not in clean_hidden_states:\n",
    "                        clean_hidden_states[layer_idx] = {}\n",
    "                    clean_hidden_states[layer_idx][idx] = hidden_states[f\"layer_{layer_idx}\"]\n",
    "                \n",
    "                # Compute cumulative counts at each token position\n",
    "                running_counts = get_cumulative_counts_up_to_position(items, category, token_positions)\n",
    "                running_counts_all[idx] = running_counts\n",
    "                \n",
    "                # Collect statistics\n",
    "                total_items += len(items)\n",
    "                final_count = count_category_matches(items, category)\n",
    "                total_matches += final_count\n",
    "                \n",
    "                # Debug first few examples\n",
    "                if idx < 3:\n",
    "                    print(f\"\\nDebug - Example {idx}:\")\n",
    "                    print(f\"  Category: {category}\")\n",
    "                    print(f\"  Items: {items}\")\n",
    "                    print(f\"  Gold answer: {prompt_data['gold']}\")\n",
    "                    print(f\"  Actual count: {final_count}\")\n",
    "                    print(f\"  Token positions found: {len(token_positions)}/{len(items)}\")\n",
    "                    print(f\"  Running counts: {running_counts}\")\n",
    "                \n",
    "                # Clean up\n",
    "                del inputs\n",
    "                del hidden_states\n",
    "                \n",
    "            except Exception as e:\n",
    "                print(f\"Error processing prompt {idx}: {e}\")\n",
    "                continue\n",
    "        \n",
    "        # Clear GPU memory after each batch\n",
    "        gc.collect()\n",
    "        if torch.cuda.is_available():\n",
    "            torch.cuda.synchronize()\n",
    "            torch.cuda.empty_cache()\n",
    "    \n",
    "    print(f\"\\nDataset statistics:\")\n",
    "    print(f\"  Total items: {total_items}\")\n",
    "    print(f\"  Total matches: {total_matches}\")\n",
    "    print(f\"  Match rate: {total_matches/total_items:.2%}\" if total_items > 0 else \"N/A\")\n",
    "    \n",
    "    # Step 4: Train probes at each layer\n",
    "    print(\"\\nTraining probes at each layer...\")\n",
    "    probe_scores = {}\n",
    "    probes = {}\n",
    "    \n",
    "    for layer_idx in tqdm(range(num_layers)):\n",
    "        if layer_idx in clean_hidden_states and clean_hidden_states[layer_idx]:\n",
    "            probe, score = train_probes(clean_hidden_states[layer_idx], running_counts_all, token_positions_all, layer_idx)\n",
    "            probe_scores[layer_idx] = score\n",
    "            probes[layer_idx] = probe\n",
    "            if layer_idx % 8 == 0:  # Print every 8 layers\n",
    "                print(f\"Layer {layer_idx}: R² score = {score:.4f}\")\n",
    "        else:\n",
    "            probe_scores[layer_idx] = 0.0\n",
    "            probes[layer_idx] = None\n",
    "    \n",
    "    # Find best layer\n",
    "    if probe_scores:\n",
    "        best_layer = max(probe_scores, key=probe_scores.get)\n",
    "        print(f\"\\nBest layer for count tracking: Layer {best_layer} (R² = {probe_scores[best_layer]:.4f})\")\n",
    "        \n",
    "        # Visualize probe scores\n",
    "        visualize_probe_scores(probe_scores, best_layer)\n",
    "    else:\n",
    "        print(\"Error: No probe scores computed\")\n",
    "        return\n",
    "    \n",
    "    # Step 5 & 6: Patch and evaluate on multiple layers\n",
    "    print(\"\\nPatching and evaluating...\")\n",
    "    \n",
    "    # Select layers to evaluate - best layer + evenly spaced others\n",
    "    layers_to_evaluate = [best_layer]  # Start with best layer\n",
    "    other_layers = [i for i in range(0, num_layers, 4) if i != best_layer]  # Every 4th layer\n",
    "    layers_to_evaluate.extend(other_layers)\n",
    "    layers_to_evaluate = sorted(set(layers_to_evaluate))  # Remove duplicates and sort\n",
    "    \n",
    "    print(f\"Evaluating layers: {layers_to_evaluate}\")\n",
    "    \n",
    "    all_layer_results = {}\n",
    "    num_prompts_to_patch = min(100, len(correct_prompts))  # Increased from 20 to 100\n",
    "    \n",
    "    for layer_idx in layers_to_evaluate:\n",
    "        print(f\"\\nPatching at layer {layer_idx}...\")\n",
    "        layer_patching_results = []\n",
    "        \n",
    "        for prompt_data in tqdm(correct_prompts[:num_prompts_to_patch]):\n",
    "            try:\n",
    "                results = patch_and_evaluate(model, tokenizer, prompt_data, layer_idx, probes)\n",
    "                layer_patching_results.extend(results)\n",
    "            except Exception as e:\n",
    "                print(f\"Error patching prompt: {e}\")\n",
    "                continue\n",
    "        \n",
    "        all_layer_results[layer_idx] = layer_patching_results\n",
    "        \n",
    "        # Visualize results for this layer\n",
    "        if layer_patching_results:\n",
    "            visualize_patching_heatmap(layer_patching_results, layer_idx)\n",
    "        \n",
    "        # Clear memory\n",
    "        gc.collect()\n",
    "        if torch.cuda.is_available():\n",
    "            torch.cuda.synchronize()\n",
    "            torch.cuda.empty_cache()\n",
    "    \n",
    "    # Step 7: Final visualization - averaged impact across layers\n",
    "    print(\"\\nCreating final visualizations...\")\n",
    "    visualize_averaged_impact(all_layer_results)\n",
    "    \n",
    "    # Save detailed results\n",
    "    with open('patching_results.json', 'w') as f:\n",
    "        json.dump({\n",
    "            'probe_scores': probe_scores,\n",
    "            'best_layer': best_layer,\n",
    "            'layers_evaluated': layers_to_evaluate,\n",
    "            'patching_results_by_layer': {str(k): v for k, v in all_layer_results.items()},\n",
    "            'dataset_stats': {\n",
    "                'total_items': total_items,\n",
    "                'total_matches': total_matches,\n",
    "                'match_rate': total_matches/total_items if total_items > 0 else 0\n",
    "            }\n",
    "        }, f, indent=2)\n",
    "    \n",
    "    print(\"\\nAnalysis complete! Results saved to patching_results.json and plots in interp_plots/\")\n",
    "\n",
    "if __name__ == \"__main__\":\n",
    "    main()"
   ]
  },
  {
   "cell_type": "code",
   "execution_count": null,
   "id": "52a0e377-99c6-4108-87fa-8ba2a3d5ac34",
   "metadata": {},
   "outputs": [],
   "source": [
    "tokenizer.pad_token = tokenizer.eos_token"
   ]
  },
  {
   "cell_type": "code",
   "execution_count": 1,
   "id": "934d963e-785a-4495-9240-4a7f612d17aa",
   "metadata": {
    "scrolled": true
   },
   "outputs": [
    {
     "name": "stdout",
     "output_type": "stream",
     "text": [
      "Using device: cuda\n",
      "Loading model and tokenizer...\n"
     ]
    },
    {
     "data": {
      "application/vnd.jupyter.widget-view+json": {
       "model_id": "737be845f1954af09de1e2af86100c57",
       "version_major": 2,
       "version_minor": 0
      },
      "text/plain": [
       "Loading checkpoint shards:   0%|          | 0/4 [00:00<?, ?it/s]"
      ]
     },
     "metadata": {},
     "output_type": "display_data"
    },
    {
     "name": "stdout",
     "output_type": "stream",
     "text": [
      "Model has 32 layers\n",
      "Extracted 200 correct predictions\n",
      "\n",
      "Collecting hidden states for clean runs...\n",
      "\n",
      "Processing batch 1/20\n"
     ]
    },
    {
     "name": "stderr",
     "output_type": "stream",
     "text": [
      "  0%|                                                                           | 0/5 [00:00<?, ?it/s]"
     ]
    },
    {
     "name": "stdout",
     "output_type": "stream",
     "text": [
      "\n",
      "Debug - Tokenization:\n",
      "  Tokens (first 40): ['<|begin_of_text|>', 'Count', 'Ġthe', 'Ġnumber', 'Ġof', 'Ġwords', 'Ġin', 'Ġthe', 'Ġfollowing', 'Ġlist', 'Ġthat', 'Ġmatch', 'Ġthe', 'Ġgiven', 'Ġtype', ',', 'Ġand', 'Ġput', 'Ġthe', 'Ġnumerical', 'Ġanswer', 'Ġin', 'Ġparentheses', '.Ċ', 'Type', ':', 'Ġfruit', 'Ċ', 'List', ':', 'Ġ[', 'st', 'ool', ',', 'Ġbear', ',', 'Ġlion', ',', 'Ġsheep', ',']\n",
      "  Looking for items: ['stool', 'bear', 'lion', 'sheep', 'tangerine', 'peach']\n",
      "  Found positions: [31, 34, 36, 38, 40, 44]\n",
      "  Valid positions: [31, 34, 36, 38, 40, 44]\n"
     ]
    },
    {
     "name": "stderr",
     "output_type": "stream",
     "text": [
      "/tmp/ipykernel_1199722/1015936667.py:224: FutureWarning: `torch.cuda.amp.autocast(args...)` is deprecated. Please use `torch.amp.autocast('cuda', args...)` instead.\n",
      "  with torch.cuda.amp.autocast():  # Use mixed precision to save memory\n",
      " 60%|████████████████████████████████████████▏                          | 3/5 [00:13<00:06,  3.45s/it]"
     ]
    },
    {
     "name": "stdout",
     "output_type": "stream",
     "text": [
      "\n",
      "Debug - Example 0:\n",
      "  Category: fruit\n",
      "  Items: ['stool', 'bear', 'lion', 'sheep', 'tangerine', 'peach']\n",
      "  Gold answer: 2\n",
      "  Actual count: 2\n",
      "  Token positions found: 6/6\n",
      "  Running counts: [0, 0, 0, 0, 1, 2]\n",
      "\n",
      "Debug - Example 1:\n",
      "  Category: furniture\n",
      "  Items: ['trumpet', 'horse', 'cabinet', 'table', 'desk', 'flute']\n",
      "  Gold answer: 3\n",
      "  Actual count: 3\n",
      "  Token positions found: 6/6\n",
      "  Running counts: [0, 0, 1, 2, 3, 3]\n",
      "\n",
      "Debug - Example 2:\n",
      "  Category: instrument\n",
      "  Items: ['scooter', 'cello', 'bear', 'apple', 'dog', 'desk', 'plane']\n",
      "  Gold answer: 1\n",
      "  Actual count: 1\n",
      "  Token positions found: 6/7\n",
      "  Running counts: [0, 1, 1, 1, 1, 1]\n"
     ]
    },
    {
     "name": "stderr",
     "output_type": "stream",
     "text": [
      "100%|███████████████████████████████████████████████████████████████████| 5/5 [00:13<00:00,  2.69s/it]\n"
     ]
    },
    {
     "name": "stdout",
     "output_type": "stream",
     "text": [
      "\n",
      "Processing batch 2/20\n"
     ]
    },
    {
     "name": "stderr",
     "output_type": "stream",
     "text": [
      "100%|███████████████████████████████████████████████████████████████████| 5/5 [00:00<00:00,  5.50it/s]\n"
     ]
    },
    {
     "name": "stdout",
     "output_type": "stream",
     "text": [
      "\n",
      "Processing batch 3/20\n"
     ]
    },
    {
     "name": "stderr",
     "output_type": "stream",
     "text": [
      "100%|███████████████████████████████████████████████████████████████████| 5/5 [00:01<00:00,  4.71it/s]\n"
     ]
    },
    {
     "name": "stdout",
     "output_type": "stream",
     "text": [
      "\n",
      "Processing batch 4/20\n"
     ]
    },
    {
     "name": "stderr",
     "output_type": "stream",
     "text": [
      "100%|███████████████████████████████████████████████████████████████████| 5/5 [00:00<00:00,  5.19it/s]\n"
     ]
    },
    {
     "name": "stdout",
     "output_type": "stream",
     "text": [
      "\n",
      "Processing batch 5/20\n"
     ]
    },
    {
     "name": "stderr",
     "output_type": "stream",
     "text": [
      "100%|███████████████████████████████████████████████████████████████████| 5/5 [00:00<00:00,  5.16it/s]\n"
     ]
    },
    {
     "name": "stdout",
     "output_type": "stream",
     "text": [
      "\n",
      "Processing batch 6/20\n"
     ]
    },
    {
     "name": "stderr",
     "output_type": "stream",
     "text": [
      "100%|███████████████████████████████████████████████████████████████████| 5/5 [00:00<00:00,  5.10it/s]\n"
     ]
    },
    {
     "name": "stdout",
     "output_type": "stream",
     "text": [
      "\n",
      "Processing batch 7/20\n"
     ]
    },
    {
     "name": "stderr",
     "output_type": "stream",
     "text": [
      "100%|███████████████████████████████████████████████████████████████████| 5/5 [00:00<00:00,  5.80it/s]\n"
     ]
    },
    {
     "name": "stdout",
     "output_type": "stream",
     "text": [
      "\n",
      "Processing batch 8/20\n"
     ]
    },
    {
     "name": "stderr",
     "output_type": "stream",
     "text": [
      "100%|███████████████████████████████████████████████████████████████████| 5/5 [00:00<00:00,  5.68it/s]\n"
     ]
    },
    {
     "name": "stdout",
     "output_type": "stream",
     "text": [
      "\n",
      "Processing batch 9/20\n"
     ]
    },
    {
     "name": "stderr",
     "output_type": "stream",
     "text": [
      "100%|███████████████████████████████████████████████████████████████████| 5/5 [00:01<00:00,  4.85it/s]\n"
     ]
    },
    {
     "name": "stdout",
     "output_type": "stream",
     "text": [
      "\n",
      "Processing batch 10/20\n"
     ]
    },
    {
     "name": "stderr",
     "output_type": "stream",
     "text": [
      "100%|███████████████████████████████████████████████████████████████████| 5/5 [00:00<00:00,  5.42it/s]\n"
     ]
    },
    {
     "name": "stdout",
     "output_type": "stream",
     "text": [
      "\n",
      "Processing batch 11/20\n"
     ]
    },
    {
     "name": "stderr",
     "output_type": "stream",
     "text": [
      "100%|███████████████████████████████████████████████████████████████████| 5/5 [00:00<00:00,  5.30it/s]\n"
     ]
    },
    {
     "name": "stdout",
     "output_type": "stream",
     "text": [
      "\n",
      "Processing batch 12/20\n"
     ]
    },
    {
     "name": "stderr",
     "output_type": "stream",
     "text": [
      "100%|███████████████████████████████████████████████████████████████████| 5/5 [00:00<00:00,  5.85it/s]\n"
     ]
    },
    {
     "name": "stdout",
     "output_type": "stream",
     "text": [
      "\n",
      "Processing batch 13/20\n"
     ]
    },
    {
     "name": "stderr",
     "output_type": "stream",
     "text": [
      "100%|███████████████████████████████████████████████████████████████████| 5/5 [00:01<00:00,  4.78it/s]\n"
     ]
    },
    {
     "name": "stdout",
     "output_type": "stream",
     "text": [
      "\n",
      "Processing batch 14/20\n"
     ]
    },
    {
     "name": "stderr",
     "output_type": "stream",
     "text": [
      "100%|███████████████████████████████████████████████████████████████████| 5/5 [00:00<00:00,  5.15it/s]\n"
     ]
    },
    {
     "name": "stdout",
     "output_type": "stream",
     "text": [
      "\n",
      "Processing batch 15/20\n"
     ]
    },
    {
     "name": "stderr",
     "output_type": "stream",
     "text": [
      "100%|███████████████████████████████████████████████████████████████████| 5/5 [00:00<00:00,  5.24it/s]\n"
     ]
    },
    {
     "name": "stdout",
     "output_type": "stream",
     "text": [
      "\n",
      "Processing batch 16/20\n"
     ]
    },
    {
     "name": "stderr",
     "output_type": "stream",
     "text": [
      "  0%|                                                                           | 0/5 [00:00<?, ?it/s]"
     ]
    },
    {
     "name": "stdout",
     "output_type": "stream",
     "text": [
      "\n",
      "Debug - Tokenization:\n",
      "  Tokens (first 40): ['<|begin_of_text|>', 'Count', 'Ġthe', 'Ġnumber', 'Ġof', 'Ġwords', 'Ġin', 'Ġthe', 'Ġfollowing', 'Ġlist', 'Ġthat', 'Ġmatch', 'Ġthe', 'Ġgiven', 'Ġtype', ',', 'Ġand', 'Ġput', 'Ġthe', 'Ġnumerical', 'Ġanswer', 'Ġin', 'Ġparentheses', '.Ċ', 'Type', ':', 'Ġvehicle', 'Ċ', 'List', ':', 'Ġ[', 'st', 'ool', ',', 'Ġpear', ',', 'Ġplane', ',', 'Ġpeach', ',']\n",
      "  Looking for items: ['stool', 'pear', 'plane', 'peach', 'chair', 'dresser', 'scooter']\n",
      "  Found positions: [31, 34, 36, 38, 40, 42, 44]\n",
      "  Valid positions: [31, 34, 36, 38, 40, 42, 44]\n"
     ]
    },
    {
     "name": "stderr",
     "output_type": "stream",
     "text": [
      "100%|███████████████████████████████████████████████████████████████████| 5/5 [00:00<00:00,  5.30it/s]\n"
     ]
    },
    {
     "name": "stdout",
     "output_type": "stream",
     "text": [
      "\n",
      "Processing batch 17/20\n"
     ]
    },
    {
     "name": "stderr",
     "output_type": "stream",
     "text": [
      "100%|███████████████████████████████████████████████████████████████████| 5/5 [00:00<00:00,  5.81it/s]\n"
     ]
    },
    {
     "name": "stdout",
     "output_type": "stream",
     "text": [
      "\n",
      "Debug - Tokenization:\n",
      "  Tokens (first 40): ['<|begin_of_text|>', 'Count', 'Ġthe', 'Ġnumber', 'Ġof', 'Ġwords', 'Ġin', 'Ġthe', 'Ġfollowing', 'Ġlist', 'Ġthat', 'Ġmatch', 'Ġthe', 'Ġgiven', 'Ġtype', ',', 'Ġand', 'Ġput', 'Ġthe', 'Ġnumerical', 'Ġanswer', 'Ġin', 'Ġparentheses', '.Ċ', 'Type', ':', 'Ġfruit', 'Ċ', 'List', ':', 'Ġ[', 'st', 'ool', ',', 'Ġpiano', ',', 'Ġorange', ',', 'Ġsheep', ',']\n",
      "  Looking for items: ['stool', 'piano', 'orange', 'sheep', 'clarinet', 'truck', 'dresser', 'chair', 'horse', 'harp']\n",
      "  Found positions: [31, 34, 36, 38, 40, 43, 45, 47, 49, -1]\n",
      "  Valid positions: [31, 34, 36, 38, 40, 43, 45, 47, 49]\n",
      "\n",
      "Processing batch 18/20\n"
     ]
    },
    {
     "name": "stderr",
     "output_type": "stream",
     "text": [
      "100%|███████████████████████████████████████████████████████████████████| 5/5 [00:00<00:00,  5.28it/s]\n"
     ]
    },
    {
     "name": "stdout",
     "output_type": "stream",
     "text": [
      "\n",
      "Processing batch 19/20\n"
     ]
    },
    {
     "name": "stderr",
     "output_type": "stream",
     "text": [
      "100%|███████████████████████████████████████████████████████████████████| 5/5 [00:01<00:00,  4.45it/s]\n"
     ]
    },
    {
     "name": "stdout",
     "output_type": "stream",
     "text": [
      "\n",
      "Processing batch 20/20\n"
     ]
    },
    {
     "name": "stderr",
     "output_type": "stream",
     "text": [
      "100%|███████████████████████████████████████████████████████████████████| 5/5 [00:00<00:00,  5.70it/s]\n"
     ]
    },
    {
     "name": "stdout",
     "output_type": "stream",
     "text": [
      "\n",
      "Dataset statistics:\n",
      "  Total items: 908\n",
      "  Total matches: 189\n",
      "  Match rate: 20.81%\n",
      "\n",
      "Training probes at each layer...\n"
     ]
    },
    {
     "name": "stderr",
     "output_type": "stream",
     "text": [
      "  0%|                                                                          | 0/32 [00:00<?, ?it/s]"
     ]
    },
    {
     "name": "stdout",
     "output_type": "stream",
     "text": [
      "\n",
      "Debug - Prompt 0:\n",
      "  Running counts: [0, 0, 0, 0, 1, 2]\n",
      "  Token positions: [31, 34, 36, 38, 40, 44]\n",
      "  Hidden states shape: torch.Size([1, 49, 4096])\n",
      "\n",
      "Debug - Training data for layer 0:\n",
      "  X shape: (860, 4096)\n",
      "  y shape: (860,)\n",
      "  y unique values: [0 1 2 3]\n",
      "  y mean: 0.943, std: 0.848\n"
     ]
    },
    {
     "name": "stderr",
     "output_type": "stream",
     "text": [
      "  3%|██                                                                | 1/32 [00:01<01:01,  1.98s/it]"
     ]
    },
    {
     "name": "stdout",
     "output_type": "stream",
     "text": [
      "  Best alpha: 0.1\n",
      "  CV score: 0.2857\n",
      "  Test R² score: 0.3468\n",
      "Layer 0: R² score = 0.3468\n"
     ]
    },
    {
     "name": "stderr",
     "output_type": "stream",
     "text": [
      " 28%|██████████████████▌                                               | 9/32 [00:17<00:46,  2.00s/it]"
     ]
    },
    {
     "name": "stdout",
     "output_type": "stream",
     "text": [
      "Layer 8: R² score = 0.6370\n"
     ]
    },
    {
     "name": "stderr",
     "output_type": "stream",
     "text": [
      " 53%|██████████████████████████████████▌                              | 17/32 [00:33<00:29,  1.94s/it]"
     ]
    },
    {
     "name": "stdout",
     "output_type": "stream",
     "text": [
      "Layer 16: R² score = 0.8161\n"
     ]
    },
    {
     "name": "stderr",
     "output_type": "stream",
     "text": [
      " 78%|██████████████████████████████████████████████████▊              | 25/32 [00:49<00:14,  2.01s/it]"
     ]
    },
    {
     "name": "stdout",
     "output_type": "stream",
     "text": [
      "Layer 24: R² score = 0.7465\n"
     ]
    },
    {
     "name": "stderr",
     "output_type": "stream",
     "text": [
      "100%|█████████████████████████████████████████████████████████████████| 32/32 [01:04<00:00,  2.00s/it]\n"
     ]
    },
    {
     "name": "stdout",
     "output_type": "stream",
     "text": [
      "\n",
      "Best layer for count tracking: Layer 13 (R² = 0.8215)\n"
     ]
    },
    {
     "data": {
      "image/png": "[encoded data removed]",
      "text/plain": [
       "<Figure size 1200x600 with 1 Axes>"
      ]
     },
     "metadata": {},
     "output_type": "display_data"
    },
    {
     "name": "stdout",
     "output_type": "stream",
     "text": [
      "\n",
      "Patching and evaluating...\n",
      "Evaluating layers: [0, 1, 2, 3, 4, 5, 6, 7, 8, 9, 10, 11, 12, 13, 14, 15, 16, 17, 18, 19, 20, 21, 22, 23, 24, 25, 26, 27, 28, 29, 30, 31]\n",
      "\n",
      "Patching at layer 0...\n"
     ]
    },
    {
     "name": "stderr",
     "output_type": "stream",
     "text": [
      "  0%|                                                                          | 0/20 [00:00<?, ?it/s]"
     ]
    },
    {
     "name": "stdout",
     "output_type": "stream",
     "text": [
      "\n",
      "Debug - Tokenization:\n",
      "  Tokens (first 40): ['<|begin_of_text|>', 'Count', 'Ġthe', 'Ġnumber', 'Ġof', 'Ġwords', 'Ġin', 'Ġthe', 'Ġfollowing', 'Ġlist', 'Ġthat', 'Ġmatch', 'Ġthe', 'Ġgiven', 'Ġtype', ',', 'Ġand', 'Ġput', 'Ġthe', 'Ġnumerical', 'Ġanswer', 'Ġin', 'Ġparentheses', '.Ċ', 'Type', ':', 'Ġfruit', 'Ċ', 'List', ':', 'Ġ[', 'st', 'ool', ',', 'Ġbear', ',', 'Ġlion', ',', 'Ġsheep', ',']\n",
      "  Looking for items: ['stool', 'bear', 'lion', 'sheep', 'tangerine', 'peach']\n",
      "  Found positions: [31, 34, 36, 38, 40, 44]\n",
      "  Valid positions: [31, 34, 36, 38, 40, 44]\n"
     ]
    },
    {
     "name": "stderr",
     "output_type": "stream",
     "text": [
      "/tmp/ipykernel_1199722/1015936667.py:224: FutureWarning: `torch.cuda.amp.autocast(args...)` is deprecated. Please use `torch.amp.autocast('cuda', args...)` instead.\n",
      "  with torch.cuda.amp.autocast():  # Use mixed precision to save memory\n",
      "/net/scratch/slhleosun/miniconda3/envs/fixed_ai_env/lib/python3.11/site-packages/transformers/generation/configuration_utils.py:628: UserWarning: `do_sample` is set to `False`. However, `temperature` is set to `0.6` -- this flag is only used in sample-based generation modes. You should set `do_sample=True` or unset `temperature`.\n",
      "  warnings.warn(\n",
      "/net/scratch/slhleosun/miniconda3/envs/fixed_ai_env/lib/python3.11/site-packages/transformers/generation/configuration_utils.py:633: UserWarning: `do_sample` is set to `False`. However, `top_p` is set to `0.9` -- this flag is only used in sample-based generation modes. You should set `do_sample=True` or unset `top_p`.\n",
      "  warnings.warn(\n",
      "100%|█████████████████████████████████████████████████████████████████| 20/20 [00:28<00:00,  1.42s/it]\n"
     ]
    },
    {
     "data": {
      "image/png": "[encoded data removed]",
      "text/plain": [
       "<Figure size 1200x300 with 2 Axes>"
      ]
     },
     "metadata": {},
     "output_type": "display_data"
    },
    {
     "name": "stdout",
     "output_type": "stream",
     "text": [
      "\n",
      "Patching at layer 1...\n"
     ]
    },
    {
     "name": "stderr",
     "output_type": "stream",
     "text": [
      "  0%|                                                                          | 0/20 [00:00<?, ?it/s]"
     ]
    },
    {
     "name": "stdout",
     "output_type": "stream",
     "text": [
      "\n",
      "Debug - Tokenization:\n",
      "  Tokens (first 40): ['<|begin_of_text|>', 'Count', 'Ġthe', 'Ġnumber', 'Ġof', 'Ġwords', 'Ġin', 'Ġthe', 'Ġfollowing', 'Ġlist', 'Ġthat', 'Ġmatch', 'Ġthe', 'Ġgiven', 'Ġtype', ',', 'Ġand', 'Ġput', 'Ġthe', 'Ġnumerical', 'Ġanswer', 'Ġin', 'Ġparentheses', '.Ċ', 'Type', ':', 'Ġfruit', 'Ċ', 'List', ':', 'Ġ[', 'st', 'ool', ',', 'Ġbear', ',', 'Ġlion', ',', 'Ġsheep', ',']\n",
      "  Looking for items: ['stool', 'bear', 'lion', 'sheep', 'tangerine', 'peach']\n",
      "  Found positions: [31, 34, 36, 38, 40, 44]\n",
      "  Valid positions: [31, 34, 36, 38, 40, 44]\n"
     ]
    },
    {
     "name": "stderr",
     "output_type": "stream",
     "text": [
      "/tmp/ipykernel_1199722/1015936667.py:224: FutureWarning: `torch.cuda.amp.autocast(args...)` is deprecated. Please use `torch.amp.autocast('cuda', args...)` instead.\n",
      "  with torch.cuda.amp.autocast():  # Use mixed precision to save memory\n",
      "/net/scratch/slhleosun/miniconda3/envs/fixed_ai_env/lib/python3.11/site-packages/transformers/generation/configuration_utils.py:628: UserWarning: `do_sample` is set to `False`. However, `temperature` is set to `0.6` -- this flag is only used in sample-based generation modes. You should set `do_sample=True` or unset `temperature`.\n",
      "  warnings.warn(\n",
      "/net/scratch/slhleosun/miniconda3/envs/fixed_ai_env/lib/python3.11/site-packages/transformers/generation/configuration_utils.py:633: UserWarning: `do_sample` is set to `False`. However, `top_p` is set to `0.9` -- this flag is only used in sample-based generation modes. You should set `do_sample=True` or unset `top_p`.\n",
      "  warnings.warn(\n",
      "100%|█████████████████████████████████████████████████████████████████| 20/20 [00:27<00:00,  1.39s/it]\n"
     ]
    },
    {
     "data": {
      "image/png": "[encoded data removed]",
      "text/plain": [
       "<Figure size 1200x300 with 2 Axes>"
      ]
     },
     "metadata": {},
     "output_type": "display_data"
    },
    {
     "name": "stdout",
     "output_type": "stream",
     "text": [
      "\n",
      "Patching at layer 2...\n"
     ]
    },
    {
     "name": "stderr",
     "output_type": "stream",
     "text": [
      "  0%|                                                                          | 0/20 [00:00<?, ?it/s]"
     ]
    },
    {
     "name": "stdout",
     "output_type": "stream",
     "text": [
      "\n",
      "Debug - Tokenization:\n",
      "  Tokens (first 40): ['<|begin_of_text|>', 'Count', 'Ġthe', 'Ġnumber', 'Ġof', 'Ġwords', 'Ġin', 'Ġthe', 'Ġfollowing', 'Ġlist', 'Ġthat', 'Ġmatch', 'Ġthe', 'Ġgiven', 'Ġtype', ',', 'Ġand', 'Ġput', 'Ġthe', 'Ġnumerical', 'Ġanswer', 'Ġin', 'Ġparentheses', '.Ċ', 'Type', ':', 'Ġfruit', 'Ċ', 'List', ':', 'Ġ[', 'st', 'ool', ',', 'Ġbear', ',', 'Ġlion', ',', 'Ġsheep', ',']\n",
      "  Looking for items: ['stool', 'bear', 'lion', 'sheep', 'tangerine', 'peach']\n",
      "  Found positions: [31, 34, 36, 38, 40, 44]\n",
      "  Valid positions: [31, 34, 36, 38, 40, 44]\n"
     ]
    },
    {
     "name": "stderr",
     "output_type": "stream",
     "text": [
      "/tmp/ipykernel_1199722/1015936667.py:224: FutureWarning: `torch.cuda.amp.autocast(args...)` is deprecated. Please use `torch.amp.autocast('cuda', args...)` instead.\n",
      "  with torch.cuda.amp.autocast():  # Use mixed precision to save memory\n",
      "/net/scratch/slhleosun/miniconda3/envs/fixed_ai_env/lib/python3.11/site-packages/transformers/generation/configuration_utils.py:628: UserWarning: `do_sample` is set to `False`. However, `temperature` is set to `0.6` -- this flag is only used in sample-based generation modes. You should set `do_sample=True` or unset `temperature`.\n",
      "  warnings.warn(\n",
      "/net/scratch/slhleosun/miniconda3/envs/fixed_ai_env/lib/python3.11/site-packages/transformers/generation/configuration_utils.py:633: UserWarning: `do_sample` is set to `False`. However, `top_p` is set to `0.9` -- this flag is only used in sample-based generation modes. You should set `do_sample=True` or unset `top_p`.\n",
      "  warnings.warn(\n",
      "100%|█████████████████████████████████████████████████████████████████| 20/20 [00:29<00:00,  1.47s/it]\n"
     ]
    },
    {
     "data": {
      "image/png": "[encoded data removed]",
      "text/plain": [
       "<Figure size 1200x300 with 2 Axes>"
      ]
     },
     "metadata": {},
     "output_type": "display_data"
    },
    {
     "name": "stdout",
     "output_type": "stream",
     "text": [
      "\n",
      "Patching at layer 3...\n"
     ]
    },
    {
     "name": "stderr",
     "output_type": "stream",
     "text": [
      "  0%|                                                                          | 0/20 [00:00<?, ?it/s]"
     ]
    },
    {
     "name": "stdout",
     "output_type": "stream",
     "text": [
      "\n",
      "Debug - Tokenization:\n",
      "  Tokens (first 40): ['<|begin_of_text|>', 'Count', 'Ġthe', 'Ġnumber', 'Ġof', 'Ġwords', 'Ġin', 'Ġthe', 'Ġfollowing', 'Ġlist', 'Ġthat', 'Ġmatch', 'Ġthe', 'Ġgiven', 'Ġtype', ',', 'Ġand', 'Ġput', 'Ġthe', 'Ġnumerical', 'Ġanswer', 'Ġin', 'Ġparentheses', '.Ċ', 'Type', ':', 'Ġfruit', 'Ċ', 'List', ':', 'Ġ[', 'st', 'ool', ',', 'Ġbear', ',', 'Ġlion', ',', 'Ġsheep', ',']\n",
      "  Looking for items: ['stool', 'bear', 'lion', 'sheep', 'tangerine', 'peach']\n",
      "  Found positions: [31, 34, 36, 38, 40, 44]\n",
      "  Valid positions: [31, 34, 36, 38, 40, 44]\n"
     ]
    },
    {
     "name": "stderr",
     "output_type": "stream",
     "text": [
      "/tmp/ipykernel_1199722/1015936667.py:224: FutureWarning: `torch.cuda.amp.autocast(args...)` is deprecated. Please use `torch.amp.autocast('cuda', args...)` instead.\n",
      "  with torch.cuda.amp.autocast():  # Use mixed precision to save memory\n",
      "/net/scratch/slhleosun/miniconda3/envs/fixed_ai_env/lib/python3.11/site-packages/transformers/generation/configuration_utils.py:628: UserWarning: `do_sample` is set to `False`. However, `temperature` is set to `0.6` -- this flag is only used in sample-based generation modes. You should set `do_sample=True` or unset `temperature`.\n",
      "  warnings.warn(\n",
      "/net/scratch/slhleosun/miniconda3/envs/fixed_ai_env/lib/python3.11/site-packages/transformers/generation/configuration_utils.py:633: UserWarning: `do_sample` is set to `False`. However, `top_p` is set to `0.9` -- this flag is only used in sample-based generation modes. You should set `do_sample=True` or unset `top_p`.\n",
      "  warnings.warn(\n",
      "100%|█████████████████████████████████████████████████████████████████| 20/20 [00:28<00:00,  1.40s/it]\n"
     ]
    },
    {
     "data": {
      "image/png": "[encoded data removed]",
      "text/plain": [
       "<Figure size 1200x300 with 2 Axes>"
      ]
     },
     "metadata": {},
     "output_type": "display_data"
    },
    {
     "name": "stdout",
     "output_type": "stream",
     "text": [
      "\n",
      "Patching at layer 4...\n"
     ]
    },
    {
     "name": "stderr",
     "output_type": "stream",
     "text": [
      "  0%|                                                                          | 0/20 [00:00<?, ?it/s]"
     ]
    },
    {
     "name": "stdout",
     "output_type": "stream",
     "text": [
      "\n",
      "Debug - Tokenization:\n",
      "  Tokens (first 40): ['<|begin_of_text|>', 'Count', 'Ġthe', 'Ġnumber', 'Ġof', 'Ġwords', 'Ġin', 'Ġthe', 'Ġfollowing', 'Ġlist', 'Ġthat', 'Ġmatch', 'Ġthe', 'Ġgiven', 'Ġtype', ',', 'Ġand', 'Ġput', 'Ġthe', 'Ġnumerical', 'Ġanswer', 'Ġin', 'Ġparentheses', '.Ċ', 'Type', ':', 'Ġfruit', 'Ċ', 'List', ':', 'Ġ[', 'st', 'ool', ',', 'Ġbear', ',', 'Ġlion', ',', 'Ġsheep', ',']\n",
      "  Looking for items: ['stool', 'bear', 'lion', 'sheep', 'tangerine', 'peach']\n",
      "  Found positions: [31, 34, 36, 38, 40, 44]\n",
      "  Valid positions: [31, 34, 36, 38, 40, 44]\n"
     ]
    },
    {
     "name": "stderr",
     "output_type": "stream",
     "text": [
      "/tmp/ipykernel_1199722/1015936667.py:224: FutureWarning: `torch.cuda.amp.autocast(args...)` is deprecated. Please use `torch.amp.autocast('cuda', args...)` instead.\n",
      "  with torch.cuda.amp.autocast():  # Use mixed precision to save memory\n",
      "/net/scratch/slhleosun/miniconda3/envs/fixed_ai_env/lib/python3.11/site-packages/transformers/generation/configuration_utils.py:628: UserWarning: `do_sample` is set to `False`. However, `temperature` is set to `0.6` -- this flag is only used in sample-based generation modes. You should set `do_sample=True` or unset `temperature`.\n",
      "  warnings.warn(\n",
      "/net/scratch/slhleosun/miniconda3/envs/fixed_ai_env/lib/python3.11/site-packages/transformers/generation/configuration_utils.py:633: UserWarning: `do_sample` is set to `False`. However, `top_p` is set to `0.9` -- this flag is only used in sample-based generation modes. You should set `do_sample=True` or unset `top_p`.\n",
      "  warnings.warn(\n",
      "100%|█████████████████████████████████████████████████████████████████| 20/20 [00:30<00:00,  1.52s/it]\n"
     ]
    },
    {
     "data": {
      "image/png": "[encoded data removed]",
      "text/plain": [
       "<Figure size 1200x300 with 2 Axes>"
      ]
     },
     "metadata": {},
     "output_type": "display_data"
    },
    {
     "name": "stdout",
     "output_type": "stream",
     "text": [
      "\n",
      "Patching at layer 5...\n"
     ]
    },
    {
     "name": "stderr",
     "output_type": "stream",
     "text": [
      "  0%|                                                                          | 0/20 [00:00<?, ?it/s]"
     ]
    },
    {
     "name": "stdout",
     "output_type": "stream",
     "text": [
      "\n",
      "Debug - Tokenization:\n",
      "  Tokens (first 40): ['<|begin_of_text|>', 'Count', 'Ġthe', 'Ġnumber', 'Ġof', 'Ġwords', 'Ġin', 'Ġthe', 'Ġfollowing', 'Ġlist', 'Ġthat', 'Ġmatch', 'Ġthe', 'Ġgiven', 'Ġtype', ',', 'Ġand', 'Ġput', 'Ġthe', 'Ġnumerical', 'Ġanswer', 'Ġin', 'Ġparentheses', '.Ċ', 'Type', ':', 'Ġfruit', 'Ċ', 'List', ':', 'Ġ[', 'st', 'ool', ',', 'Ġbear', ',', 'Ġlion', ',', 'Ġsheep', ',']\n",
      "  Looking for items: ['stool', 'bear', 'lion', 'sheep', 'tangerine', 'peach']\n",
      "  Found positions: [31, 34, 36, 38, 40, 44]\n",
      "  Valid positions: [31, 34, 36, 38, 40, 44]\n"
     ]
    },
    {
     "name": "stderr",
     "output_type": "stream",
     "text": [
      "/tmp/ipykernel_1199722/1015936667.py:224: FutureWarning: `torch.cuda.amp.autocast(args...)` is deprecated. Please use `torch.amp.autocast('cuda', args...)` instead.\n",
      "  with torch.cuda.amp.autocast():  # Use mixed precision to save memory\n",
      "/net/scratch/slhleosun/miniconda3/envs/fixed_ai_env/lib/python3.11/site-packages/transformers/generation/configuration_utils.py:628: UserWarning: `do_sample` is set to `False`. However, `temperature` is set to `0.6` -- this flag is only used in sample-based generation modes. You should set `do_sample=True` or unset `temperature`.\n",
      "  warnings.warn(\n",
      "/net/scratch/slhleosun/miniconda3/envs/fixed_ai_env/lib/python3.11/site-packages/transformers/generation/configuration_utils.py:633: UserWarning: `do_sample` is set to `False`. However, `top_p` is set to `0.9` -- this flag is only used in sample-based generation modes. You should set `do_sample=True` or unset `top_p`.\n",
      "  warnings.warn(\n",
      "100%|█████████████████████████████████████████████████████████████████| 20/20 [00:27<00:00,  1.36s/it]\n"
     ]
    },
    {
     "data": {
      "image/png": "[encoded data removed]",
      "text/plain": [
       "<Figure size 1200x300 with 2 Axes>"
      ]
     },
     "metadata": {},
     "output_type": "display_data"
    },
    {
     "name": "stdout",
     "output_type": "stream",
     "text": [
      "\n",
      "Patching at layer 6...\n"
     ]
    },
    {
     "name": "stderr",
     "output_type": "stream",
     "text": [
      "  0%|                                                                          | 0/20 [00:00<?, ?it/s]"
     ]
    },
    {
     "name": "stdout",
     "output_type": "stream",
     "text": [
      "\n",
      "Debug - Tokenization:\n",
      "  Tokens (first 40): ['<|begin_of_text|>', 'Count', 'Ġthe', 'Ġnumber', 'Ġof', 'Ġwords', 'Ġin', 'Ġthe', 'Ġfollowing', 'Ġlist', 'Ġthat', 'Ġmatch', 'Ġthe', 'Ġgiven', 'Ġtype', ',', 'Ġand', 'Ġput', 'Ġthe', 'Ġnumerical', 'Ġanswer', 'Ġin', 'Ġparentheses', '.Ċ', 'Type', ':', 'Ġfruit', 'Ċ', 'List', ':', 'Ġ[', 'st', 'ool', ',', 'Ġbear', ',', 'Ġlion', ',', 'Ġsheep', ',']\n",
      "  Looking for items: ['stool', 'bear', 'lion', 'sheep', 'tangerine', 'peach']\n",
      "  Found positions: [31, 34, 36, 38, 40, 44]\n",
      "  Valid positions: [31, 34, 36, 38, 40, 44]\n"
     ]
    },
    {
     "name": "stderr",
     "output_type": "stream",
     "text": [
      "/tmp/ipykernel_1199722/1015936667.py:224: FutureWarning: `torch.cuda.amp.autocast(args...)` is deprecated. Please use `torch.amp.autocast('cuda', args...)` instead.\n",
      "  with torch.cuda.amp.autocast():  # Use mixed precision to save memory\n",
      "/net/scratch/slhleosun/miniconda3/envs/fixed_ai_env/lib/python3.11/site-packages/transformers/generation/configuration_utils.py:628: UserWarning: `do_sample` is set to `False`. However, `temperature` is set to `0.6` -- this flag is only used in sample-based generation modes. You should set `do_sample=True` or unset `temperature`.\n",
      "  warnings.warn(\n",
      "/net/scratch/slhleosun/miniconda3/envs/fixed_ai_env/lib/python3.11/site-packages/transformers/generation/configuration_utils.py:633: UserWarning: `do_sample` is set to `False`. However, `top_p` is set to `0.9` -- this flag is only used in sample-based generation modes. You should set `do_sample=True` or unset `top_p`.\n",
      "  warnings.warn(\n",
      "100%|█████████████████████████████████████████████████████████████████| 20/20 [00:31<00:00,  1.58s/it]\n"
     ]
    },
    {
     "data": {
      "image/png": "[encoded data removed]",
      "text/plain": [
       "<Figure size 1200x300 with 2 Axes>"
      ]
     },
     "metadata": {},
     "output_type": "display_data"
    },
    {
     "name": "stdout",
     "output_type": "stream",
     "text": [
      "\n",
      "Patching at layer 7...\n"
     ]
    },
    {
     "name": "stderr",
     "output_type": "stream",
     "text": [
      "  0%|                                                                          | 0/20 [00:00<?, ?it/s]"
     ]
    },
    {
     "name": "stdout",
     "output_type": "stream",
     "text": [
      "\n",
      "Debug - Tokenization:\n",
      "  Tokens (first 40): ['<|begin_of_text|>', 'Count', 'Ġthe', 'Ġnumber', 'Ġof', 'Ġwords', 'Ġin', 'Ġthe', 'Ġfollowing', 'Ġlist', 'Ġthat', 'Ġmatch', 'Ġthe', 'Ġgiven', 'Ġtype', ',', 'Ġand', 'Ġput', 'Ġthe', 'Ġnumerical', 'Ġanswer', 'Ġin', 'Ġparentheses', '.Ċ', 'Type', ':', 'Ġfruit', 'Ċ', 'List', ':', 'Ġ[', 'st', 'ool', ',', 'Ġbear', ',', 'Ġlion', ',', 'Ġsheep', ',']\n",
      "  Looking for items: ['stool', 'bear', 'lion', 'sheep', 'tangerine', 'peach']\n",
      "  Found positions: [31, 34, 36, 38, 40, 44]\n",
      "  Valid positions: [31, 34, 36, 38, 40, 44]\n"
     ]
    },
    {
     "name": "stderr",
     "output_type": "stream",
     "text": [
      "/tmp/ipykernel_1199722/1015936667.py:224: FutureWarning: `torch.cuda.amp.autocast(args...)` is deprecated. Please use `torch.amp.autocast('cuda', args...)` instead.\n",
      "  with torch.cuda.amp.autocast():  # Use mixed precision to save memory\n",
      "/net/scratch/slhleosun/miniconda3/envs/fixed_ai_env/lib/python3.11/site-packages/transformers/generation/configuration_utils.py:628: UserWarning: `do_sample` is set to `False`. However, `temperature` is set to `0.6` -- this flag is only used in sample-based generation modes. You should set `do_sample=True` or unset `temperature`.\n",
      "  warnings.warn(\n",
      "/net/scratch/slhleosun/miniconda3/envs/fixed_ai_env/lib/python3.11/site-packages/transformers/generation/configuration_utils.py:633: UserWarning: `do_sample` is set to `False`. However, `top_p` is set to `0.9` -- this flag is only used in sample-based generation modes. You should set `do_sample=True` or unset `top_p`.\n",
      "  warnings.warn(\n",
      "100%|█████████████████████████████████████████████████████████████████| 20/20 [00:29<00:00,  1.46s/it]\n"
     ]
    },
    {
     "data": {
      "image/png": "[encoded data removed]",
      "text/plain": [
       "<Figure size 1200x300 with 2 Axes>"
      ]
     },
     "metadata": {},
     "output_type": "display_data"
    },
    {
     "name": "stdout",
     "output_type": "stream",
     "text": [
      "\n",
      "Patching at layer 8...\n"
     ]
    },
    {
     "name": "stderr",
     "output_type": "stream",
     "text": [
      "  0%|                                                                          | 0/20 [00:00<?, ?it/s]"
     ]
    },
    {
     "name": "stdout",
     "output_type": "stream",
     "text": [
      "\n",
      "Debug - Tokenization:\n",
      "  Tokens (first 40): ['<|begin_of_text|>', 'Count', 'Ġthe', 'Ġnumber', 'Ġof', 'Ġwords', 'Ġin', 'Ġthe', 'Ġfollowing', 'Ġlist', 'Ġthat', 'Ġmatch', 'Ġthe', 'Ġgiven', 'Ġtype', ',', 'Ġand', 'Ġput', 'Ġthe', 'Ġnumerical', 'Ġanswer', 'Ġin', 'Ġparentheses', '.Ċ', 'Type', ':', 'Ġfruit', 'Ċ', 'List', ':', 'Ġ[', 'st', 'ool', ',', 'Ġbear', ',', 'Ġlion', ',', 'Ġsheep', ',']\n",
      "  Looking for items: ['stool', 'bear', 'lion', 'sheep', 'tangerine', 'peach']\n",
      "  Found positions: [31, 34, 36, 38, 40, 44]\n",
      "  Valid positions: [31, 34, 36, 38, 40, 44]\n"
     ]
    },
    {
     "name": "stderr",
     "output_type": "stream",
     "text": [
      "/tmp/ipykernel_1199722/1015936667.py:224: FutureWarning: `torch.cuda.amp.autocast(args...)` is deprecated. Please use `torch.amp.autocast('cuda', args...)` instead.\n",
      "  with torch.cuda.amp.autocast():  # Use mixed precision to save memory\n",
      "/net/scratch/slhleosun/miniconda3/envs/fixed_ai_env/lib/python3.11/site-packages/transformers/generation/configuration_utils.py:628: UserWarning: `do_sample` is set to `False`. However, `temperature` is set to `0.6` -- this flag is only used in sample-based generation modes. You should set `do_sample=True` or unset `temperature`.\n",
      "  warnings.warn(\n",
      "/net/scratch/slhleosun/miniconda3/envs/fixed_ai_env/lib/python3.11/site-packages/transformers/generation/configuration_utils.py:633: UserWarning: `do_sample` is set to `False`. However, `top_p` is set to `0.9` -- this flag is only used in sample-based generation modes. You should set `do_sample=True` or unset `top_p`.\n",
      "  warnings.warn(\n",
      "100%|█████████████████████████████████████████████████████████████████| 20/20 [00:30<00:00,  1.51s/it]\n"
     ]
    },
    {
     "data": {
      "image/png": "[encoded data removed]",
      "text/plain": [
       "<Figure size 1200x300 with 2 Axes>"
      ]
     },
     "metadata": {},
     "output_type": "display_data"
    },
    {
     "name": "stdout",
     "output_type": "stream",
     "text": [
      "\n",
      "Patching at layer 9...\n"
     ]
    },
    {
     "name": "stderr",
     "output_type": "stream",
     "text": [
      "  0%|                                                                          | 0/20 [00:00<?, ?it/s]"
     ]
    },
    {
     "name": "stdout",
     "output_type": "stream",
     "text": [
      "\n",
      "Debug - Tokenization:\n",
      "  Tokens (first 40): ['<|begin_of_text|>', 'Count', 'Ġthe', 'Ġnumber', 'Ġof', 'Ġwords', 'Ġin', 'Ġthe', 'Ġfollowing', 'Ġlist', 'Ġthat', 'Ġmatch', 'Ġthe', 'Ġgiven', 'Ġtype', ',', 'Ġand', 'Ġput', 'Ġthe', 'Ġnumerical', 'Ġanswer', 'Ġin', 'Ġparentheses', '.Ċ', 'Type', ':', 'Ġfruit', 'Ċ', 'List', ':', 'Ġ[', 'st', 'ool', ',', 'Ġbear', ',', 'Ġlion', ',', 'Ġsheep', ',']\n",
      "  Looking for items: ['stool', 'bear', 'lion', 'sheep', 'tangerine', 'peach']\n",
      "  Found positions: [31, 34, 36, 38, 40, 44]\n",
      "  Valid positions: [31, 34, 36, 38, 40, 44]\n"
     ]
    },
    {
     "name": "stderr",
     "output_type": "stream",
     "text": [
      "/tmp/ipykernel_1199722/1015936667.py:224: FutureWarning: `torch.cuda.amp.autocast(args...)` is deprecated. Please use `torch.amp.autocast('cuda', args...)` instead.\n",
      "  with torch.cuda.amp.autocast():  # Use mixed precision to save memory\n",
      "/net/scratch/slhleosun/miniconda3/envs/fixed_ai_env/lib/python3.11/site-packages/transformers/generation/configuration_utils.py:628: UserWarning: `do_sample` is set to `False`. However, `temperature` is set to `0.6` -- this flag is only used in sample-based generation modes. You should set `do_sample=True` or unset `temperature`.\n",
      "  warnings.warn(\n",
      "/net/scratch/slhleosun/miniconda3/envs/fixed_ai_env/lib/python3.11/site-packages/transformers/generation/configuration_utils.py:633: UserWarning: `do_sample` is set to `False`. However, `top_p` is set to `0.9` -- this flag is only used in sample-based generation modes. You should set `do_sample=True` or unset `top_p`.\n",
      "  warnings.warn(\n",
      "100%|█████████████████████████████████████████████████████████████████| 20/20 [00:28<00:00,  1.42s/it]\n"
     ]
    },
    {
     "data": {
      "image/png": "[encoded data removed]",
      "text/plain": [
       "<Figure size 1200x300 with 2 Axes>"
      ]
     },
     "metadata": {},
     "output_type": "display_data"
    },
    {
     "name": "stdout",
     "output_type": "stream",
     "text": [
      "\n",
      "Patching at layer 10...\n"
     ]
    },
    {
     "name": "stderr",
     "output_type": "stream",
     "text": [
      "  0%|                                                                          | 0/20 [00:00<?, ?it/s]"
     ]
    },
    {
     "name": "stdout",
     "output_type": "stream",
     "text": [
      "\n",
      "Debug - Tokenization:\n",
      "  Tokens (first 40): ['<|begin_of_text|>', 'Count', 'Ġthe', 'Ġnumber', 'Ġof', 'Ġwords', 'Ġin', 'Ġthe', 'Ġfollowing', 'Ġlist', 'Ġthat', 'Ġmatch', 'Ġthe', 'Ġgiven', 'Ġtype', ',', 'Ġand', 'Ġput', 'Ġthe', 'Ġnumerical', 'Ġanswer', 'Ġin', 'Ġparentheses', '.Ċ', 'Type', ':', 'Ġfruit', 'Ċ', 'List', ':', 'Ġ[', 'st', 'ool', ',', 'Ġbear', ',', 'Ġlion', ',', 'Ġsheep', ',']\n",
      "  Looking for items: ['stool', 'bear', 'lion', 'sheep', 'tangerine', 'peach']\n",
      "  Found positions: [31, 34, 36, 38, 40, 44]\n",
      "  Valid positions: [31, 34, 36, 38, 40, 44]\n"
     ]
    },
    {
     "name": "stderr",
     "output_type": "stream",
     "text": [
      "/tmp/ipykernel_1199722/1015936667.py:224: FutureWarning: `torch.cuda.amp.autocast(args...)` is deprecated. Please use `torch.amp.autocast('cuda', args...)` instead.\n",
      "  with torch.cuda.amp.autocast():  # Use mixed precision to save memory\n",
      "/net/scratch/slhleosun/miniconda3/envs/fixed_ai_env/lib/python3.11/site-packages/transformers/generation/configuration_utils.py:628: UserWarning: `do_sample` is set to `False`. However, `temperature` is set to `0.6` -- this flag is only used in sample-based generation modes. You should set `do_sample=True` or unset `temperature`.\n",
      "  warnings.warn(\n",
      "/net/scratch/slhleosun/miniconda3/envs/fixed_ai_env/lib/python3.11/site-packages/transformers/generation/configuration_utils.py:633: UserWarning: `do_sample` is set to `False`. However, `top_p` is set to `0.9` -- this flag is only used in sample-based generation modes. You should set `do_sample=True` or unset `top_p`.\n",
      "  warnings.warn(\n",
      "100%|█████████████████████████████████████████████████████████████████| 20/20 [00:31<00:00,  1.59s/it]\n"
     ]
    },
    {
     "data": {
      "image/png": "[encoded data removed]",
      "text/plain": [
       "<Figure size 1200x300 with 2 Axes>"
      ]
     },
     "metadata": {},
     "output_type": "display_data"
    },
    {
     "name": "stdout",
     "output_type": "stream",
     "text": [
      "\n",
      "Patching at layer 11...\n"
     ]
    },
    {
     "name": "stderr",
     "output_type": "stream",
     "text": [
      "  0%|                                                                          | 0/20 [00:00<?, ?it/s]"
     ]
    },
    {
     "name": "stdout",
     "output_type": "stream",
     "text": [
      "\n",
      "Debug - Tokenization:\n",
      "  Tokens (first 40): ['<|begin_of_text|>', 'Count', 'Ġthe', 'Ġnumber', 'Ġof', 'Ġwords', 'Ġin', 'Ġthe', 'Ġfollowing', 'Ġlist', 'Ġthat', 'Ġmatch', 'Ġthe', 'Ġgiven', 'Ġtype', ',', 'Ġand', 'Ġput', 'Ġthe', 'Ġnumerical', 'Ġanswer', 'Ġin', 'Ġparentheses', '.Ċ', 'Type', ':', 'Ġfruit', 'Ċ', 'List', ':', 'Ġ[', 'st', 'ool', ',', 'Ġbear', ',', 'Ġlion', ',', 'Ġsheep', ',']\n",
      "  Looking for items: ['stool', 'bear', 'lion', 'sheep', 'tangerine', 'peach']\n",
      "  Found positions: [31, 34, 36, 38, 40, 44]\n",
      "  Valid positions: [31, 34, 36, 38, 40, 44]\n"
     ]
    },
    {
     "name": "stderr",
     "output_type": "stream",
     "text": [
      "/tmp/ipykernel_1199722/1015936667.py:224: FutureWarning: `torch.cuda.amp.autocast(args...)` is deprecated. Please use `torch.amp.autocast('cuda', args...)` instead.\n",
      "  with torch.cuda.amp.autocast():  # Use mixed precision to save memory\n",
      "/net/scratch/slhleosun/miniconda3/envs/fixed_ai_env/lib/python3.11/site-packages/transformers/generation/configuration_utils.py:628: UserWarning: `do_sample` is set to `False`. However, `temperature` is set to `0.6` -- this flag is only used in sample-based generation modes. You should set `do_sample=True` or unset `temperature`.\n",
      "  warnings.warn(\n",
      "/net/scratch/slhleosun/miniconda3/envs/fixed_ai_env/lib/python3.11/site-packages/transformers/generation/configuration_utils.py:633: UserWarning: `do_sample` is set to `False`. However, `top_p` is set to `0.9` -- this flag is only used in sample-based generation modes. You should set `do_sample=True` or unset `top_p`.\n",
      "  warnings.warn(\n",
      "100%|█████████████████████████████████████████████████████████████████| 20/20 [00:28<00:00,  1.41s/it]\n"
     ]
    },
    {
     "data": {
      "image/png": "[encoded data removed]",
      "text/plain": [
       "<Figure size 1200x300 with 2 Axes>"
      ]
     },
     "metadata": {},
     "output_type": "display_data"
    },
    {
     "name": "stdout",
     "output_type": "stream",
     "text": [
      "\n",
      "Patching at layer 12...\n"
     ]
    },
    {
     "name": "stderr",
     "output_type": "stream",
     "text": [
      "  0%|                                                                          | 0/20 [00:00<?, ?it/s]"
     ]
    },
    {
     "name": "stdout",
     "output_type": "stream",
     "text": [
      "\n",
      "Debug - Tokenization:\n",
      "  Tokens (first 40): ['<|begin_of_text|>', 'Count', 'Ġthe', 'Ġnumber', 'Ġof', 'Ġwords', 'Ġin', 'Ġthe', 'Ġfollowing', 'Ġlist', 'Ġthat', 'Ġmatch', 'Ġthe', 'Ġgiven', 'Ġtype', ',', 'Ġand', 'Ġput', 'Ġthe', 'Ġnumerical', 'Ġanswer', 'Ġin', 'Ġparentheses', '.Ċ', 'Type', ':', 'Ġfruit', 'Ċ', 'List', ':', 'Ġ[', 'st', 'ool', ',', 'Ġbear', ',', 'Ġlion', ',', 'Ġsheep', ',']\n",
      "  Looking for items: ['stool', 'bear', 'lion', 'sheep', 'tangerine', 'peach']\n",
      "  Found positions: [31, 34, 36, 38, 40, 44]\n",
      "  Valid positions: [31, 34, 36, 38, 40, 44]\n"
     ]
    },
    {
     "name": "stderr",
     "output_type": "stream",
     "text": [
      "/tmp/ipykernel_1199722/1015936667.py:224: FutureWarning: `torch.cuda.amp.autocast(args...)` is deprecated. Please use `torch.amp.autocast('cuda', args...)` instead.\n",
      "  with torch.cuda.amp.autocast():  # Use mixed precision to save memory\n",
      "/net/scratch/slhleosun/miniconda3/envs/fixed_ai_env/lib/python3.11/site-packages/transformers/generation/configuration_utils.py:628: UserWarning: `do_sample` is set to `False`. However, `temperature` is set to `0.6` -- this flag is only used in sample-based generation modes. You should set `do_sample=True` or unset `temperature`.\n",
      "  warnings.warn(\n",
      "/net/scratch/slhleosun/miniconda3/envs/fixed_ai_env/lib/python3.11/site-packages/transformers/generation/configuration_utils.py:633: UserWarning: `do_sample` is set to `False`. However, `top_p` is set to `0.9` -- this flag is only used in sample-based generation modes. You should set `do_sample=True` or unset `top_p`.\n",
      "  warnings.warn(\n",
      " 70%|█████████████████████████████████████████████▌                   | 14/20 [00:21<00:09,  1.51s/it]\n"
     ]
    },
    {
     "ename": "KeyboardInterrupt",
     "evalue": "",
     "output_type": "error",
     "traceback": [
      "\u001b[0;31m---------------------------------------------------------------------------\u001b[0m",
      "\u001b[0;31mKeyboardInterrupt\u001b[0m                         Traceback (most recent call last)",
      "Cell \u001b[0;32mIn[1], line 692\u001b[0m\n\u001b[1;32m    689\u001b[0m     \u001b[38;5;28mprint\u001b[39m(\u001b[38;5;124m\"\u001b[39m\u001b[38;5;130;01m\\n\u001b[39;00m\u001b[38;5;124mAnalysis complete! Results saved to patching_results.json and plots in interp_plots/\u001b[39m\u001b[38;5;124m\"\u001b[39m)\n\u001b[1;32m    691\u001b[0m \u001b[38;5;28;01mif\u001b[39;00m \u001b[38;5;18m__name__\u001b[39m \u001b[38;5;241m==\u001b[39m \u001b[38;5;124m\"\u001b[39m\u001b[38;5;124m__main__\u001b[39m\u001b[38;5;124m\"\u001b[39m:\n\u001b[0;32m--> 692\u001b[0m     main()\n",
      "Cell \u001b[0;32mIn[1], line 653\u001b[0m, in \u001b[0;36mmain\u001b[0;34m()\u001b[0m\n\u001b[1;32m    651\u001b[0m \u001b[38;5;28;01mfor\u001b[39;00m prompt_data \u001b[38;5;129;01min\u001b[39;00m tqdm(correct_prompts[:num_prompts_to_patch]):\n\u001b[1;32m    652\u001b[0m     \u001b[38;5;28;01mtry\u001b[39;00m:\n\u001b[0;32m--> 653\u001b[0m         results \u001b[38;5;241m=\u001b[39m patch_and_evaluate(model, tokenizer, prompt_data, layer_idx, probes)\n\u001b[1;32m    654\u001b[0m         layer_patching_results\u001b[38;5;241m.\u001b[39mextend(results)\n\u001b[1;32m    655\u001b[0m     \u001b[38;5;28;01mexcept\u001b[39;00m \u001b[38;5;167;01mException\u001b[39;00m \u001b[38;5;28;01mas\u001b[39;00m e:\n",
      "Cell \u001b[0;32mIn[1], line 355\u001b[0m, in \u001b[0;36mpatch_and_evaluate\u001b[0;34m(model, tokenizer, prompt_data, layer_idx, probes)\u001b[0m\n\u001b[1;32m    352\u001b[0m \u001b[38;5;28;01mif\u001b[39;00m permuted_inputs\u001b[38;5;241m.\u001b[39minput_ids\u001b[38;5;241m.\u001b[39mshape[\u001b[38;5;241m1\u001b[39m] \u001b[38;5;241m!=\u001b[39m inputs\u001b[38;5;241m.\u001b[39minput_ids\u001b[38;5;241m.\u001b[39mshape[\u001b[38;5;241m1\u001b[39m]:\n\u001b[1;32m    353\u001b[0m     \u001b[38;5;28;01mcontinue\u001b[39;00m\n\u001b[0;32m--> 355\u001b[0m counterfactual_hidden_states \u001b[38;5;241m=\u001b[39m get_hidden_states_with_hook(model, permuted_inputs\u001b[38;5;241m.\u001b[39minput_ids)\n\u001b[1;32m    357\u001b[0m \u001b[38;5;66;03m# Get the token position for item k\u001b[39;00m\n\u001b[1;32m    358\u001b[0m \u001b[38;5;28;01mif\u001b[39;00m k \u001b[38;5;241m>\u001b[39m\u001b[38;5;241m=\u001b[39m \u001b[38;5;28mlen\u001b[39m(token_positions):\n",
      "Cell \u001b[0;32mIn[1], line 225\u001b[0m, in \u001b[0;36mget_hidden_states_with_hook\u001b[0;34m(model, input_ids)\u001b[0m\n\u001b[1;32m    223\u001b[0m \u001b[38;5;28;01mwith\u001b[39;00m torch\u001b[38;5;241m.\u001b[39mno_grad():\n\u001b[1;32m    224\u001b[0m     \u001b[38;5;28;01mwith\u001b[39;00m torch\u001b[38;5;241m.\u001b[39mcuda\u001b[38;5;241m.\u001b[39mamp\u001b[38;5;241m.\u001b[39mautocast():  \u001b[38;5;66;03m# Use mixed precision to save memory\u001b[39;00m\n\u001b[0;32m--> 225\u001b[0m         outputs \u001b[38;5;241m=\u001b[39m model(input_ids)\n\u001b[1;32m    227\u001b[0m \u001b[38;5;66;03m# Remove hooks\u001b[39;00m\n\u001b[1;32m    228\u001b[0m \u001b[38;5;28;01mfor\u001b[39;00m hook \u001b[38;5;129;01min\u001b[39;00m hooks:\n",
      "File \u001b[0;32m/net/scratch/slhleosun/miniconda3/envs/fixed_ai_env/lib/python3.11/site-packages/torch/nn/modules/module.py:1553\u001b[0m, in \u001b[0;36mModule._wrapped_call_impl\u001b[0;34m(self, *args, **kwargs)\u001b[0m\n\u001b[1;32m   1551\u001b[0m     \u001b[38;5;28;01mreturn\u001b[39;00m \u001b[38;5;28mself\u001b[39m\u001b[38;5;241m.\u001b[39m_compiled_call_impl(\u001b[38;5;241m*\u001b[39margs, \u001b[38;5;241m*\u001b[39m\u001b[38;5;241m*\u001b[39mkwargs)  \u001b[38;5;66;03m# type: ignore[misc]\u001b[39;00m\n\u001b[1;32m   1552\u001b[0m \u001b[38;5;28;01melse\u001b[39;00m:\n\u001b[0;32m-> 1553\u001b[0m     \u001b[38;5;28;01mreturn\u001b[39;00m \u001b[38;5;28mself\u001b[39m\u001b[38;5;241m.\u001b[39m_call_impl(\u001b[38;5;241m*\u001b[39margs, \u001b[38;5;241m*\u001b[39m\u001b[38;5;241m*\u001b[39mkwargs)\n",
      "File \u001b[0;32m/net/scratch/slhleosun/miniconda3/envs/fixed_ai_env/lib/python3.11/site-packages/torch/nn/modules/module.py:1562\u001b[0m, in \u001b[0;36mModule._call_impl\u001b[0;34m(self, *args, **kwargs)\u001b[0m\n\u001b[1;32m   1557\u001b[0m \u001b[38;5;66;03m# If we don't have any hooks, we want to skip the rest of the logic in\u001b[39;00m\n\u001b[1;32m   1558\u001b[0m \u001b[38;5;66;03m# this function, and just call forward.\u001b[39;00m\n\u001b[1;32m   1559\u001b[0m \u001b[38;5;28;01mif\u001b[39;00m \u001b[38;5;129;01mnot\u001b[39;00m (\u001b[38;5;28mself\u001b[39m\u001b[38;5;241m.\u001b[39m_backward_hooks \u001b[38;5;129;01mor\u001b[39;00m \u001b[38;5;28mself\u001b[39m\u001b[38;5;241m.\u001b[39m_backward_pre_hooks \u001b[38;5;129;01mor\u001b[39;00m \u001b[38;5;28mself\u001b[39m\u001b[38;5;241m.\u001b[39m_forward_hooks \u001b[38;5;129;01mor\u001b[39;00m \u001b[38;5;28mself\u001b[39m\u001b[38;5;241m.\u001b[39m_forward_pre_hooks\n\u001b[1;32m   1560\u001b[0m         \u001b[38;5;129;01mor\u001b[39;00m _global_backward_pre_hooks \u001b[38;5;129;01mor\u001b[39;00m _global_backward_hooks\n\u001b[1;32m   1561\u001b[0m         \u001b[38;5;129;01mor\u001b[39;00m _global_forward_hooks \u001b[38;5;129;01mor\u001b[39;00m _global_forward_pre_hooks):\n\u001b[0;32m-> 1562\u001b[0m     \u001b[38;5;28;01mreturn\u001b[39;00m forward_call(\u001b[38;5;241m*\u001b[39margs, \u001b[38;5;241m*\u001b[39m\u001b[38;5;241m*\u001b[39mkwargs)\n\u001b[1;32m   1564\u001b[0m \u001b[38;5;28;01mtry\u001b[39;00m:\n\u001b[1;32m   1565\u001b[0m     result \u001b[38;5;241m=\u001b[39m \u001b[38;5;28;01mNone\u001b[39;00m\n",
      "File \u001b[0;32m/net/scratch/slhleosun/miniconda3/envs/fixed_ai_env/lib/python3.11/site-packages/accelerate/hooks.py:170\u001b[0m, in \u001b[0;36madd_hook_to_module.<locals>.new_forward\u001b[0;34m(module, *args, **kwargs)\u001b[0m\n\u001b[1;32m    168\u001b[0m         output \u001b[38;5;241m=\u001b[39m module\u001b[38;5;241m.\u001b[39m_old_forward(\u001b[38;5;241m*\u001b[39margs, \u001b[38;5;241m*\u001b[39m\u001b[38;5;241m*\u001b[39mkwargs)\n\u001b[1;32m    169\u001b[0m \u001b[38;5;28;01melse\u001b[39;00m:\n\u001b[0;32m--> 170\u001b[0m     output \u001b[38;5;241m=\u001b[39m module\u001b[38;5;241m.\u001b[39m_old_forward(\u001b[38;5;241m*\u001b[39margs, \u001b[38;5;241m*\u001b[39m\u001b[38;5;241m*\u001b[39mkwargs)\n\u001b[1;32m    171\u001b[0m \u001b[38;5;28;01mreturn\u001b[39;00m module\u001b[38;5;241m.\u001b[39m_hf_hook\u001b[38;5;241m.\u001b[39mpost_forward(module, output)\n",
      "File \u001b[0;32m/net/scratch/slhleosun/miniconda3/envs/fixed_ai_env/lib/python3.11/site-packages/transformers/models/llama/modeling_llama.py:831\u001b[0m, in \u001b[0;36mLlamaForCausalLM.forward\u001b[0;34m(self, input_ids, attention_mask, position_ids, past_key_values, inputs_embeds, labels, use_cache, output_attentions, output_hidden_states, return_dict, cache_position, num_logits_to_keep, **kwargs)\u001b[0m\n\u001b[1;32m    828\u001b[0m return_dict \u001b[38;5;241m=\u001b[39m return_dict \u001b[38;5;28;01mif\u001b[39;00m return_dict \u001b[38;5;129;01mis\u001b[39;00m \u001b[38;5;129;01mnot\u001b[39;00m \u001b[38;5;28;01mNone\u001b[39;00m \u001b[38;5;28;01melse\u001b[39;00m \u001b[38;5;28mself\u001b[39m\u001b[38;5;241m.\u001b[39mconfig\u001b[38;5;241m.\u001b[39muse_return_dict\n\u001b[1;32m    830\u001b[0m \u001b[38;5;66;03m# decoder outputs consists of (dec_features, layer_state, dec_hidden, dec_attn)\u001b[39;00m\n\u001b[0;32m--> 831\u001b[0m outputs \u001b[38;5;241m=\u001b[39m \u001b[38;5;28mself\u001b[39m\u001b[38;5;241m.\u001b[39mmodel(\n\u001b[1;32m    832\u001b[0m     input_ids\u001b[38;5;241m=\u001b[39minput_ids,\n\u001b[1;32m    833\u001b[0m     attention_mask\u001b[38;5;241m=\u001b[39mattention_mask,\n\u001b[1;32m    834\u001b[0m     position_ids\u001b[38;5;241m=\u001b[39mposition_ids,\n\u001b[1;32m    835\u001b[0m     past_key_values\u001b[38;5;241m=\u001b[39mpast_key_values,\n\u001b[1;32m    836\u001b[0m     inputs_embeds\u001b[38;5;241m=\u001b[39minputs_embeds,\n\u001b[1;32m    837\u001b[0m     use_cache\u001b[38;5;241m=\u001b[39muse_cache,\n\u001b[1;32m    838\u001b[0m     output_attentions\u001b[38;5;241m=\u001b[39moutput_attentions,\n\u001b[1;32m    839\u001b[0m     output_hidden_states\u001b[38;5;241m=\u001b[39moutput_hidden_states,\n\u001b[1;32m    840\u001b[0m     return_dict\u001b[38;5;241m=\u001b[39mreturn_dict,\n\u001b[1;32m    841\u001b[0m     cache_position\u001b[38;5;241m=\u001b[39mcache_position,\n\u001b[1;32m    842\u001b[0m     \u001b[38;5;241m*\u001b[39m\u001b[38;5;241m*\u001b[39mkwargs,\n\u001b[1;32m    843\u001b[0m )\n\u001b[1;32m    845\u001b[0m hidden_states \u001b[38;5;241m=\u001b[39m outputs[\u001b[38;5;241m0\u001b[39m]\n\u001b[1;32m    846\u001b[0m \u001b[38;5;66;03m# Only compute necessary logits, and do not upcast them to float if we are not computing the loss\u001b[39;00m\n",
      "File \u001b[0;32m/net/scratch/slhleosun/miniconda3/envs/fixed_ai_env/lib/python3.11/site-packages/torch/nn/modules/module.py:1553\u001b[0m, in \u001b[0;36mModule._wrapped_call_impl\u001b[0;34m(self, *args, **kwargs)\u001b[0m\n\u001b[1;32m   1551\u001b[0m     \u001b[38;5;28;01mreturn\u001b[39;00m \u001b[38;5;28mself\u001b[39m\u001b[38;5;241m.\u001b[39m_compiled_call_impl(\u001b[38;5;241m*\u001b[39margs, \u001b[38;5;241m*\u001b[39m\u001b[38;5;241m*\u001b[39mkwargs)  \u001b[38;5;66;03m# type: ignore[misc]\u001b[39;00m\n\u001b[1;32m   1552\u001b[0m \u001b[38;5;28;01melse\u001b[39;00m:\n\u001b[0;32m-> 1553\u001b[0m     \u001b[38;5;28;01mreturn\u001b[39;00m \u001b[38;5;28mself\u001b[39m\u001b[38;5;241m.\u001b[39m_call_impl(\u001b[38;5;241m*\u001b[39margs, \u001b[38;5;241m*\u001b[39m\u001b[38;5;241m*\u001b[39mkwargs)\n",
      "File \u001b[0;32m/net/scratch/slhleosun/miniconda3/envs/fixed_ai_env/lib/python3.11/site-packages/torch/nn/modules/module.py:1562\u001b[0m, in \u001b[0;36mModule._call_impl\u001b[0;34m(self, *args, **kwargs)\u001b[0m\n\u001b[1;32m   1557\u001b[0m \u001b[38;5;66;03m# If we don't have any hooks, we want to skip the rest of the logic in\u001b[39;00m\n\u001b[1;32m   1558\u001b[0m \u001b[38;5;66;03m# this function, and just call forward.\u001b[39;00m\n\u001b[1;32m   1559\u001b[0m \u001b[38;5;28;01mif\u001b[39;00m \u001b[38;5;129;01mnot\u001b[39;00m (\u001b[38;5;28mself\u001b[39m\u001b[38;5;241m.\u001b[39m_backward_hooks \u001b[38;5;129;01mor\u001b[39;00m \u001b[38;5;28mself\u001b[39m\u001b[38;5;241m.\u001b[39m_backward_pre_hooks \u001b[38;5;129;01mor\u001b[39;00m \u001b[38;5;28mself\u001b[39m\u001b[38;5;241m.\u001b[39m_forward_hooks \u001b[38;5;129;01mor\u001b[39;00m \u001b[38;5;28mself\u001b[39m\u001b[38;5;241m.\u001b[39m_forward_pre_hooks\n\u001b[1;32m   1560\u001b[0m         \u001b[38;5;129;01mor\u001b[39;00m _global_backward_pre_hooks \u001b[38;5;129;01mor\u001b[39;00m _global_backward_hooks\n\u001b[1;32m   1561\u001b[0m         \u001b[38;5;129;01mor\u001b[39;00m _global_forward_hooks \u001b[38;5;129;01mor\u001b[39;00m _global_forward_pre_hooks):\n\u001b[0;32m-> 1562\u001b[0m     \u001b[38;5;28;01mreturn\u001b[39;00m forward_call(\u001b[38;5;241m*\u001b[39margs, \u001b[38;5;241m*\u001b[39m\u001b[38;5;241m*\u001b[39mkwargs)\n\u001b[1;32m   1564\u001b[0m \u001b[38;5;28;01mtry\u001b[39;00m:\n\u001b[1;32m   1565\u001b[0m     result \u001b[38;5;241m=\u001b[39m \u001b[38;5;28;01mNone\u001b[39;00m\n",
      "File \u001b[0;32m/net/scratch/slhleosun/miniconda3/envs/fixed_ai_env/lib/python3.11/site-packages/transformers/models/llama/modeling_llama.py:589\u001b[0m, in \u001b[0;36mLlamaModel.forward\u001b[0;34m(self, input_ids, attention_mask, position_ids, past_key_values, inputs_embeds, use_cache, output_attentions, output_hidden_states, return_dict, cache_position, **flash_attn_kwargs)\u001b[0m\n\u001b[1;32m    577\u001b[0m     layer_outputs \u001b[38;5;241m=\u001b[39m \u001b[38;5;28mself\u001b[39m\u001b[38;5;241m.\u001b[39m_gradient_checkpointing_func(\n\u001b[1;32m    578\u001b[0m         decoder_layer\u001b[38;5;241m.\u001b[39m\u001b[38;5;21m__call__\u001b[39m,\n\u001b[1;32m    579\u001b[0m         hidden_states,\n\u001b[0;32m   (...)\u001b[0m\n\u001b[1;32m    586\u001b[0m         position_embeddings,\n\u001b[1;32m    587\u001b[0m     )\n\u001b[1;32m    588\u001b[0m \u001b[38;5;28;01melse\u001b[39;00m:\n\u001b[0;32m--> 589\u001b[0m     layer_outputs \u001b[38;5;241m=\u001b[39m decoder_layer(\n\u001b[1;32m    590\u001b[0m         hidden_states,\n\u001b[1;32m    591\u001b[0m         attention_mask\u001b[38;5;241m=\u001b[39mcausal_mask,\n\u001b[1;32m    592\u001b[0m         position_ids\u001b[38;5;241m=\u001b[39mposition_ids,\n\u001b[1;32m    593\u001b[0m         past_key_value\u001b[38;5;241m=\u001b[39mpast_key_values,\n\u001b[1;32m    594\u001b[0m         output_attentions\u001b[38;5;241m=\u001b[39moutput_attentions,\n\u001b[1;32m    595\u001b[0m         use_cache\u001b[38;5;241m=\u001b[39muse_cache,\n\u001b[1;32m    596\u001b[0m         cache_position\u001b[38;5;241m=\u001b[39mcache_position,\n\u001b[1;32m    597\u001b[0m         position_embeddings\u001b[38;5;241m=\u001b[39mposition_embeddings,\n\u001b[1;32m    598\u001b[0m         \u001b[38;5;241m*\u001b[39m\u001b[38;5;241m*\u001b[39mflash_attn_kwargs,\n\u001b[1;32m    599\u001b[0m     )\n\u001b[1;32m    601\u001b[0m hidden_states \u001b[38;5;241m=\u001b[39m layer_outputs[\u001b[38;5;241m0\u001b[39m]\n\u001b[1;32m    603\u001b[0m \u001b[38;5;28;01mif\u001b[39;00m output_attentions:\n",
      "File \u001b[0;32m/net/scratch/slhleosun/miniconda3/envs/fixed_ai_env/lib/python3.11/site-packages/torch/nn/modules/module.py:1553\u001b[0m, in \u001b[0;36mModule._wrapped_call_impl\u001b[0;34m(self, *args, **kwargs)\u001b[0m\n\u001b[1;32m   1551\u001b[0m     \u001b[38;5;28;01mreturn\u001b[39;00m \u001b[38;5;28mself\u001b[39m\u001b[38;5;241m.\u001b[39m_compiled_call_impl(\u001b[38;5;241m*\u001b[39margs, \u001b[38;5;241m*\u001b[39m\u001b[38;5;241m*\u001b[39mkwargs)  \u001b[38;5;66;03m# type: ignore[misc]\u001b[39;00m\n\u001b[1;32m   1552\u001b[0m \u001b[38;5;28;01melse\u001b[39;00m:\n\u001b[0;32m-> 1553\u001b[0m     \u001b[38;5;28;01mreturn\u001b[39;00m \u001b[38;5;28mself\u001b[39m\u001b[38;5;241m.\u001b[39m_call_impl(\u001b[38;5;241m*\u001b[39margs, \u001b[38;5;241m*\u001b[39m\u001b[38;5;241m*\u001b[39mkwargs)\n",
      "File \u001b[0;32m/net/scratch/slhleosun/miniconda3/envs/fixed_ai_env/lib/python3.11/site-packages/torch/nn/modules/module.py:1603\u001b[0m, in \u001b[0;36mModule._call_impl\u001b[0;34m(self, *args, **kwargs)\u001b[0m\n\u001b[1;32m   1600\u001b[0m     bw_hook \u001b[38;5;241m=\u001b[39m hooks\u001b[38;5;241m.\u001b[39mBackwardHook(\u001b[38;5;28mself\u001b[39m, full_backward_hooks, backward_pre_hooks)\n\u001b[1;32m   1601\u001b[0m     args \u001b[38;5;241m=\u001b[39m bw_hook\u001b[38;5;241m.\u001b[39msetup_input_hook(args)\n\u001b[0;32m-> 1603\u001b[0m result \u001b[38;5;241m=\u001b[39m forward_call(\u001b[38;5;241m*\u001b[39margs, \u001b[38;5;241m*\u001b[39m\u001b[38;5;241m*\u001b[39mkwargs)\n\u001b[1;32m   1604\u001b[0m \u001b[38;5;28;01mif\u001b[39;00m _global_forward_hooks \u001b[38;5;129;01mor\u001b[39;00m \u001b[38;5;28mself\u001b[39m\u001b[38;5;241m.\u001b[39m_forward_hooks:\n\u001b[1;32m   1605\u001b[0m     \u001b[38;5;28;01mfor\u001b[39;00m hook_id, hook \u001b[38;5;129;01min\u001b[39;00m (\n\u001b[1;32m   1606\u001b[0m         \u001b[38;5;241m*\u001b[39m_global_forward_hooks\u001b[38;5;241m.\u001b[39mitems(),\n\u001b[1;32m   1607\u001b[0m         \u001b[38;5;241m*\u001b[39m\u001b[38;5;28mself\u001b[39m\u001b[38;5;241m.\u001b[39m_forward_hooks\u001b[38;5;241m.\u001b[39mitems(),\n\u001b[1;32m   1608\u001b[0m     ):\n\u001b[1;32m   1609\u001b[0m         \u001b[38;5;66;03m# mark that always called hook is run\u001b[39;00m\n",
      "File \u001b[0;32m/net/scratch/slhleosun/miniconda3/envs/fixed_ai_env/lib/python3.11/site-packages/accelerate/hooks.py:170\u001b[0m, in \u001b[0;36madd_hook_to_module.<locals>.new_forward\u001b[0;34m(module, *args, **kwargs)\u001b[0m\n\u001b[1;32m    168\u001b[0m         output \u001b[38;5;241m=\u001b[39m module\u001b[38;5;241m.\u001b[39m_old_forward(\u001b[38;5;241m*\u001b[39margs, \u001b[38;5;241m*\u001b[39m\u001b[38;5;241m*\u001b[39mkwargs)\n\u001b[1;32m    169\u001b[0m \u001b[38;5;28;01melse\u001b[39;00m:\n\u001b[0;32m--> 170\u001b[0m     output \u001b[38;5;241m=\u001b[39m module\u001b[38;5;241m.\u001b[39m_old_forward(\u001b[38;5;241m*\u001b[39margs, \u001b[38;5;241m*\u001b[39m\u001b[38;5;241m*\u001b[39mkwargs)\n\u001b[1;32m    171\u001b[0m \u001b[38;5;28;01mreturn\u001b[39;00m module\u001b[38;5;241m.\u001b[39m_hf_hook\u001b[38;5;241m.\u001b[39mpost_forward(module, output)\n",
      "File \u001b[0;32m/net/scratch/slhleosun/miniconda3/envs/fixed_ai_env/lib/python3.11/site-packages/transformers/models/llama/modeling_llama.py:347\u001b[0m, in \u001b[0;36mLlamaDecoderLayer.forward\u001b[0;34m(self, hidden_states, attention_mask, position_ids, past_key_value, output_attentions, use_cache, cache_position, position_embeddings, **kwargs)\u001b[0m\n\u001b[1;32m    345\u001b[0m \u001b[38;5;66;03m# Fully Connected\u001b[39;00m\n\u001b[1;32m    346\u001b[0m residual \u001b[38;5;241m=\u001b[39m hidden_states\n\u001b[0;32m--> 347\u001b[0m hidden_states \u001b[38;5;241m=\u001b[39m \u001b[38;5;28mself\u001b[39m\u001b[38;5;241m.\u001b[39mpost_attention_layernorm(hidden_states)\n\u001b[1;32m    348\u001b[0m hidden_states \u001b[38;5;241m=\u001b[39m \u001b[38;5;28mself\u001b[39m\u001b[38;5;241m.\u001b[39mmlp(hidden_states)\n\u001b[1;32m    349\u001b[0m hidden_states \u001b[38;5;241m=\u001b[39m residual \u001b[38;5;241m+\u001b[39m hidden_states\n",
      "File \u001b[0;32m/net/scratch/slhleosun/miniconda3/envs/fixed_ai_env/lib/python3.11/site-packages/torch/nn/modules/module.py:1553\u001b[0m, in \u001b[0;36mModule._wrapped_call_impl\u001b[0;34m(self, *args, **kwargs)\u001b[0m\n\u001b[1;32m   1551\u001b[0m     \u001b[38;5;28;01mreturn\u001b[39;00m \u001b[38;5;28mself\u001b[39m\u001b[38;5;241m.\u001b[39m_compiled_call_impl(\u001b[38;5;241m*\u001b[39margs, \u001b[38;5;241m*\u001b[39m\u001b[38;5;241m*\u001b[39mkwargs)  \u001b[38;5;66;03m# type: ignore[misc]\u001b[39;00m\n\u001b[1;32m   1552\u001b[0m \u001b[38;5;28;01melse\u001b[39;00m:\n\u001b[0;32m-> 1553\u001b[0m     \u001b[38;5;28;01mreturn\u001b[39;00m \u001b[38;5;28mself\u001b[39m\u001b[38;5;241m.\u001b[39m_call_impl(\u001b[38;5;241m*\u001b[39margs, \u001b[38;5;241m*\u001b[39m\u001b[38;5;241m*\u001b[39mkwargs)\n",
      "File \u001b[0;32m/net/scratch/slhleosun/miniconda3/envs/fixed_ai_env/lib/python3.11/site-packages/torch/nn/modules/module.py:1562\u001b[0m, in \u001b[0;36mModule._call_impl\u001b[0;34m(self, *args, **kwargs)\u001b[0m\n\u001b[1;32m   1557\u001b[0m \u001b[38;5;66;03m# If we don't have any hooks, we want to skip the rest of the logic in\u001b[39;00m\n\u001b[1;32m   1558\u001b[0m \u001b[38;5;66;03m# this function, and just call forward.\u001b[39;00m\n\u001b[1;32m   1559\u001b[0m \u001b[38;5;28;01mif\u001b[39;00m \u001b[38;5;129;01mnot\u001b[39;00m (\u001b[38;5;28mself\u001b[39m\u001b[38;5;241m.\u001b[39m_backward_hooks \u001b[38;5;129;01mor\u001b[39;00m \u001b[38;5;28mself\u001b[39m\u001b[38;5;241m.\u001b[39m_backward_pre_hooks \u001b[38;5;129;01mor\u001b[39;00m \u001b[38;5;28mself\u001b[39m\u001b[38;5;241m.\u001b[39m_forward_hooks \u001b[38;5;129;01mor\u001b[39;00m \u001b[38;5;28mself\u001b[39m\u001b[38;5;241m.\u001b[39m_forward_pre_hooks\n\u001b[1;32m   1560\u001b[0m         \u001b[38;5;129;01mor\u001b[39;00m _global_backward_pre_hooks \u001b[38;5;129;01mor\u001b[39;00m _global_backward_hooks\n\u001b[1;32m   1561\u001b[0m         \u001b[38;5;129;01mor\u001b[39;00m _global_forward_hooks \u001b[38;5;129;01mor\u001b[39;00m _global_forward_pre_hooks):\n\u001b[0;32m-> 1562\u001b[0m     \u001b[38;5;28;01mreturn\u001b[39;00m forward_call(\u001b[38;5;241m*\u001b[39margs, \u001b[38;5;241m*\u001b[39m\u001b[38;5;241m*\u001b[39mkwargs)\n\u001b[1;32m   1564\u001b[0m \u001b[38;5;28;01mtry\u001b[39;00m:\n\u001b[1;32m   1565\u001b[0m     result \u001b[38;5;241m=\u001b[39m \u001b[38;5;28;01mNone\u001b[39;00m\n",
      "File \u001b[0;32m/net/scratch/slhleosun/miniconda3/envs/fixed_ai_env/lib/python3.11/site-packages/accelerate/hooks.py:170\u001b[0m, in \u001b[0;36madd_hook_to_module.<locals>.new_forward\u001b[0;34m(module, *args, **kwargs)\u001b[0m\n\u001b[1;32m    168\u001b[0m         output \u001b[38;5;241m=\u001b[39m module\u001b[38;5;241m.\u001b[39m_old_forward(\u001b[38;5;241m*\u001b[39margs, \u001b[38;5;241m*\u001b[39m\u001b[38;5;241m*\u001b[39mkwargs)\n\u001b[1;32m    169\u001b[0m \u001b[38;5;28;01melse\u001b[39;00m:\n\u001b[0;32m--> 170\u001b[0m     output \u001b[38;5;241m=\u001b[39m module\u001b[38;5;241m.\u001b[39m_old_forward(\u001b[38;5;241m*\u001b[39margs, \u001b[38;5;241m*\u001b[39m\u001b[38;5;241m*\u001b[39mkwargs)\n\u001b[1;32m    171\u001b[0m \u001b[38;5;28;01mreturn\u001b[39;00m module\u001b[38;5;241m.\u001b[39m_hf_hook\u001b[38;5;241m.\u001b[39mpost_forward(module, output)\n",
      "File \u001b[0;32m/net/scratch/slhleosun/miniconda3/envs/fixed_ai_env/lib/python3.11/site-packages/transformers/models/llama/modeling_llama.py:70\u001b[0m, in \u001b[0;36mLlamaRMSNorm.forward\u001b[0;34m(self, hidden_states)\u001b[0m\n\u001b[1;32m     68\u001b[0m \u001b[38;5;28;01mdef\u001b[39;00m \u001b[38;5;21mforward\u001b[39m(\u001b[38;5;28mself\u001b[39m, hidden_states):\n\u001b[1;32m     69\u001b[0m     input_dtype \u001b[38;5;241m=\u001b[39m hidden_states\u001b[38;5;241m.\u001b[39mdtype\n\u001b[0;32m---> 70\u001b[0m     hidden_states \u001b[38;5;241m=\u001b[39m hidden_states\u001b[38;5;241m.\u001b[39mto(torch\u001b[38;5;241m.\u001b[39mfloat32)\n\u001b[1;32m     71\u001b[0m     variance \u001b[38;5;241m=\u001b[39m hidden_states\u001b[38;5;241m.\u001b[39mpow(\u001b[38;5;241m2\u001b[39m)\u001b[38;5;241m.\u001b[39mmean(\u001b[38;5;241m-\u001b[39m\u001b[38;5;241m1\u001b[39m, keepdim\u001b[38;5;241m=\u001b[39m\u001b[38;5;28;01mTrue\u001b[39;00m)\n\u001b[1;32m     72\u001b[0m     hidden_states \u001b[38;5;241m=\u001b[39m hidden_states \u001b[38;5;241m*\u001b[39m torch\u001b[38;5;241m.\u001b[39mrsqrt(variance \u001b[38;5;241m+\u001b[39m \u001b[38;5;28mself\u001b[39m\u001b[38;5;241m.\u001b[39mvariance_epsilon)\n",
      "\u001b[0;31mKeyboardInterrupt\u001b[0m: "
     ]
    }
   ],
   "source": [
    "import json\n",
    "import torch\n",
    "import numpy as np\n",
    "from transformers import AutoModelForCausalLM, AutoTokenizer\n",
    "from sklearn.linear_model import Ridge\n",
    "from sklearn.metrics import r2_score\n",
    "import matplotlib.pyplot as plt\n",
    "import seaborn as sns\n",
    "from tqdm import tqdm\n",
    "import random\n",
    "import re\n",
    "import os\n",
    "from collections import defaultdict\n",
    "import gc\n",
    "\n",
    "# Set device\n",
    "device = torch.device(\"cuda\" if torch.cuda.is_available() else \"cpu\")\n",
    "print(f\"Using device: {device}\")\n",
    "\n",
    "# Create output directory\n",
    "os.makedirs(\"interp_plots\", exist_ok=True)\n",
    "\n",
    "# Initialize model and tokenizer\n",
    "MODEL_NAME = \"meta-llama/Meta-Llama-3-8B-Instruct\"\n",
    "print(\"Loading model and tokenizer...\")\n",
    "tokenizer = AutoTokenizer.from_pretrained(MODEL_NAME)\n",
    "tokenizer.pad_token = tokenizer.eos_token\n",
    "model = AutoModelForCausalLM.from_pretrained(\n",
    "    MODEL_NAME,\n",
    "    torch_dtype=torch.float16,  # Use float16 to save memory\n",
    "    device_map=\"auto\"  # Automatically distribute across GPUs\n",
    ")\n",
    "model.eval()\n",
    "\n",
    "# Get model config\n",
    "num_layers = model.config.num_hidden_layers\n",
    "print(f\"Model has {num_layers} layers\")\n",
    "\n",
    "def extract_correct_predictions(input_file, output_file, num_samples=200):\n",
    "    \"\"\"Extract prompts where pred == gold\"\"\"\n",
    "    correct_prompts = []\n",
    "    \n",
    "    with open(input_file, 'r') as f:\n",
    "        for line in f:\n",
    "            data = json.loads(line)\n",
    "            if data['pred'] == data['gold']:\n",
    "                correct_prompts.append(data)\n",
    "                if len(correct_prompts) >= num_samples:\n",
    "                    break\n",
    "    \n",
    "    # Save to new file\n",
    "    with open(output_file, 'w') as f:\n",
    "        for prompt_data in correct_prompts:\n",
    "            f.write(json.dumps(prompt_data) + '\\n')\n",
    "    \n",
    "    print(f\"Extracted {len(correct_prompts)} correct predictions\")\n",
    "    return correct_prompts\n",
    "\n",
    "def parse_prompt(prompt):\n",
    "    \"\"\"Extract category type and list items from prompt\"\"\"\n",
    "    type_match = re.search(r'Type: (\\w+)', prompt)\n",
    "    list_match = re.search(r'List: \\[(.*?)\\]', prompt)\n",
    "    \n",
    "    if not type_match or not list_match:\n",
    "        raise ValueError(\"Could not parse prompt\")\n",
    "    \n",
    "    category = type_match.group(1)\n",
    "    items = [item.strip() for item in list_match.group(1).split(',')]\n",
    "    \n",
    "    return category, items\n",
    "\n",
    "def get_token_positions_for_items(tokenizer, prompt, items):\n",
    "    \"\"\"Map each list item to its token position in the prompt\"\"\"\n",
    "    # Tokenize the full prompt\n",
    "    encoding = tokenizer(prompt, return_tensors=\"pt\")\n",
    "    tokens = tokenizer.convert_ids_to_tokens(encoding.input_ids[0])\n",
    "    \n",
    "    # Debug: print tokens for first example\n",
    "    if items[0] == 'stool':  # First example\n",
    "        print(f\"\\nDebug - Tokenization:\")\n",
    "        print(f\"  Tokens (first 40): {tokens[:40]}\")\n",
    "        print(f\"  Looking for items: {items}\")\n",
    "    \n",
    "    # Find positions of list items\n",
    "    item_positions = []\n",
    "    \n",
    "    for item in items:\n",
    "        # Try to find the item in the token sequence\n",
    "        item_lower = item.lower()\n",
    "        found = False\n",
    "        \n",
    "        # Look for exact match first\n",
    "        for i, token in enumerate(tokens):\n",
    "            # Remove special tokens markers\n",
    "            clean_token = token.replace('Ġ', '').replace('▁', '').lower()\n",
    "            \n",
    "            if clean_token == item_lower:\n",
    "                item_positions.append(i)\n",
    "                found = True\n",
    "                break\n",
    "        \n",
    "        # If not found, look for partial matches (item might be split across tokens)\n",
    "        if not found:\n",
    "            # Tokenize the item separately\n",
    "            item_tokens = tokenizer.tokenize(item)\n",
    "            item_tokens_clean = [t.replace('Ġ', '').replace('▁', '').lower() for t in item_tokens]\n",
    "            \n",
    "            # Look for sequence of tokens\n",
    "            for i in range(len(tokens) - len(item_tokens) + 1):\n",
    "                tokens_slice = [tokens[j].replace('Ġ', '').replace('▁', '').lower() \n",
    "                               for j in range(i, i + len(item_tokens))]\n",
    "                if tokens_slice == item_tokens_clean:\n",
    "                    item_positions.append(i)\n",
    "                    found = True\n",
    "                    break\n",
    "        \n",
    "        # If still not found, append -1 as placeholder\n",
    "        if not found:\n",
    "            item_positions.append(-1)\n",
    "    \n",
    "    # Filter out -1 values\n",
    "    valid_positions = [pos for pos in item_positions if pos != -1]\n",
    "    \n",
    "    if items[0] == 'stool':  # Debug first example\n",
    "        print(f\"  Found positions: {item_positions}\")\n",
    "        print(f\"  Valid positions: {valid_positions}\")\n",
    "    \n",
    "    return valid_positions\n",
    "\n",
    "def is_category_match(item, category):\n",
    "    \"\"\"Check if an item belongs to a category\"\"\"\n",
    "    CATEGORY_ITEMS = {\n",
    "        \"fruit\": [\n",
    "            \"apple\", \"banana\", \"cherry\", \"grape\", \"orange\",\n",
    "            \"pear\", \"peach\", \"mango\", \"tangerine\", \"plum\"\n",
    "        ],\n",
    "        \"animal\": [\n",
    "            \"dog\", \"cat\", \"horse\", \"cow\", \"sheep\",\n",
    "            \"lion\", \"tiger\", \"bear\", \"rabbit\", \"fox\"\n",
    "        ],\n",
    "        \"vehicle\": [\n",
    "            \"car\", \"bus\", \"truck\", \"bicycle\", \"motorcycle\",\n",
    "            \"train\", \"boat\", \"plane\", \"scooter\", \"van\"\n",
    "        ],\n",
    "        \"instrument\": [           \n",
    "            \"guitar\", \"piano\", \"violin\", \"drum\", \"flute\",\n",
    "            \"trumpet\", \"saxophone\", \"cello\", \"clarinet\", \"harp\"\n",
    "        ],\n",
    "        \"furniture\": [            \n",
    "            \"chair\", \"table\", \"sofa\", \"bed\", \"desk\",\n",
    "            \"cabinet\", \"dresser\", \"stool\", \"wardrobe\", \"bookshelf\"\n",
    "        ],\n",
    "    }\n",
    "    \n",
    "    return item.lower() in CATEGORY_ITEMS.get(category.lower(), [])\n",
    "\n",
    "def count_category_matches(items, category):\n",
    "    \"\"\"Count how many items match the category\"\"\"\n",
    "    count = 0\n",
    "    for item in items:\n",
    "        if is_category_match(item, category):\n",
    "            count += 1\n",
    "    return count\n",
    "\n",
    "def compute_running_counts(items, category):\n",
    "    \"\"\"Compute running count of category matches at each position\"\"\"\n",
    "    running_counts = []\n",
    "    count = 0\n",
    "    for i, item in enumerate(items):\n",
    "        if is_category_match(item, category):\n",
    "            count += 1\n",
    "        running_counts.append(count)\n",
    "    return running_counts\n",
    "\n",
    "def get_cumulative_counts_up_to_position(items, category, positions):\n",
    "    \"\"\"Get the cumulative count up to each token position\"\"\"\n",
    "    # If we don't have valid positions, return empty\n",
    "    if not positions:\n",
    "        return []\n",
    "    \n",
    "    # For each token position, count how many category items we've seen\n",
    "    cumulative_counts = []\n",
    "    \n",
    "    # Create a mapping of positions to items\n",
    "    pos_to_item_idx = {}\n",
    "    for item_idx, pos in enumerate(positions):\n",
    "        if pos != -1 and item_idx < len(items):\n",
    "            pos_to_item_idx[pos] = item_idx\n",
    "    \n",
    "    # Sort positions to process in order\n",
    "    sorted_positions = sorted(positions)\n",
    "    \n",
    "    for pos in positions:  # Keep original order\n",
    "        # Count items up to this position\n",
    "        count = 0\n",
    "        for sorted_pos in sorted_positions:\n",
    "            if sorted_pos <= pos and sorted_pos in pos_to_item_idx:\n",
    "                item_idx = pos_to_item_idx[sorted_pos]\n",
    "                if item_idx < len(items) and is_category_match(items[item_idx], category):\n",
    "                    count += 1\n",
    "        cumulative_counts.append(count)\n",
    "    \n",
    "    return cumulative_counts\n",
    "\n",
    "def get_hidden_states_with_hook(model, input_ids):\n",
    "    \"\"\"Get hidden states for all layers using hooks\"\"\"\n",
    "    hidden_states = {}\n",
    "    \n",
    "    def hook_fn(name):\n",
    "        def hook(module, input, output):\n",
    "            # Store the hidden states, move to CPU immediately to save GPU memory\n",
    "            hidden_states[name] = output[0].detach().cpu()\n",
    "        return hook\n",
    "    \n",
    "    # Register hooks\n",
    "    hooks = []\n",
    "    for i in range(num_layers):\n",
    "        layer = model.model.layers[i]\n",
    "        hook = layer.register_forward_hook(hook_fn(f\"layer_{i}\"))\n",
    "        hooks.append(hook)\n",
    "    \n",
    "    # Forward pass\n",
    "    with torch.no_grad():\n",
    "        with torch.cuda.amp.autocast():  # Use mixed precision to save memory\n",
    "            outputs = model(input_ids)\n",
    "    \n",
    "    # Remove hooks\n",
    "    for hook in hooks:\n",
    "        hook.remove()\n",
    "    \n",
    "    return hidden_states\n",
    "\n",
    "def create_prefix_permuted_prompt(prompt, items, k):\n",
    "    \"\"\"Create a prompt with the first k+1 items shuffled\"\"\"\n",
    "    # Shuffle first k+1 items\n",
    "    prefix = items[:k+1].copy()\n",
    "    random.shuffle(prefix)\n",
    "    \n",
    "    # Combine with rest of list\n",
    "    permuted_items = prefix + items[k+1:]\n",
    "    \n",
    "    # Reconstruct prompt\n",
    "    list_str = ', '.join(permuted_items)\n",
    "    permuted_prompt = re.sub(r'List: \\[.*?\\]', f'List: [{list_str}]', prompt)\n",
    "    \n",
    "    return permuted_prompt, permuted_items\n",
    "\n",
    "def train_probes(hidden_states_dict, running_counts_dict, token_positions_dict, layer_idx):\n",
    "    \"\"\"Train linear probes to predict running counts from hidden states\"\"\"\n",
    "    X_all = []\n",
    "    y_all = []\n",
    "    \n",
    "    for prompt_idx, hidden_states in hidden_states_dict.items():\n",
    "        running_counts = running_counts_dict[prompt_idx]\n",
    "        token_positions = token_positions_dict[prompt_idx]\n",
    "        \n",
    "        # Debug: print sample data\n",
    "        if prompt_idx == 0 and layer_idx == 0:\n",
    "            print(f\"\\nDebug - Prompt {prompt_idx}:\")\n",
    "            print(f\"  Running counts: {running_counts}\")\n",
    "            print(f\"  Token positions: {token_positions}\")\n",
    "            print(f\"  Hidden states shape: {hidden_states.shape}\")\n",
    "        \n",
    "        # For each list item and its corresponding token position\n",
    "        for i, (count, token_pos) in enumerate(zip(running_counts, token_positions)):\n",
    "            if token_pos < hidden_states.shape[1]:  # Ensure we're within bounds\n",
    "                # Use the hidden state at this token position\n",
    "                hidden_state = hidden_states[0, token_pos].numpy()\n",
    "                X_all.append(hidden_state)\n",
    "                y_all.append(count)\n",
    "    \n",
    "    if len(X_all) == 0:\n",
    "        return None, 0.0\n",
    "    \n",
    "    X_all = np.array(X_all)\n",
    "    y_all = np.array(y_all)\n",
    "    \n",
    "    # Debug: print training data info\n",
    "    if layer_idx == 0:\n",
    "        print(f\"\\nDebug - Training data for layer {layer_idx}:\")\n",
    "        print(f\"  X shape: {X_all.shape}\")\n",
    "        print(f\"  y shape: {y_all.shape}\")\n",
    "        print(f\"  y unique values: {np.unique(y_all)}\")\n",
    "        print(f\"  y mean: {np.mean(y_all):.3f}, std: {np.std(y_all):.3f}\")\n",
    "    \n",
    "    # Split data for proper evaluation\n",
    "    from sklearn.model_selection import train_test_split\n",
    "    if len(X_all) > 20:  # Only split if we have enough data\n",
    "        X_train, X_test, y_train, y_test = train_test_split(\n",
    "            X_all, y_all, test_size=0.2, random_state=42\n",
    "        )\n",
    "    else:\n",
    "        X_train, X_test = X_all, X_all\n",
    "        y_train, y_test = y_all, y_all\n",
    "    \n",
    "    # Train Ridge regression with cross-validation\n",
    "    from sklearn.model_selection import cross_val_score\n",
    "    alphas = [0.01, 0.1, 1.0, 10.0, 100.0]\n",
    "    best_alpha = 1.0\n",
    "    best_cv_score = -float('inf')\n",
    "    \n",
    "    for alpha in alphas:\n",
    "        probe = Ridge(alpha=alpha)\n",
    "        cv_scores = cross_val_score(probe, X_train, y_train, cv=3, scoring='r2')\n",
    "        mean_cv_score = np.mean(cv_scores)\n",
    "        if mean_cv_score > best_cv_score:\n",
    "            best_cv_score = mean_cv_score\n",
    "            best_alpha = alpha\n",
    "    \n",
    "    # Train final model with best alpha\n",
    "    probe = Ridge(alpha=best_alpha)\n",
    "    probe.fit(X_train, y_train)\n",
    "    \n",
    "    # Evaluate on test set\n",
    "    y_pred = probe.predict(X_test)\n",
    "    score = r2_score(y_test, y_pred)\n",
    "    \n",
    "    # Additional debug for first layer\n",
    "    if layer_idx == 0:\n",
    "        print(f\"  Best alpha: {best_alpha}\")\n",
    "        print(f\"  CV score: {best_cv_score:.4f}\")\n",
    "        print(f\"  Test R² score: {score:.4f}\")\n",
    "    \n",
    "    return probe, score\n",
    "\n",
    "def patch_and_evaluate(model, tokenizer, prompt_data, layer_idx, probes):\n",
    "    \"\"\"Patch hidden states and evaluate impact on final answer\"\"\"\n",
    "    prompt = prompt_data['prompt']\n",
    "    gold_answer = prompt_data['gold']\n",
    "    category, items = parse_prompt(prompt)\n",
    "    \n",
    "    # Get token positions for list items\n",
    "    token_positions = get_token_positions_for_items(tokenizer, prompt, items)\n",
    "    \n",
    "    # Tokenize original prompt\n",
    "    inputs = tokenizer(prompt, return_tensors=\"pt\", padding=True).to(device)\n",
    "    \n",
    "    # Get clean run hidden states\n",
    "    clean_hidden_states = get_hidden_states_with_hook(model, inputs.input_ids)\n",
    "    \n",
    "    patching_results = []\n",
    "    \n",
    "    for k in range(min(len(items) - 1, len(token_positions) - 1)):  # For each prefix position\n",
    "        # Create prefix-permuted version\n",
    "        permuted_prompt, permuted_items = create_prefix_permuted_prompt(prompt, items, k)\n",
    "        permuted_count = count_category_matches(permuted_items, category)\n",
    "        \n",
    "        # Get counterfactual hidden states\n",
    "        permuted_inputs = tokenizer(permuted_prompt, return_tensors=\"pt\", padding=True).to(device)\n",
    "        \n",
    "        # Ensure both sequences have the same length\n",
    "        if permuted_inputs.input_ids.shape[1] != inputs.input_ids.shape[1]:\n",
    "            continue\n",
    "            \n",
    "        counterfactual_hidden_states = get_hidden_states_with_hook(model, permuted_inputs.input_ids)\n",
    "        \n",
    "        # Get the token position for item k\n",
    "        if k >= len(token_positions):\n",
    "            continue\n",
    "        token_pos = token_positions[k]\n",
    "        \n",
    "        # Check if token position is valid\n",
    "        if token_pos >= clean_hidden_states[f\"layer_{layer_idx}\"].shape[1]:\n",
    "            continue\n",
    "        \n",
    "        # Patch at specified layer, token position for item k\n",
    "        def patching_hook(module, input, output):\n",
    "            # Replace hidden state at token position with counterfactual\n",
    "            hidden_states = output[0]\n",
    "            if token_pos < hidden_states.shape[1]:\n",
    "                hidden_states[:, token_pos] = counterfactual_hidden_states[f\"layer_{layer_idx}\"][:, token_pos].to(device)\n",
    "            return (hidden_states,) + output[1:]\n",
    "        \n",
    "        # Register patching hook\n",
    "        hook = model.model.layers[layer_idx].register_forward_hook(patching_hook)\n",
    "        \n",
    "        # Run patched forward pass\n",
    "        with torch.no_grad():\n",
    "            outputs = model.generate(\n",
    "                inputs.input_ids,\n",
    "                max_new_tokens=10,\n",
    "                do_sample=False,\n",
    "                pad_token_id=tokenizer.eos_token_id,\n",
    "                attention_mask=inputs.attention_mask\n",
    "            )\n",
    "        \n",
    "        # Remove hook\n",
    "        hook.remove()\n",
    "        \n",
    "        # Extract predicted number\n",
    "        generated_text = tokenizer.decode(outputs[0], skip_special_tokens=True)\n",
    "        pred_match = re.search(r'\\((\\d+)\\)', generated_text)\n",
    "        if pred_match:\n",
    "            patched_pred = int(pred_match.group(1))\n",
    "        else:\n",
    "            patched_pred = -1\n",
    "        \n",
    "        patching_results.append({\n",
    "            'position': k,\n",
    "            'token_position': token_pos,\n",
    "            'original_answer': gold_answer,\n",
    "            'permuted_answer': permuted_count,\n",
    "            'patched_prediction': patched_pred,\n",
    "            'shifted_correctly': patched_pred == permuted_count\n",
    "        })\n",
    "    \n",
    "    return patching_results\n",
    "\n",
    "def visualize_probe_scores(probe_scores, best_layer):\n",
    "    \"\"\"Visualize probe R² scores across layers\"\"\"\n",
    "    plt.figure(figsize=(12, 6))\n",
    "    \n",
    "    layers = sorted(probe_scores.keys())\n",
    "    scores = [probe_scores[l] for l in layers]\n",
    "    \n",
    "    # Create bar plot\n",
    "    bars = plt.bar(layers, scores, color='skyblue', edgecolor='navy', alpha=0.7)\n",
    "    \n",
    "    # Highlight best layer\n",
    "    bars[best_layer].set_color('red')\n",
    "    bars[best_layer].set_alpha(1.0)\n",
    "    \n",
    "    plt.xlabel('Layer', fontsize=12)\n",
    "    plt.ylabel('R² Score', fontsize=12)\n",
    "    plt.title('Linear Probe Performance Across Layers (Predicting Running Count)', fontsize=14)\n",
    "    plt.grid(True, alpha=0.3)\n",
    "    \n",
    "    # Add value labels on bars\n",
    "    for i, (layer, score) in enumerate(zip(layers, scores)):\n",
    "        if layer == best_layer:\n",
    "            plt.text(layer, score + 0.01, f'{score:.3f}', ha='center', fontweight='bold')\n",
    "        elif i % 4 == 0:  # Show every 4th layer to avoid crowding\n",
    "            plt.text(layer, score + 0.01, f'{score:.3f}', ha='center', fontsize=9)\n",
    "    \n",
    "    plt.tight_layout()\n",
    "    plt.savefig('interp_plots/probe_scores_by_layer.png', dpi=150)\n",
    "    plt.show()\n",
    "\n",
    "def visualize_patching_heatmap(patching_results, layer_idx):\n",
    "    \"\"\"Create heatmap for patching results at a specific layer\"\"\"\n",
    "    if not patching_results:\n",
    "        return\n",
    "    \n",
    "    # Group by position\n",
    "    success_matrix = defaultdict(list)\n",
    "    for result in patching_results:\n",
    "        success_matrix[result['position']].append(int(result['shifted_correctly']))\n",
    "    \n",
    "    if not success_matrix:\n",
    "        return\n",
    "    \n",
    "    # Convert to array for plotting\n",
    "    max_pos = max(success_matrix.keys()) + 1\n",
    "    heatmap_data = np.zeros((1, max_pos))\n",
    "    for pos, successes in success_matrix.items():\n",
    "        heatmap_data[0, pos] = np.mean(successes)\n",
    "    \n",
    "    # Plot\n",
    "    plt.figure(figsize=(12, 3))\n",
    "    sns.heatmap(heatmap_data, \n",
    "                xticklabels=range(max_pos),\n",
    "                yticklabels=[f'Layer {layer_idx}'],\n",
    "                cmap='RdYlGn',\n",
    "                vmin=0, vmax=1,\n",
    "                annot=True, fmt='.2f',\n",
    "                cbar_kws={'label': 'Patching Success Rate'})\n",
    "    plt.xlabel('List Position')\n",
    "    plt.title(f'Impact of Patching Hidden States at Layer {layer_idx}')\n",
    "    plt.tight_layout()\n",
    "    plt.savefig(f'interp_plots/patching_heatmap_layer_{layer_idx}.png', dpi=150)\n",
    "    plt.show()\n",
    "\n",
    "def visualize_averaged_impact(all_layer_results):\n",
    "    \"\"\"Visualize averaged impact across all layers\"\"\"\n",
    "    layer_avg_impacts = {}\n",
    "    \n",
    "    for layer_idx, results in all_layer_results.items():\n",
    "        if results:\n",
    "            # Calculate average success rate across all positions\n",
    "            all_successes = [r['shifted_correctly'] for r in results]\n",
    "            avg_impact = np.mean(all_successes) if all_successes else 0\n",
    "            layer_avg_impacts[layer_idx] = avg_impact\n",
    "    \n",
    "    if not layer_avg_impacts:\n",
    "        return\n",
    "    \n",
    "    # Plot\n",
    "    plt.figure(figsize=(12, 6))\n",
    "    \n",
    "    layers = sorted(layer_avg_impacts.keys())\n",
    "    impacts = [layer_avg_impacts[l] for l in layers]\n",
    "    \n",
    "    plt.plot(layers, impacts, 'o-', linewidth=2, markersize=8, color='darkblue')\n",
    "    plt.fill_between(layers, impacts, alpha=0.3, color='lightblue')\n",
    "    \n",
    "    plt.xlabel('Layer', fontsize=12)\n",
    "    plt.ylabel('Average Patching Success Rate', fontsize=12)\n",
    "    plt.title('Average Impact of Patching Across Layers', fontsize=14)\n",
    "    plt.grid(True, alpha=0.3)\n",
    "    plt.ylim(0, 1.05)\n",
    "    \n",
    "    # Mark the best layer\n",
    "    best_impact_layer = max(layer_avg_impacts, key=layer_avg_impacts.get)\n",
    "    plt.axvline(x=best_impact_layer, color='red', linestyle='--', alpha=0.7, \n",
    "                label=f'Best Layer: {best_impact_layer}')\n",
    "    plt.legend()\n",
    "    \n",
    "    plt.tight_layout()\n",
    "    plt.savefig('interp_plots/average_impact_by_layer.png', dpi=150)\n",
    "    plt.show()\n",
    "\n",
    "def main():\n",
    "    # Set CUDA environment for better debugging\n",
    "    os.environ['CUDA_LAUNCH_BLOCKING'] = '1'\n",
    "    \n",
    "    # Step 1: Extract correct predictions\n",
    "    input_file = \"/net/scratch/slhleosun/counting_items/behavioral_results/llama3-8b-inst/predictions.jsonl\"\n",
    "    output_file = \"correct_predictions.jsonl\"\n",
    "    correct_prompts = extract_correct_predictions(input_file, output_file)\n",
    "    \n",
    "    # Step 2 & 3: Run clean and counterfactual runs, collect hidden states\n",
    "    print(\"\\nCollecting hidden states for clean runs...\")\n",
    "    clean_hidden_states = {}\n",
    "    running_counts_all = {}\n",
    "    token_positions_all = {}\n",
    "    \n",
    "    # Also collect some statistics\n",
    "    total_items = 0\n",
    "    total_matches = 0\n",
    "    \n",
    "    # Process in smaller batches to avoid memory issues\n",
    "    batch_size = 5\n",
    "    num_samples = 100  # Increased from 30 to 100 for better analysis\n",
    "    \n",
    "    for batch_start in range(0, min(num_samples, len(correct_prompts)), batch_size):\n",
    "        batch_end = min(batch_start + batch_size, num_samples, len(correct_prompts))\n",
    "        print(f\"\\nProcessing batch {batch_start//batch_size + 1}/{(num_samples + batch_size - 1)//batch_size}\")\n",
    "        \n",
    "        for idx in tqdm(range(batch_start, batch_end)):\n",
    "            prompt_data = correct_prompts[idx]\n",
    "            prompt = prompt_data['prompt']\n",
    "            \n",
    "            try:\n",
    "                category, items = parse_prompt(prompt)\n",
    "                \n",
    "                # Get token positions for list items\n",
    "                token_positions = get_token_positions_for_items(tokenizer, prompt, items)\n",
    "                \n",
    "                # Skip if we couldn't find enough token positions\n",
    "                if len(token_positions) < len(items) * 0.5:  # If we found less than half\n",
    "                    print(f\"\\nWarning: Could only find {len(token_positions)}/{len(items)} items in prompt {idx}\")\n",
    "                    continue\n",
    "                    \n",
    "                token_positions_all[idx] = token_positions\n",
    "                \n",
    "                # Tokenize\n",
    "                inputs = tokenizer(prompt, return_tensors=\"pt\", padding=True).to(device)\n",
    "                \n",
    "                # Get hidden states\n",
    "                hidden_states = get_hidden_states_with_hook(model, inputs.input_ids)\n",
    "                \n",
    "                # Store hidden states for each layer\n",
    "                for layer_idx in range(num_layers):\n",
    "                    if layer_idx not in clean_hidden_states:\n",
    "                        clean_hidden_states[layer_idx] = {}\n",
    "                    clean_hidden_states[layer_idx][idx] = hidden_states[f\"layer_{layer_idx}\"]\n",
    "                \n",
    "                # Compute cumulative counts at each token position\n",
    "                running_counts = get_cumulative_counts_up_to_position(items, category, token_positions)\n",
    "                running_counts_all[idx] = running_counts\n",
    "                \n",
    "                # Collect statistics\n",
    "                total_items += len(items)\n",
    "                final_count = count_category_matches(items, category)\n",
    "                total_matches += final_count\n",
    "                \n",
    "                # Debug first few examples\n",
    "                if idx < 3:\n",
    "                    print(f\"\\nDebug - Example {idx}:\")\n",
    "                    print(f\"  Category: {category}\")\n",
    "                    print(f\"  Items: {items}\")\n",
    "                    print(f\"  Gold answer: {prompt_data['gold']}\")\n",
    "                    print(f\"  Actual count: {final_count}\")\n",
    "                    print(f\"  Token positions found: {len(token_positions)}/{len(items)}\")\n",
    "                    print(f\"  Running counts: {running_counts}\")\n",
    "                \n",
    "                # Clean up\n",
    "                del inputs\n",
    "                del hidden_states\n",
    "                \n",
    "            except Exception as e:\n",
    "                print(f\"Error processing prompt {idx}: {e}\")\n",
    "                continue\n",
    "        \n",
    "        # Clear GPU memory after each batch\n",
    "        gc.collect()\n",
    "        if torch.cuda.is_available():\n",
    "            torch.cuda.synchronize()\n",
    "            torch.cuda.empty_cache()\n",
    "    \n",
    "    print(f\"\\nDataset statistics:\")\n",
    "    print(f\"  Total items: {total_items}\")\n",
    "    print(f\"  Total matches: {total_matches}\")\n",
    "    print(f\"  Match rate: {total_matches/total_items:.2%}\" if total_items > 0 else \"N/A\")\n",
    "    \n",
    "    # Step 4: Train probes at each layer\n",
    "    print(\"\\nTraining probes at each layer...\")\n",
    "    probe_scores = {}\n",
    "    probes = {}\n",
    "    \n",
    "    for layer_idx in tqdm(range(num_layers)):\n",
    "        if layer_idx in clean_hidden_states and clean_hidden_states[layer_idx]:\n",
    "            probe, score = train_probes(clean_hidden_states[layer_idx], running_counts_all, token_positions_all, layer_idx)\n",
    "            probe_scores[layer_idx] = score\n",
    "            probes[layer_idx] = probe\n",
    "            if layer_idx % 8 == 0:  # Print every 8 layers\n",
    "                print(f\"Layer {layer_idx}: R² score = {score:.4f}\")\n",
    "        else:\n",
    "            probe_scores[layer_idx] = 0.0\n",
    "            probes[layer_idx] = None\n",
    "    \n",
    "    # Find best layer\n",
    "    if probe_scores:\n",
    "        best_layer = max(probe_scores, key=probe_scores.get)\n",
    "        print(f\"\\nBest layer for count tracking: Layer {best_layer} (R² = {probe_scores[best_layer]:.4f})\")\n",
    "        \n",
    "        # Visualize probe scores\n",
    "        visualize_probe_scores(probe_scores, best_layer)\n",
    "    else:\n",
    "        print(\"Error: No probe scores computed\")\n",
    "        return\n",
    "    \n",
    "    # Step 5 & 6: Patch and evaluate on multiple layers\n",
    "    print(\"\\nPatching and evaluating...\")\n",
    "    \n",
    "    # Select layers to evaluate - best layer + evenly spaced others\n",
    "    layers_to_evaluate = [best_layer]  # Start with best layer\n",
    "    other_layers = [i for i in range(0, num_layers) if i != best_layer]  # Every 4th layer\n",
    "    layers_to_evaluate.extend(other_layers)\n",
    "    layers_to_evaluate = sorted(set(layers_to_evaluate))  # Remove duplicates and sort\n",
    "    \n",
    "    print(f\"Evaluating layers: {layers_to_evaluate}\")\n",
    "    \n",
    "    all_layer_results = {}\n",
    "    num_prompts_to_patch = min(20, len(correct_prompts))  # Increased from 10 to 20\n",
    "    \n",
    "    for layer_idx in layers_to_evaluate:\n",
    "        print(f\"\\nPatching at layer {layer_idx}...\")\n",
    "        layer_patching_results = []\n",
    "        \n",
    "        for prompt_data in tqdm(correct_prompts[:num_prompts_to_patch]):\n",
    "            try:\n",
    "                results = patch_and_evaluate(model, tokenizer, prompt_data, layer_idx, probes)\n",
    "                layer_patching_results.extend(results)\n",
    "            except Exception as e:\n",
    "                print(f\"Error patching prompt: {e}\")\n",
    "                continue\n",
    "        \n",
    "        all_layer_results[layer_idx] = layer_patching_results\n",
    "        \n",
    "        # Visualize results for this layer\n",
    "        if layer_patching_results:\n",
    "            visualize_patching_heatmap(layer_patching_results, layer_idx)\n",
    "        \n",
    "        # Clear memory\n",
    "        gc.collect()\n",
    "        if torch.cuda.is_available():\n",
    "            torch.cuda.synchronize()\n",
    "            torch.cuda.empty_cache()\n",
    "    \n",
    "    # Step 7: Final visualization - averaged impact across layers\n",
    "    print(\"\\nCreating final visualizations...\")\n",
    "    visualize_averaged_impact(all_layer_results)\n",
    "    \n",
    "    # Save detailed results\n",
    "    with open('patching_results.json', 'w') as f:\n",
    "        json.dump({\n",
    "            'probe_scores': probe_scores,\n",
    "            'best_layer': best_layer,\n",
    "            'layers_evaluated': layers_to_evaluate,\n",
    "            'patching_results_by_layer': {str(k): v for k, v in all_layer_results.items()},\n",
    "            'dataset_stats': {\n",
    "                'total_items': total_items,\n",
    "                'total_matches': total_matches,\n",
    "                'match_rate': total_matches/total_items if total_items > 0 else 0\n",
    "            }\n",
    "        }, f, indent=2)\n",
    "    \n",
    "    print(\"\\nAnalysis complete! Results saved to patching_results.json and plots in interp_plots/\")\n",
    "\n",
    "if __name__ == \"__main__\":\n",
    "    main()"
   ]
  },
  {
   "cell_type": "code",
   "execution_count": null,
   "id": "1dd15f72-03fe-4608-be48-317118d11739",
   "metadata": {},
   "outputs": [],
   "source": []
  },
  {
   "cell_type": "code",
   "execution_count": null,
   "id": "00b2d218-a5a1-49f6-86a3-c383c4200ea1",
   "metadata": {},
   "outputs": [],
   "source": []
  },
  {
   "cell_type": "code",
   "execution_count": null,
   "id": "f21b616c-816e-4515-90c5-9dbc8b9395af",
   "metadata": {},
   "outputs": [],
   "source": []
  },
  {
   "cell_type": "code",
   "execution_count": null,
   "id": "0b50b491-4983-4806-bf0b-0687b22a1b48",
   "metadata": {},
   "outputs": [],
   "source": []
  },
  {
   "cell_type": "code",
   "execution_count": null,
   "id": "7b72fade-8590-4294-b2da-b559ba97dec1",
   "metadata": {},
   "outputs": [],
   "source": []
  },
  {
   "cell_type": "code",
   "execution_count": 1,
   "id": "1cbd3b66-dfac-43b7-9c22-6d27cb8a580d",
   "metadata": {},
   "outputs": [
    {
     "name": "stdout",
     "output_type": "stream",
     "text": [
      "Using device: cuda\n",
      "Loading model and tokenizer...\n"
     ]
    },
    {
     "data": {
      "application/vnd.jupyter.widget-view+json": {
       "model_id": "793bbe75930e4f02b1001660aead99bf",
       "version_major": 2,
       "version_minor": 0
      },
      "text/plain": [
       "Loading checkpoint shards:   0%|          | 0/4 [00:00<?, ?it/s]"
      ]
     },
     "metadata": {},
     "output_type": "display_data"
    },
    {
     "name": "stdout",
     "output_type": "stream",
     "text": [
      "Model has 32 layers\n",
      "Extracted 200 correct predictions\n",
      "\n",
      "Collecting hidden states for clean runs...\n",
      "\n",
      "Processing batch 1/6\n"
     ]
    },
    {
     "name": "stderr",
     "output_type": "stream",
     "text": [
      "  0%|                                                                                                                                        | 0/5 [00:00<?, ?it/s]"
     ]
    },
    {
     "name": "stdout",
     "output_type": "stream",
     "text": [
      "\n",
      "Debug - Tokenization:\n",
      "  Tokens (first 40): ['<|begin_of_text|>', 'Count', 'Ġthe', 'Ġnumber', 'Ġof', 'Ġwords', 'Ġin', 'Ġthe', 'Ġfollowing', 'Ġlist', 'Ġthat', 'Ġmatch', 'Ġthe', 'Ġgiven', 'Ġtype', ',', 'Ġand', 'Ġput', 'Ġthe', 'Ġnumerical', 'Ġanswer', 'Ġin', 'Ġparentheses', '.Ċ', 'Type', ':', 'Ġfruit', 'Ċ', 'List', ':', 'Ġ[', 'st', 'ool', ',', 'Ġbear', ',', 'Ġlion', ',', 'Ġsheep', ',']\n",
      "  Looking for items: ['stool', 'bear', 'lion', 'sheep', 'tangerine', 'peach']\n",
      "  Found positions: [31, 34, 36, 38, 40, 44]\n",
      "  Valid positions: [31, 34, 36, 38, 40, 44]\n"
     ]
    },
    {
     "name": "stderr",
     "output_type": "stream",
     "text": [
      "/tmp/ipykernel_1135184/2452627217.py:179: FutureWarning: `torch.cuda.amp.autocast(args...)` is deprecated. Please use `torch.amp.autocast('cuda', args...)` instead.\n",
      "  with torch.cuda.amp.autocast():  # Use mixed precision to save memory\n",
      " 60%|████████████████████████████████████████████████████████████████████████████▊                                                   | 3/5 [00:13<00:07,  3.51s/it]"
     ]
    },
    {
     "name": "stdout",
     "output_type": "stream",
     "text": [
      "\n",
      "Debug - Example 0:\n",
      "  Category: fruit\n",
      "  Items: ['stool', 'bear', 'lion', 'sheep', 'tangerine', 'peach']\n",
      "  Gold answer: 2\n",
      "  Actual count: 2\n",
      "  Token positions found: 6/6\n",
      "  Running counts: [0, 0, 0, 0, 1, 2]\n",
      "\n",
      "Debug - Example 1:\n",
      "  Category: furniture\n",
      "  Items: ['trumpet', 'horse', 'cabinet', 'table', 'desk', 'flute']\n",
      "  Gold answer: 3\n",
      "  Actual count: 3\n",
      "  Token positions found: 6/6\n",
      "  Running counts: [0, 0, 1, 2, 3, 3]\n",
      "\n",
      "Debug - Example 2:\n",
      "  Category: instrument\n",
      "  Items: ['scooter', 'cello', 'bear', 'apple', 'dog', 'desk', 'plane']\n",
      "  Gold answer: 1\n",
      "  Actual count: 1\n",
      "  Token positions found: 6/7\n",
      "  Running counts: [0, 1, 1, 1, 1, 1]\n"
     ]
    },
    {
     "name": "stderr",
     "output_type": "stream",
     "text": [
      "100%|████████████████████████████████████████████████████████████████████████████████████████████████████████████████████████████████| 5/5 [00:13<00:00,  2.73s/it]\n"
     ]
    },
    {
     "name": "stdout",
     "output_type": "stream",
     "text": [
      "\n",
      "Processing batch 2/6\n"
     ]
    },
    {
     "name": "stderr",
     "output_type": "stream",
     "text": [
      "100%|████████████████████████████████████████████████████████████████████████████████████████████████████████████████████████████████| 5/5 [00:00<00:00,  5.53it/s]\n"
     ]
    },
    {
     "name": "stdout",
     "output_type": "stream",
     "text": [
      "\n",
      "Processing batch 3/6\n"
     ]
    },
    {
     "name": "stderr",
     "output_type": "stream",
     "text": [
      "100%|████████████████████████████████████████████████████████████████████████████████████████████████████████████████████████████████| 5/5 [00:01<00:00,  4.86it/s]\n"
     ]
    },
    {
     "name": "stdout",
     "output_type": "stream",
     "text": [
      "\n",
      "Processing batch 4/6\n"
     ]
    },
    {
     "name": "stderr",
     "output_type": "stream",
     "text": [
      "100%|████████████████████████████████████████████████████████████████████████████████████████████████████████████████████████████████| 5/5 [00:00<00:00,  5.20it/s]\n"
     ]
    },
    {
     "name": "stdout",
     "output_type": "stream",
     "text": [
      "\n",
      "Processing batch 5/6\n"
     ]
    },
    {
     "name": "stderr",
     "output_type": "stream",
     "text": [
      "100%|████████████████████████████████████████████████████████████████████████████████████████████████████████████████████████████████| 5/5 [00:00<00:00,  5.24it/s]\n"
     ]
    },
    {
     "name": "stdout",
     "output_type": "stream",
     "text": [
      "\n",
      "Processing batch 6/6\n"
     ]
    },
    {
     "name": "stderr",
     "output_type": "stream",
     "text": [
      "100%|████████████████████████████████████████████████████████████████████████████████████████████████████████████████████████████████| 5/5 [00:00<00:00,  5.25it/s]\n"
     ]
    },
    {
     "name": "stdout",
     "output_type": "stream",
     "text": [
      "\n",
      "Dataset statistics:\n",
      "  Total items: 258\n",
      "  Total matches: 58\n",
      "  Match rate: 22.48% if total_items > 0 else 0\n"
     ]
    },
    {
     "name": "stderr",
     "output_type": "stream",
     "text": [
      "  0%|                                                                                                                                       | 0/50 [00:00<?, ?it/s]"
     ]
    },
    {
     "name": "stdout",
     "output_type": "stream",
     "text": [
      "\n",
      "Debug - Tokenization:\n",
      "  Tokens (first 40): ['<|begin_of_text|>', 'Count', 'Ġthe', 'Ġnumber', 'Ġof', 'Ġwords', 'Ġin', 'Ġthe', 'Ġfollowing', 'Ġlist', 'Ġthat', 'Ġmatch', 'Ġthe', 'Ġgiven', 'Ġtype', ',', 'Ġand', 'Ġput', 'Ġthe', 'Ġnumerical', 'Ġanswer', 'Ġin', 'Ġparentheses', '.Ċ', 'Type', ':', 'Ġfruit', 'Ċ', 'List', ':', 'Ġ[', 'st', 'ool', ',', 'Ġbear', ',', 'Ġlion', ',', 'Ġsheep', ',']\n",
      "  Looking for items: ['stool', 'bear', 'lion', 'sheep', 'tangerine', 'peach']\n",
      "  Found positions: [31, 34, 36, 38, 40, 44]\n",
      "  Valid positions: [31, 34, 36, 38, 40, 44]\n"
     ]
    },
    {
     "name": "stderr",
     "output_type": "stream",
     "text": [
      "  6%|███████▌                                                                                                                       | 3/50 [00:00<00:09,  4.92it/s]"
     ]
    },
    {
     "name": "stdout",
     "output_type": "stream",
     "text": [
      "\n",
      "Debug - Example 0:\n",
      "  Category: fruit\n",
      "  Items: ['stool', 'bear', 'lion', 'sheep', 'tangerine', 'peach']\n",
      "  Gold answer: 2\n",
      "  Actual count: 2\n",
      "  Token positions found: 6/6\n",
      "  Running counts: [0, 0, 0, 0, 1, 2]\n",
      "\n",
      "Debug - Example 1:\n",
      "  Category: furniture\n",
      "  Items: ['trumpet', 'horse', 'cabinet', 'table', 'desk', 'flute']\n",
      "  Gold answer: 3\n",
      "  Actual count: 3\n",
      "  Token positions found: 6/6\n",
      "  Running counts: [0, 0, 1, 2, 3, 3]\n",
      "\n",
      "Debug - Example 2:\n",
      "  Category: instrument\n",
      "  Items: ['scooter', 'cello', 'bear', 'apple', 'dog', 'desk', 'plane']\n",
      "  Gold answer: 1\n",
      "  Actual count: 1\n",
      "  Token positions found: 6/7\n",
      "  Running counts: [0, 1, 1, 1, 1, 1]\n"
     ]
    },
    {
     "name": "stderr",
     "output_type": "stream",
     "text": [
      "100%|██████████████████████████████████████████████████████████████████████████████████████████████████████████████████████████████| 50/50 [00:06<00:00,  8.02it/s]\n"
     ]
    },
    {
     "name": "stdout",
     "output_type": "stream",
     "text": [
      "\n",
      "Dataset statistics:\n",
      "  Total items: 706\n",
      "  Total matches: 158\n",
      "  Match rate: 22.38%\n",
      "\n",
      "Training probes at each layer...\n"
     ]
    },
    {
     "name": "stderr",
     "output_type": "stream",
     "text": [
      "  0%|                                                                                                                                       | 0/32 [00:00<?, ?it/s]"
     ]
    },
    {
     "name": "stdout",
     "output_type": "stream",
     "text": [
      "\n",
      "Debug - Prompt 0:\n",
      "  Running counts: [0, 0, 0, 0, 1, 2]\n",
      "  Token positions: [31, 34, 36, 38, 40, 44]\n",
      "  Hidden states shape: torch.Size([1, 49, 4096])\n",
      "\n",
      "Debug - Training data for layer 0:\n",
      "  X shape: (426, 4096)\n",
      "  y shape: (426,)\n",
      "  y unique values: [0 1 2 3]\n",
      "  y mean: 1.002, std: 0.879\n"
     ]
    },
    {
     "name": "stderr",
     "output_type": "stream",
     "text": [
      "  3%|███▉                                                                                                                           | 1/32 [00:00<00:26,  1.18it/s]"
     ]
    },
    {
     "name": "stdout",
     "output_type": "stream",
     "text": [
      "  Best alpha: 0.1\n",
      "  CV score: 0.2070\n",
      "  Test R² score: 0.3233\n",
      "Layer 0: R² score = 0.3233\n"
     ]
    },
    {
     "name": "stderr",
     "output_type": "stream",
     "text": [
      "  6%|███████▉                                                                                                                       | 2/32 [00:01<00:25,  1.16it/s]"
     ]
    },
    {
     "name": "stdout",
     "output_type": "stream",
     "text": [
      "Layer 1: R² score = 0.3590\n"
     ]
    },
    {
     "name": "stderr",
     "output_type": "stream",
     "text": [
      "  9%|███████████▉                                                                                                                   | 3/32 [00:02<00:24,  1.17it/s]"
     ]
    },
    {
     "name": "stdout",
     "output_type": "stream",
     "text": [
      "Layer 2: R² score = 0.3854\n"
     ]
    },
    {
     "name": "stderr",
     "output_type": "stream",
     "text": [
      " 12%|███████████████▉                                                                                                               | 4/32 [00:03<00:23,  1.18it/s]"
     ]
    },
    {
     "name": "stdout",
     "output_type": "stream",
     "text": [
      "Layer 3: R² score = 0.4354\n"
     ]
    },
    {
     "name": "stderr",
     "output_type": "stream",
     "text": [
      " 16%|███████████████████▊                                                                                                           | 5/32 [00:04<00:22,  1.18it/s]"
     ]
    },
    {
     "name": "stdout",
     "output_type": "stream",
     "text": [
      "Layer 4: R² score = 0.4618\n"
     ]
    },
    {
     "name": "stderr",
     "output_type": "stream",
     "text": [
      " 19%|███████████████████████▊                                                                                                       | 6/32 [00:05<00:22,  1.18it/s]"
     ]
    },
    {
     "name": "stdout",
     "output_type": "stream",
     "text": [
      "Layer 5: R² score = 0.4611\n"
     ]
    },
    {
     "name": "stderr",
     "output_type": "stream",
     "text": [
      " 22%|███████████████████████████▊                                                                                                   | 7/32 [00:05<00:21,  1.19it/s]"
     ]
    },
    {
     "name": "stdout",
     "output_type": "stream",
     "text": [
      "Layer 6: R² score = 0.5051\n"
     ]
    },
    {
     "name": "stderr",
     "output_type": "stream",
     "text": [
      " 25%|███████████████████████████████▊                                                                                               | 8/32 [00:06<00:20,  1.19it/s]"
     ]
    },
    {
     "name": "stdout",
     "output_type": "stream",
     "text": [
      "Layer 7: R² score = 0.4991\n"
     ]
    },
    {
     "name": "stderr",
     "output_type": "stream",
     "text": [
      " 28%|███████████████████████████████████▋                                                                                           | 9/32 [00:07<00:19,  1.17it/s]"
     ]
    },
    {
     "name": "stdout",
     "output_type": "stream",
     "text": [
      "Layer 8: R² score = 0.4966\n"
     ]
    },
    {
     "name": "stderr",
     "output_type": "stream",
     "text": [
      " 31%|███████████████████████████████████████▍                                                                                      | 10/32 [00:08<00:18,  1.17it/s]"
     ]
    },
    {
     "name": "stdout",
     "output_type": "stream",
     "text": [
      "Layer 9: R² score = 0.6084\n"
     ]
    },
    {
     "name": "stderr",
     "output_type": "stream",
     "text": [
      " 34%|███████████████████████████████████████████▎                                                                                  | 11/32 [00:09<00:18,  1.16it/s]"
     ]
    },
    {
     "name": "stdout",
     "output_type": "stream",
     "text": [
      "Layer 10: R² score = 0.6472\n"
     ]
    },
    {
     "name": "stderr",
     "output_type": "stream",
     "text": [
      " 38%|███████████████████████████████████████████████▎                                                                              | 12/32 [00:10<00:17,  1.15it/s]"
     ]
    },
    {
     "name": "stdout",
     "output_type": "stream",
     "text": [
      "Layer 11: R² score = 0.6817\n"
     ]
    },
    {
     "name": "stderr",
     "output_type": "stream",
     "text": [
      " 41%|███████████████████████████████████████████████████▏                                                                          | 13/32 [00:11<00:16,  1.16it/s]"
     ]
    },
    {
     "name": "stdout",
     "output_type": "stream",
     "text": [
      "Layer 12: R² score = 0.7641\n"
     ]
    },
    {
     "name": "stderr",
     "output_type": "stream",
     "text": [
      " 44%|███████████████████████████████████████████████████████▏                                                                      | 14/32 [00:11<00:15,  1.16it/s]"
     ]
    },
    {
     "name": "stdout",
     "output_type": "stream",
     "text": [
      "Layer 13: R² score = 0.7542\n"
     ]
    },
    {
     "name": "stderr",
     "output_type": "stream",
     "text": [
      " 47%|███████████████████████████████████████████████████████████                                                                   | 15/32 [00:12<00:14,  1.15it/s]"
     ]
    },
    {
     "name": "stdout",
     "output_type": "stream",
     "text": [
      "Layer 14: R² score = 0.7504\n"
     ]
    },
    {
     "name": "stderr",
     "output_type": "stream",
     "text": [
      " 50%|███████████████████████████████████████████████████████████████                                                               | 16/32 [00:13<00:13,  1.16it/s]"
     ]
    },
    {
     "name": "stdout",
     "output_type": "stream",
     "text": [
      "Layer 15: R² score = 0.7487\n"
     ]
    },
    {
     "name": "stderr",
     "output_type": "stream",
     "text": [
      " 53%|██████████████████████████████████████████████████████████████████▉                                                           | 17/32 [00:14<00:12,  1.16it/s]"
     ]
    },
    {
     "name": "stdout",
     "output_type": "stream",
     "text": [
      "Layer 16: R² score = 0.7346\n"
     ]
    },
    {
     "name": "stderr",
     "output_type": "stream",
     "text": [
      " 56%|██████████████████████████████████████████████████████████████████████▉                                                       | 18/32 [00:15<00:12,  1.15it/s]"
     ]
    },
    {
     "name": "stdout",
     "output_type": "stream",
     "text": [
      "Layer 17: R² score = 0.7185\n"
     ]
    },
    {
     "name": "stderr",
     "output_type": "stream",
     "text": [
      " 59%|██████████████████████████████████████████████████████████████████████████▊                                                   | 19/32 [00:16<00:11,  1.14it/s]"
     ]
    },
    {
     "name": "stdout",
     "output_type": "stream",
     "text": [
      "Layer 18: R² score = 0.7066\n"
     ]
    },
    {
     "name": "stderr",
     "output_type": "stream",
     "text": [
      " 62%|██████████████████████████████████████████████████████████████████████████████▊                                               | 20/32 [00:17<00:10,  1.14it/s]"
     ]
    },
    {
     "name": "stdout",
     "output_type": "stream",
     "text": [
      "Layer 19: R² score = 0.6917\n"
     ]
    },
    {
     "name": "stderr",
     "output_type": "stream",
     "text": [
      " 66%|██████████████████████████████████████████████████████████████████████████████████▋                                           | 21/32 [00:18<00:09,  1.13it/s]"
     ]
    },
    {
     "name": "stdout",
     "output_type": "stream",
     "text": [
      "Layer 20: R² score = 0.6828\n"
     ]
    },
    {
     "name": "stderr",
     "output_type": "stream",
     "text": [
      " 69%|██████████████████████████████████████████████████████████████████████████████████████▋                                       | 22/32 [00:19<00:08,  1.13it/s]"
     ]
    },
    {
     "name": "stdout",
     "output_type": "stream",
     "text": [
      "Layer 21: R² score = 0.6837\n"
     ]
    },
    {
     "name": "stderr",
     "output_type": "stream",
     "text": [
      " 72%|██████████████████████████████████████████████████████████████████████████████████████████▌                                   | 23/32 [00:19<00:07,  1.13it/s]"
     ]
    },
    {
     "name": "stdout",
     "output_type": "stream",
     "text": [
      "Layer 22: R² score = 0.6541\n"
     ]
    },
    {
     "name": "stderr",
     "output_type": "stream",
     "text": [
      " 75%|██████████████████████████████████████████████████████████████████████████████████████████████▌                               | 24/32 [00:20<00:07,  1.14it/s]"
     ]
    },
    {
     "name": "stdout",
     "output_type": "stream",
     "text": [
      "Layer 23: R² score = 0.6543\n"
     ]
    },
    {
     "name": "stderr",
     "output_type": "stream",
     "text": [
      " 78%|██████████████████████████████████████████████████████████████████████████████████████████████████▍                           | 25/32 [00:21<00:06,  1.15it/s]"
     ]
    },
    {
     "name": "stdout",
     "output_type": "stream",
     "text": [
      "Layer 24: R² score = 0.6538\n"
     ]
    },
    {
     "name": "stderr",
     "output_type": "stream",
     "text": [
      " 81%|██████████████████████████████████████████████████████████████████████████████████████████████████████▍                       | 26/32 [00:22<00:05,  1.15it/s]"
     ]
    },
    {
     "name": "stdout",
     "output_type": "stream",
     "text": [
      "Layer 25: R² score = 0.6622\n"
     ]
    },
    {
     "name": "stderr",
     "output_type": "stream",
     "text": [
      " 84%|██████████████████████████████████████████████████████████████████████████████████████████████████████████▎                   | 27/32 [00:23<00:04,  1.13it/s]"
     ]
    },
    {
     "name": "stdout",
     "output_type": "stream",
     "text": [
      "Layer 26: R² score = 0.6584\n"
     ]
    },
    {
     "name": "stderr",
     "output_type": "stream",
     "text": [
      " 88%|██████████████████████████████████████████████████████████████████████████████████████████████████████████████▎               | 28/32 [00:24<00:03,  1.13it/s]"
     ]
    },
    {
     "name": "stdout",
     "output_type": "stream",
     "text": [
      "Layer 27: R² score = 0.6497\n"
     ]
    },
    {
     "name": "stderr",
     "output_type": "stream",
     "text": [
      " 91%|██████████████████████████████████████████████████████████████████████████████████████████████████████████████████▏           | 29/32 [00:25<00:02,  1.13it/s]"
     ]
    },
    {
     "name": "stdout",
     "output_type": "stream",
     "text": [
      "Layer 28: R² score = 0.6671\n"
     ]
    },
    {
     "name": "stderr",
     "output_type": "stream",
     "text": [
      " 94%|██████████████████████████████████████████████████████████████████████████████████████████████████████████████████████▏       | 30/32 [00:26<00:01,  1.14it/s]"
     ]
    },
    {
     "name": "stdout",
     "output_type": "stream",
     "text": [
      "Layer 29: R² score = 0.6684\n"
     ]
    },
    {
     "name": "stderr",
     "output_type": "stream",
     "text": [
      " 97%|██████████████████████████████████████████████████████████████████████████████████████████████████████████████████████████    | 31/32 [00:26<00:00,  1.14it/s]"
     ]
    },
    {
     "name": "stdout",
     "output_type": "stream",
     "text": [
      "Layer 30: R² score = 0.6757\n"
     ]
    },
    {
     "name": "stderr",
     "output_type": "stream",
     "text": [
      "100%|██████████████████████████████████████████████████████████████████████████████████████████████████████████████████████████████| 32/32 [00:27<00:00,  1.15it/s]\n"
     ]
    },
    {
     "name": "stdout",
     "output_type": "stream",
     "text": [
      "Layer 31: R² score = 0.5981\n",
      "\n",
      "Best layer for count tracking: Layer 12 (R² = 0.7641)\n",
      "\n",
      "Patching and evaluating...\n"
     ]
    },
    {
     "name": "stderr",
     "output_type": "stream",
     "text": [
      "  0%|                                                                                                                                       | 0/10 [00:00<?, ?it/s]"
     ]
    },
    {
     "name": "stdout",
     "output_type": "stream",
     "text": [
      "\n",
      "Debug - Tokenization:\n",
      "  Tokens (first 40): ['<|begin_of_text|>', 'Count', 'Ġthe', 'Ġnumber', 'Ġof', 'Ġwords', 'Ġin', 'Ġthe', 'Ġfollowing', 'Ġlist', 'Ġthat', 'Ġmatch', 'Ġthe', 'Ġgiven', 'Ġtype', ',', 'Ġand', 'Ġput', 'Ġthe', 'Ġnumerical', 'Ġanswer', 'Ġin', 'Ġparentheses', '.Ċ', 'Type', ':', 'Ġfruit', 'Ċ', 'List', ':', 'Ġ[', 'st', 'ool', ',', 'Ġbear', ',', 'Ġlion', ',', 'Ġsheep', ',']\n",
      "  Looking for items: ['stool', 'bear', 'lion', 'sheep', 'tangerine', 'peach']\n",
      "  Found positions: [31, 34, 36, 38, 40, 44]\n",
      "  Valid positions: [31, 34, 36, 38, 40, 44]\n"
     ]
    },
    {
     "name": "stderr",
     "output_type": "stream",
     "text": [
      "/tmp/ipykernel_1135184/2452627217.py:179: FutureWarning: `torch.cuda.amp.autocast(args...)` is deprecated. Please use `torch.amp.autocast('cuda', args...)` instead.\n",
      "  with torch.cuda.amp.autocast():  # Use mixed precision to save memory\n",
      "/net/scratch/slhleosun/miniconda3/envs/fixed_ai_env/lib/python3.11/site-packages/transformers/generation/configuration_utils.py:628: UserWarning: `do_sample` is set to `False`. However, `temperature` is set to `0.6` -- this flag is only used in sample-based generation modes. You should set `do_sample=True` or unset `temperature`.\n",
      "  warnings.warn(\n",
      "/net/scratch/slhleosun/miniconda3/envs/fixed_ai_env/lib/python3.11/site-packages/transformers/generation/configuration_utils.py:633: UserWarning: `do_sample` is set to `False`. However, `top_p` is set to `0.9` -- this flag is only used in sample-based generation modes. You should set `do_sample=True` or unset `top_p`.\n",
      "  warnings.warn(\n",
      "100%|██████████████████████████████████████████████████████████████████████████████████████████████████████████████████████████████| 10/10 [00:15<00:00,  1.57s/it]\n"
     ]
    },
    {
     "name": "stdout",
     "output_type": "stream",
     "text": [
      "\n",
      "Creating visualization...\n",
      "\n",
      "Analysis complete! Results saved to patching_results.json and patching_heatmap.png\n"
     ]
    }
   ],
   "source": [
    "import json\n",
    "import torch\n",
    "import numpy as np\n",
    "from transformers import AutoModelForCausalLM, AutoTokenizer\n",
    "from sklearn.linear_model import Ridge\n",
    "from sklearn.metrics import r2_score\n",
    "import matplotlib.pyplot as plt\n",
    "import seaborn as sns\n",
    "from tqdm import tqdm\n",
    "import random\n",
    "import re\n",
    "import os\n",
    "from collections import defaultdict\n",
    "import gc\n",
    "\n",
    "# Set device\n",
    "device = torch.device(\"cuda\" if torch.cuda.is_available() else \"cpu\")\n",
    "print(f\"Using device: {device}\")\n",
    "\n",
    "# Initialize model and tokenizer\n",
    "MODEL_NAME = \"meta-llama/Meta-Llama-3-8B-Instruct\"\n",
    "print(\"Loading model and tokenizer...\")\n",
    "tokenizer = AutoTokenizer.from_pretrained(MODEL_NAME)\n",
    "tokenizer.pad_token = tokenizer.eos_token\n",
    "model = AutoModelForCausalLM.from_pretrained(\n",
    "    MODEL_NAME,\n",
    "    torch_dtype=torch.float16,  # Use float16 to save memory\n",
    "    device_map=\"auto\"  # Automatically distribute across GPUs\n",
    ")\n",
    "model.eval()\n",
    "\n",
    "# Get model config\n",
    "num_layers = model.config.num_hidden_layers\n",
    "print(f\"Model has {num_layers} layers\")\n",
    "\n",
    "def extract_correct_predictions(input_file, output_file, num_samples=200):\n",
    "    \"\"\"Extract prompts where pred == gold\"\"\"\n",
    "    correct_prompts = []\n",
    "    \n",
    "    with open(input_file, 'r') as f:\n",
    "        for line in f:\n",
    "            data = json.loads(line)\n",
    "            if data['pred'] == data['gold']:\n",
    "                correct_prompts.append(data)\n",
    "                if len(correct_prompts) >= num_samples:\n",
    "                    break\n",
    "    \n",
    "    # Save to new file\n",
    "    with open(output_file, 'w') as f:\n",
    "        for prompt_data in correct_prompts:\n",
    "            f.write(json.dumps(prompt_data) + '\\n')\n",
    "    \n",
    "    print(f\"Extracted {len(correct_prompts)} correct predictions\")\n",
    "    return correct_prompts\n",
    "\n",
    "def parse_prompt(prompt):\n",
    "    \"\"\"Extract category type and list items from prompt\"\"\"\n",
    "    type_match = re.search(r'Type: (\\w+)', prompt)\n",
    "    list_match = re.search(r'List: \\[(.*?)\\]', prompt)\n",
    "    \n",
    "    if not type_match or not list_match:\n",
    "        raise ValueError(\"Could not parse prompt\")\n",
    "    \n",
    "    category = type_match.group(1)\n",
    "    items = [item.strip() for item in list_match.group(1).split(',')]\n",
    "    \n",
    "    return category, items\n",
    "\n",
    "def get_token_positions_for_items(tokenizer, prompt, items):\n",
    "    \"\"\"Map each list item to its token position in the prompt\"\"\"\n",
    "    # Tokenize the full prompt\n",
    "    encoding = tokenizer(prompt, return_tensors=\"pt\")\n",
    "    tokens = tokenizer.convert_ids_to_tokens(encoding.input_ids[0])\n",
    "    \n",
    "    # Debug: print tokens for first example\n",
    "    if items[0] == 'stool':  # First example\n",
    "        print(f\"\\nDebug - Tokenization:\")\n",
    "        print(f\"  Tokens (first 40): {tokens[:40]}\")\n",
    "        print(f\"  Looking for items: {items}\")\n",
    "    \n",
    "    # Find positions of list items\n",
    "    item_positions = []\n",
    "    \n",
    "    for item in items:\n",
    "        # Try to find the item in the token sequence\n",
    "        item_lower = item.lower()\n",
    "        found = False\n",
    "        \n",
    "        # Look for exact match first\n",
    "        for i, token in enumerate(tokens):\n",
    "            # Remove special tokens markers\n",
    "            clean_token = token.replace('Ġ', '').replace('▁', '').lower()\n",
    "            \n",
    "            if clean_token == item_lower:\n",
    "                item_positions.append(i)\n",
    "                found = True\n",
    "                break\n",
    "        \n",
    "        # If not found, look for partial matches (item might be split across tokens)\n",
    "        if not found:\n",
    "            # Tokenize the item separately\n",
    "            item_tokens = tokenizer.tokenize(item)\n",
    "            item_tokens_clean = [t.replace('Ġ', '').replace('▁', '').lower() for t in item_tokens]\n",
    "            \n",
    "            # Look for sequence of tokens\n",
    "            for i in range(len(tokens) - len(item_tokens) + 1):\n",
    "                tokens_slice = [tokens[j].replace('Ġ', '').replace('▁', '').lower() \n",
    "                               for j in range(i, i + len(item_tokens))]\n",
    "                if tokens_slice == item_tokens_clean:\n",
    "                    item_positions.append(i)\n",
    "                    found = True\n",
    "                    break\n",
    "        \n",
    "        # If still not found, append -1 as placeholder\n",
    "        if not found:\n",
    "            item_positions.append(-1)\n",
    "    \n",
    "    # Filter out -1 values\n",
    "    valid_positions = [pos for pos in item_positions if pos != -1]\n",
    "    \n",
    "    if items[0] == 'stool':  # Debug first example\n",
    "        print(f\"  Found positions: {item_positions}\")\n",
    "        print(f\"  Valid positions: {valid_positions}\")\n",
    "    \n",
    "    return valid_positions\n",
    "\n",
    "def count_category_matches(items, category):\n",
    "    \"\"\"Count how many items match the category\"\"\"\n",
    "    # This is a simplified version - in practice you'd need a proper categorization function\n",
    "    # For now, we'll use the ground truth from the data\n",
    "    return sum(1 for item in items if is_category_match(item, category))\n",
    "\n",
    "def is_category_match(item, category):\n",
    "    \"\"\"Check if an item belongs to a category\"\"\"\n",
    "    CATEGORY_ITEMS = {\n",
    "        \"fruit\": [\n",
    "            \"apple\", \"banana\", \"cherry\", \"grape\", \"orange\",\n",
    "            \"pear\", \"peach\", \"mango\", \"tangerine\", \"plum\"\n",
    "        ],\n",
    "        \"animal\": [\n",
    "            \"dog\", \"cat\", \"horse\", \"cow\", \"sheep\",\n",
    "            \"lion\", \"tiger\", \"bear\", \"rabbit\", \"fox\"\n",
    "        ],\n",
    "        \"vehicle\": [\n",
    "            \"car\", \"bus\", \"truck\", \"bicycle\", \"motorcycle\",\n",
    "            \"train\", \"boat\", \"plane\", \"scooter\", \"van\"\n",
    "        ],\n",
    "        \"instrument\": [           \n",
    "            \"guitar\", \"piano\", \"violin\", \"drum\", \"flute\",\n",
    "            \"trumpet\", \"saxophone\", \"cello\", \"clarinet\", \"harp\"\n",
    "        ],\n",
    "        \"furniture\": [            \n",
    "            \"chair\", \"table\", \"sofa\", \"bed\", \"desk\",\n",
    "            \"cabinet\", \"dresser\", \"stool\", \"wardrobe\", \"bookshelf\"\n",
    "        ],\n",
    "    }\n",
    "    \n",
    "    return item.lower() in CATEGORY_ITEMS.get(category.lower(), [])\n",
    "\n",
    "def get_hidden_states_with_hook(model, input_ids):\n",
    "    \"\"\"Get hidden states for all layers using hooks\"\"\"\n",
    "    hidden_states = {}\n",
    "    \n",
    "    def hook_fn(name):\n",
    "        def hook(module, input, output):\n",
    "            # Store the hidden states, move to CPU immediately to save GPU memory\n",
    "            hidden_states[name] = output[0].detach().cpu()\n",
    "        return hook\n",
    "    \n",
    "    # Register hooks\n",
    "    hooks = []\n",
    "    for i in range(num_layers):\n",
    "        layer = model.model.layers[i]\n",
    "        hook = layer.register_forward_hook(hook_fn(f\"layer_{i}\"))\n",
    "        hooks.append(hook)\n",
    "    \n",
    "    # Forward pass\n",
    "    with torch.no_grad():\n",
    "        with torch.cuda.amp.autocast():  # Use mixed precision to save memory\n",
    "            outputs = model(input_ids)\n",
    "    \n",
    "    # Remove hooks\n",
    "    for hook in hooks:\n",
    "        hook.remove()\n",
    "    \n",
    "    return hidden_states\n",
    "\n",
    "def create_prefix_permuted_prompt(prompt, items, k):\n",
    "    \"\"\"Create a prompt with the first k+1 items shuffled\"\"\"\n",
    "    # Shuffle first k+1 items\n",
    "    prefix = items[:k+1].copy()\n",
    "    random.shuffle(prefix)\n",
    "    \n",
    "    # Combine with rest of list\n",
    "    permuted_items = prefix + items[k+1:]\n",
    "    \n",
    "    # Reconstruct prompt\n",
    "    list_str = ', '.join(permuted_items)\n",
    "    permuted_prompt = re.sub(r'List: \\[.*?\\]', f'List: [{list_str}]', prompt)\n",
    "    \n",
    "    return permuted_prompt, permuted_items\n",
    "\n",
    "def compute_running_counts(items, category):\n",
    "    \"\"\"Compute running count of category matches at each position\"\"\"\n",
    "    running_counts = []\n",
    "    count = 0\n",
    "    for i, item in enumerate(items):\n",
    "        if is_category_match(item, category):\n",
    "            count += 1\n",
    "        running_counts.append(count)\n",
    "    return running_counts\n",
    "\n",
    "def get_cumulative_counts_up_to_position(items, category, positions):\n",
    "    \"\"\"Get the cumulative count up to each token position\"\"\"\n",
    "    # This function returns the count of category items seen up to each token position\n",
    "    cumulative_counts = []\n",
    "    \n",
    "    for pos_idx, token_pos in enumerate(positions):\n",
    "        # Count how many category items we've seen up to this position\n",
    "        count = 0\n",
    "        for i in range(pos_idx + 1):  # Include current position\n",
    "            if i < len(items) and is_category_match(items[i], category):\n",
    "                count += 1\n",
    "        cumulative_counts.append(count)\n",
    "    \n",
    "    return cumulative_counts\n",
    "\n",
    "def train_probes(hidden_states_dict, running_counts_dict, token_positions_dict, layer_idx):\n",
    "    \"\"\"Train linear probes to predict running counts from hidden states\"\"\"\n",
    "    X_all = []\n",
    "    y_all = []\n",
    "    \n",
    "    for prompt_idx, hidden_states in hidden_states_dict.items():\n",
    "        running_counts = running_counts_dict[prompt_idx]\n",
    "        token_positions = token_positions_dict[prompt_idx]\n",
    "        \n",
    "        # Debug: print sample data\n",
    "        if prompt_idx == 0 and layer_idx == 0:\n",
    "            print(f\"\\nDebug - Prompt {prompt_idx}:\")\n",
    "            print(f\"  Running counts: {running_counts}\")\n",
    "            print(f\"  Token positions: {token_positions}\")\n",
    "            print(f\"  Hidden states shape: {hidden_states.shape}\")\n",
    "        \n",
    "        # For each list item and its corresponding token position\n",
    "        for i, (count, token_pos) in enumerate(zip(running_counts, token_positions)):\n",
    "            if token_pos < hidden_states.shape[1]:  # Ensure we're within bounds\n",
    "                # Use the hidden state at this token position\n",
    "                hidden_state = hidden_states[0, token_pos].numpy()\n",
    "                X_all.append(hidden_state)\n",
    "                y_all.append(count)\n",
    "    \n",
    "    if len(X_all) == 0:\n",
    "        return None, 0.0\n",
    "    \n",
    "    X_all = np.array(X_all)\n",
    "    y_all = np.array(y_all)\n",
    "    \n",
    "    # Debug: print training data info\n",
    "    if layer_idx == 0:\n",
    "        print(f\"\\nDebug - Training data for layer {layer_idx}:\")\n",
    "        print(f\"  X shape: {X_all.shape}\")\n",
    "        print(f\"  y shape: {y_all.shape}\")\n",
    "        print(f\"  y unique values: {np.unique(y_all)}\")\n",
    "        print(f\"  y mean: {np.mean(y_all):.3f}, std: {np.std(y_all):.3f}\")\n",
    "    \n",
    "    # Split data for proper evaluation\n",
    "    from sklearn.model_selection import train_test_split\n",
    "    if len(X_all) > 20:  # Only split if we have enough data\n",
    "        X_train, X_test, y_train, y_test = train_test_split(\n",
    "            X_all, y_all, test_size=0.2, random_state=42\n",
    "        )\n",
    "    else:\n",
    "        X_train, X_test = X_all, X_all\n",
    "        y_train, y_test = y_all, y_all\n",
    "    \n",
    "    # Train Ridge regression with cross-validation\n",
    "    from sklearn.model_selection import cross_val_score\n",
    "    alphas = [0.01, 0.1, 1.0, 10.0, 100.0]\n",
    "    best_alpha = 1.0\n",
    "    best_cv_score = -float('inf')\n",
    "    \n",
    "    for alpha in alphas:\n",
    "        probe = Ridge(alpha=alpha)\n",
    "        cv_scores = cross_val_score(probe, X_train, y_train, cv=3, scoring='r2')\n",
    "        mean_cv_score = np.mean(cv_scores)\n",
    "        if mean_cv_score > best_cv_score:\n",
    "            best_cv_score = mean_cv_score\n",
    "            best_alpha = alpha\n",
    "    \n",
    "    # Train final model with best alpha\n",
    "    probe = Ridge(alpha=best_alpha)\n",
    "    probe.fit(X_train, y_train)\n",
    "    \n",
    "    # Evaluate on test set\n",
    "    y_pred = probe.predict(X_test)\n",
    "    score = r2_score(y_test, y_pred)\n",
    "    \n",
    "    # Additional debug for first layer\n",
    "    if layer_idx == 0:\n",
    "        print(f\"  Best alpha: {best_alpha}\")\n",
    "        print(f\"  CV score: {best_cv_score:.4f}\")\n",
    "        print(f\"  Test R² score: {score:.4f}\")\n",
    "    \n",
    "    return probe, score\n",
    "\n",
    "def patch_and_evaluate(model, tokenizer, prompt_data, best_layer, probes):\n",
    "    \"\"\"Patch hidden states and evaluate impact on final answer\"\"\"\n",
    "    prompt = prompt_data['prompt']\n",
    "    gold_answer = prompt_data['gold']\n",
    "    category, items = parse_prompt(prompt)\n",
    "    \n",
    "    # Get token positions for list items\n",
    "    token_positions = get_token_positions_for_items(tokenizer, prompt, items)\n",
    "    \n",
    "    # Tokenize original prompt\n",
    "    inputs = tokenizer(prompt, return_tensors=\"pt\", padding=True).to(device)\n",
    "    \n",
    "    # Get clean run hidden states\n",
    "    clean_hidden_states = get_hidden_states_with_hook(model, inputs.input_ids)\n",
    "    \n",
    "    patching_results = []\n",
    "    \n",
    "    for k in range(min(len(items) - 1, len(token_positions) - 1)):  # For each prefix position\n",
    "        # Create prefix-permuted version\n",
    "        permuted_prompt, permuted_items = create_prefix_permuted_prompt(prompt, items, k)\n",
    "        permuted_count = count_category_matches(permuted_items, category)\n",
    "        \n",
    "        # Get counterfactual hidden states\n",
    "        permuted_inputs = tokenizer(permuted_prompt, return_tensors=\"pt\", padding=True).to(device)\n",
    "        \n",
    "        # Ensure both sequences have the same length\n",
    "        if permuted_inputs.input_ids.shape[1] != inputs.input_ids.shape[1]:\n",
    "            continue\n",
    "            \n",
    "        counterfactual_hidden_states = get_hidden_states_with_hook(model, permuted_inputs.input_ids)\n",
    "        \n",
    "        # Get the token position for item k\n",
    "        if k >= len(token_positions):\n",
    "            continue\n",
    "        token_pos = token_positions[k]\n",
    "        \n",
    "        # Check if token position is valid\n",
    "        if token_pos >= clean_hidden_states[f\"layer_{best_layer}\"].shape[1]:\n",
    "            continue\n",
    "        \n",
    "        # Patch at best layer, token position for item k\n",
    "        def patching_hook(module, input, output):\n",
    "            # Replace hidden state at token position with counterfactual\n",
    "            hidden_states = output[0]\n",
    "            if token_pos < hidden_states.shape[1]:\n",
    "                hidden_states[:, token_pos] = counterfactual_hidden_states[f\"layer_{best_layer}\"][:, token_pos].to(device)\n",
    "            return (hidden_states,) + output[1:]\n",
    "        \n",
    "        # Register patching hook\n",
    "        hook = model.model.layers[best_layer].register_forward_hook(patching_hook)\n",
    "        \n",
    "        # Run patched forward pass\n",
    "        with torch.no_grad():\n",
    "            outputs = model.generate(\n",
    "                inputs.input_ids,\n",
    "                max_new_tokens=10,\n",
    "                do_sample=False,\n",
    "                pad_token_id=tokenizer.eos_token_id,\n",
    "                attention_mask=inputs.attention_mask\n",
    "            )\n",
    "        \n",
    "        # Remove hook\n",
    "        hook.remove()\n",
    "        \n",
    "        # Extract predicted number\n",
    "        generated_text = tokenizer.decode(outputs[0], skip_special_tokens=True)\n",
    "        pred_match = re.search(r'\\((\\d+)\\)', generated_text)\n",
    "        if pred_match:\n",
    "            patched_pred = int(pred_match.group(1))\n",
    "        else:\n",
    "            patched_pred = -1\n",
    "        \n",
    "        patching_results.append({\n",
    "            'position': k,\n",
    "            'token_position': token_pos,\n",
    "            'original_answer': gold_answer,\n",
    "            'permuted_answer': permuted_count,\n",
    "            'patched_prediction': patched_pred,\n",
    "            'shifted_correctly': patched_pred == permuted_count\n",
    "        })\n",
    "    \n",
    "    return patching_results\n",
    "\n",
    "def main():\n",
    "    # Set CUDA environment for better debugging\n",
    "    os.environ['CUDA_LAUNCH_BLOCKING'] = '1'\n",
    "    \n",
    "    # Step 1: Extract correct predictions\n",
    "    input_file = \"/net/scratch/slhleosun/counting_items/behavioral_results/llama3-8b-inst/predictions.jsonl\"\n",
    "    output_file = \"correct_predictions.jsonl\"\n",
    "    correct_prompts = extract_correct_predictions(input_file, output_file)\n",
    "    \n",
    "    # Step 2 & 3: Run clean and counterfactual runs, collect hidden states\n",
    "    print(\"\\nCollecting hidden states for clean runs...\")\n",
    "    clean_hidden_states = {}\n",
    "    running_counts_all = {}\n",
    "    token_positions_all = {}\n",
    "    \n",
    "    # Also collect some statistics\n",
    "    total_items = 0\n",
    "    total_matches = 0\n",
    "    \n",
    "    # Process in smaller batches to avoid memory issues\n",
    "    batch_size = 5\n",
    "    num_samples = 30  # Reduced from 50 to avoid memory issues\n",
    "    \n",
    "    for batch_start in range(0, min(num_samples, len(correct_prompts)), batch_size):\n",
    "        batch_end = min(batch_start + batch_size, num_samples, len(correct_prompts))\n",
    "        print(f\"\\nProcessing batch {batch_start//batch_size + 1}/{(num_samples + batch_size - 1)//batch_size}\")\n",
    "        \n",
    "        for idx in tqdm(range(batch_start, batch_end)):\n",
    "            prompt_data = correct_prompts[idx]\n",
    "            prompt = prompt_data['prompt']\n",
    "            \n",
    "            try:\n",
    "                category, items = parse_prompt(prompt)\n",
    "                \n",
    "                # Get token positions for list items\n",
    "                token_positions = get_token_positions_for_items(tokenizer, prompt, items)\n",
    "                \n",
    "                # Skip if we couldn't find enough token positions\n",
    "                if len(token_positions) < len(items) * 0.5:  # If we found less than half\n",
    "                    print(f\"\\nWarning: Could only find {len(token_positions)}/{len(items)} items in prompt {idx}\")\n",
    "                    continue\n",
    "                    \n",
    "                token_positions_all[idx] = token_positions\n",
    "                \n",
    "                # Tokenize\n",
    "                inputs = tokenizer(prompt, return_tensors=\"pt\", padding=True).to(device)\n",
    "                \n",
    "                # Get hidden states\n",
    "                hidden_states = get_hidden_states_with_hook(model, inputs.input_ids)\n",
    "                \n",
    "                # Store hidden states for each layer\n",
    "                for layer_idx in range(num_layers):\n",
    "                    if layer_idx not in clean_hidden_states:\n",
    "                        clean_hidden_states[layer_idx] = {}\n",
    "                    clean_hidden_states[layer_idx][idx] = hidden_states[f\"layer_{layer_idx}\"]\n",
    "                \n",
    "                # Compute cumulative counts at each token position\n",
    "                running_counts = get_cumulative_counts_up_to_position(items, category, token_positions)\n",
    "                running_counts_all[idx] = running_counts\n",
    "                \n",
    "                # Collect statistics\n",
    "                total_items += len(items)\n",
    "                final_count = count_category_matches(items, category)\n",
    "                total_matches += final_count\n",
    "                \n",
    "                # Debug first few examples\n",
    "                if idx < 3:\n",
    "                    print(f\"\\nDebug - Example {idx}:\")\n",
    "                    print(f\"  Category: {category}\")\n",
    "                    print(f\"  Items: {items}\")\n",
    "                    print(f\"  Gold answer: {prompt_data['gold']}\")\n",
    "                    print(f\"  Actual count: {final_count}\")\n",
    "                    print(f\"  Token positions found: {len(token_positions)}/{len(items)}\")\n",
    "                    print(f\"  Running counts: {running_counts}\")\n",
    "                \n",
    "                # Clean up\n",
    "                del inputs\n",
    "                del hidden_states\n",
    "                \n",
    "            except Exception as e:\n",
    "                print(f\"Error processing prompt {idx}: {e}\")\n",
    "                continue\n",
    "        \n",
    "        # Clear GPU memory after each batch\n",
    "        gc.collect()\n",
    "        if torch.cuda.is_available():\n",
    "            torch.cuda.synchronize()\n",
    "            torch.cuda.empty_cache()\n",
    "    \n",
    "    print(f\"\\nDataset statistics:\")\n",
    "    print(f\"  Total items: {total_items}\")\n",
    "    print(f\"  Total matches: {total_matches}\")\n",
    "    print(f\"  Match rate: {total_matches/total_items:.2%} if total_items > 0 else 0\")\n",
    "    \n",
    "    for idx, prompt_data in enumerate(tqdm(correct_prompts[:50])):  # Increased to 50 for better training\n",
    "        prompt = prompt_data['prompt']\n",
    "        category, items = parse_prompt(prompt)\n",
    "        \n",
    "        # Get token positions for list items\n",
    "        token_positions = get_token_positions_for_items(tokenizer, prompt, items)\n",
    "        \n",
    "        # Skip if we couldn't find enough token positions\n",
    "        if len(token_positions) < len(items) * 0.5:  # If we found less than half\n",
    "            print(f\"\\nWarning: Could only find {len(token_positions)}/{len(items)} items in prompt {idx}\")\n",
    "            continue\n",
    "            \n",
    "        token_positions_all[idx] = token_positions\n",
    "        \n",
    "        # Tokenize\n",
    "        inputs = tokenizer(prompt, return_tensors=\"pt\", padding=True).to(device)\n",
    "        \n",
    "        # Get hidden states\n",
    "        hidden_states = get_hidden_states_with_hook(model, inputs.input_ids)\n",
    "        \n",
    "        # Store hidden states for each layer\n",
    "        for layer_idx in range(num_layers):\n",
    "            if layer_idx not in clean_hidden_states:\n",
    "                clean_hidden_states[layer_idx] = {}\n",
    "            clean_hidden_states[layer_idx][idx] = hidden_states[f\"layer_{layer_idx}\"]\n",
    "        \n",
    "        # Compute cumulative counts at each token position\n",
    "        running_counts = get_cumulative_counts_up_to_position(items, category, token_positions)\n",
    "        running_counts_all[idx] = running_counts\n",
    "        \n",
    "        # Collect statistics\n",
    "        total_items += len(items)\n",
    "        final_count = count_category_matches(items, category)\n",
    "        total_matches += final_count\n",
    "        \n",
    "        # Debug first few examples\n",
    "        if idx < 3:\n",
    "            print(f\"\\nDebug - Example {idx}:\")\n",
    "            print(f\"  Category: {category}\")\n",
    "            print(f\"  Items: {items}\")\n",
    "            print(f\"  Gold answer: {prompt_data['gold']}\")\n",
    "            print(f\"  Actual count: {final_count}\")\n",
    "            print(f\"  Token positions found: {len(token_positions)}/{len(items)}\")\n",
    "            print(f\"  Running counts: {running_counts}\")\n",
    "        \n",
    "        # Clear GPU memory periodically - more careful approach\n",
    "        if idx % 10 == 0 and idx > 0:\n",
    "            try:\n",
    "                # Delete references to force cleanup\n",
    "                if 'hidden_states' in locals():\n",
    "                    del hidden_states\n",
    "                if 'inputs' in locals():\n",
    "                    del inputs\n",
    "                    \n",
    "                # Gentle garbage collection\n",
    "                gc.collect()\n",
    "                \n",
    "                # Only empty cache if we're not in the middle of computation\n",
    "                if torch.cuda.is_available():\n",
    "                    torch.cuda.synchronize()  # Wait for all kernels to complete\n",
    "                    torch.cuda.empty_cache()\n",
    "            except Exception as e:\n",
    "                print(f\"Warning: Could not clear GPU memory: {e}\")\n",
    "                # Continue anyway\n",
    "    \n",
    "    print(f\"\\nDataset statistics:\")\n",
    "    print(f\"  Total items: {total_items}\")\n",
    "    print(f\"  Total matches: {total_matches}\")\n",
    "    print(f\"  Match rate: {total_matches/total_items:.2%}\")\n",
    "    \n",
    "    # Step 4: Train probes at each layer\n",
    "    print(\"\\nTraining probes at each layer...\")\n",
    "    probe_scores = {}\n",
    "    probes = {}\n",
    "    \n",
    "    for layer_idx in tqdm(range(num_layers)):\n",
    "        probe, score = train_probes(clean_hidden_states[layer_idx], running_counts_all, token_positions_all, layer_idx)\n",
    "        probe_scores[layer_idx] = score\n",
    "        probes[layer_idx] = probe\n",
    "        print(f\"Layer {layer_idx}: R² score = {score:.4f}\")\n",
    "    \n",
    "    # Find best layer\n",
    "    best_layer = max(probe_scores, key=probe_scores.get)\n",
    "    print(f\"\\nBest layer for count tracking: Layer {best_layer} (R² = {probe_scores[best_layer]:.4f})\")\n",
    "    \n",
    "    # Step 5 & 6: Patch and evaluate\n",
    "    print(\"\\nPatching and evaluating...\")\n",
    "    all_patching_results = []\n",
    "    \n",
    "    for prompt_data in tqdm(correct_prompts[:10]):  # Increased from 5 to 10 for better results\n",
    "        results = patch_and_evaluate(model, tokenizer, prompt_data, best_layer, probes)\n",
    "        all_patching_results.extend(results)\n",
    "    \n",
    "    # Step 7: Visualize results\n",
    "    print(\"\\nCreating visualization...\")\n",
    "    \n",
    "    # Create heatmap data\n",
    "    success_matrix = defaultdict(list)\n",
    "    for result in all_patching_results:\n",
    "        success_matrix[result['position']].append(int(result['shifted_correctly']))\n",
    "    \n",
    "    # Convert to array for plotting\n",
    "    if success_matrix:\n",
    "        max_pos = max(success_matrix.keys()) + 1\n",
    "        heatmap_data = np.zeros((1, max_pos))\n",
    "        for pos, successes in success_matrix.items():\n",
    "            heatmap_data[0, pos] = np.mean(successes)\n",
    "        \n",
    "        # Plot\n",
    "        plt.figure(figsize=(12, 3))\n",
    "        sns.heatmap(heatmap_data, \n",
    "                    xticklabels=range(max_pos),\n",
    "                    yticklabels=[f'Layer {best_layer}'],\n",
    "                    cmap='RdYlGn',\n",
    "                    vmin=0, vmax=1,\n",
    "                    annot=True, fmt='.2f',\n",
    "                    cbar_kws={'label': 'Patching Success Rate'})\n",
    "        plt.xlabel('List Position')\n",
    "        plt.title(f'Impact of Patching Hidden States at Layer {best_layer}')\n",
    "        plt.tight_layout()\n",
    "        plt.savefig('patching_heatmap.png', dpi=150)\n",
    "        plt.close()\n",
    "    \n",
    "    # Save detailed results\n",
    "    with open('patching_results.json', 'w') as f:\n",
    "        json.dump({\n",
    "            'probe_scores': probe_scores,\n",
    "            'best_layer': best_layer,\n",
    "            'patching_results': all_patching_results\n",
    "        }, f, indent=2)\n",
    "    \n",
    "    print(\"\\nAnalysis complete! Results saved to patching_results.json and patching_heatmap.png\")\n",
    "\n",
    "if __name__ == \"__main__\":\n",
    "    main()"
   ]
  },
  {
   "cell_type": "code",
   "execution_count": null,
   "id": "2a609010-533d-40c6-935e-e5ad6cc11a84",
   "metadata": {},
   "outputs": [],
   "source": []
  },
  {
   "cell_type": "code",
   "execution_count": null,
   "id": "98ecdc29-b067-42ab-b3ff-2641df78f123",
   "metadata": {},
   "outputs": [],
   "source": []
  },
  {
   "cell_type": "code",
   "execution_count": null,
   "id": "bb462e16-2b5e-44ff-b3f8-5be2ae2fbdcd",
   "metadata": {},
   "outputs": [],
   "source": []
  },
  {
   "cell_type": "code",
   "execution_count": null,
   "id": "9829cf58-d672-4e7c-a66e-c96c8f41e108",
   "metadata": {},
   "outputs": [],
   "source": []
  },
  {
   "cell_type": "code",
   "execution_count": null,
   "id": "2fe9f842-a004-4dcb-881b-2e350d25dd75",
   "metadata": {},
   "outputs": [],
   "source": []
  },
  {
   "cell_type": "code",
   "execution_count": 1,
   "id": "361adbc7-bfb1-4636-9091-3c654c939cb9",
   "metadata": {},
   "outputs": [
    {
     "name": "stdout",
     "output_type": "stream",
     "text": [
      "Using device: cuda\n",
      "Loading model and tokenizer...\n"
     ]
    },
    {
     "data": {
      "application/vnd.jupyter.widget-view+json": {
       "model_id": "d984b73a831947c483b0b55e688b4d0d",
       "version_major": 2,
       "version_minor": 0
      },
      "text/plain": [
       "Loading checkpoint shards:   0%|          | 0/4 [00:00<?, ?it/s]"
      ]
     },
     "metadata": {},
     "output_type": "display_data"
    },
    {
     "name": "stdout",
     "output_type": "stream",
     "text": [
      "Model has 32 layers\n",
      "Extracted 200 correct predictions\n",
      "\n",
      "Collecting hidden states for clean runs...\n"
     ]
    },
    {
     "name": "stderr",
     "output_type": "stream",
     "text": [
      "100%|██████████████████████████████████████████████████████████████████████████████████████████████████████████████████████████████| 10/10 [00:15<00:00,  1.53s/it]\n"
     ]
    },
    {
     "name": "stdout",
     "output_type": "stream",
     "text": [
      "\n",
      "Training probes at each layer...\n"
     ]
    },
    {
     "name": "stderr",
     "output_type": "stream",
     "text": [
      "100%|█████████████████████████████████████████████████████████████████████████████████████████████████████████████████████████████| 32/32 [00:00<00:00, 398.91it/s]\n"
     ]
    },
    {
     "name": "stdout",
     "output_type": "stream",
     "text": [
      "Layer 0: R² score = 1.0000\n",
      "Layer 1: R² score = 1.0000\n",
      "Layer 2: R² score = 1.0000\n",
      "Layer 3: R² score = 1.0000\n",
      "Layer 4: R² score = 1.0000\n",
      "Layer 5: R² score = 1.0000\n",
      "Layer 6: R² score = 1.0000\n",
      "Layer 7: R² score = 1.0000\n",
      "Layer 8: R² score = 1.0000\n",
      "Layer 9: R² score = 1.0000\n",
      "Layer 10: R² score = 1.0000\n",
      "Layer 11: R² score = 1.0000\n",
      "Layer 12: R² score = 1.0000\n",
      "Layer 13: R² score = 1.0000\n",
      "Layer 14: R² score = 1.0000\n",
      "Layer 15: R² score = 1.0000\n",
      "Layer 16: R² score = 1.0000\n",
      "Layer 17: R² score = 1.0000\n",
      "Layer 18: R² score = 1.0000\n",
      "Layer 19: R² score = 1.0000\n",
      "Layer 20: R² score = 1.0000\n",
      "Layer 21: R² score = 1.0000\n",
      "Layer 22: R² score = 1.0000\n",
      "Layer 23: R² score = 1.0000\n",
      "Layer 24: R² score = 1.0000\n",
      "Layer 25: R² score = 1.0000\n",
      "Layer 26: R² score = 1.0000\n",
      "Layer 27: R² score = 1.0000\n",
      "Layer 28: R² score = 1.0000\n",
      "Layer 29: R² score = 1.0000\n",
      "Layer 30: R² score = 1.0000\n",
      "Layer 31: R² score = 1.0000\n",
      "\n",
      "Best layer for count tracking: Layer 0 (R² = 1.0000)\n",
      "\n",
      "Patching and evaluating...\n"
     ]
    },
    {
     "name": "stderr",
     "output_type": "stream",
     "text": [
      "100%|████████████████████████████████████████████████████████████████████████████████████████████████████████████████████████████████| 5/5 [00:00<00:00, 30.64it/s]"
     ]
    },
    {
     "name": "stdout",
     "output_type": "stream",
     "text": [
      "\n",
      "Creating visualization...\n",
      "\n",
      "Analysis complete! Results saved to patching_results.json and patching_heatmap.png\n"
     ]
    },
    {
     "name": "stderr",
     "output_type": "stream",
     "text": [
      "\n"
     ]
    }
   ],
   "source": [
    "import json\n",
    "import torch\n",
    "import numpy as np\n",
    "from transformers import AutoModelForCausalLM, AutoTokenizer\n",
    "from sklearn.linear_model import Ridge\n",
    "from sklearn.metrics import r2_score\n",
    "import matplotlib.pyplot as plt\n",
    "import seaborn as sns\n",
    "from tqdm import tqdm\n",
    "import random\n",
    "import re\n",
    "import os\n",
    "from collections import defaultdict\n",
    "import gc\n",
    "\n",
    "# Set device\n",
    "device = torch.device(\"cuda\" if torch.cuda.is_available() else \"cpu\")\n",
    "print(f\"Using device: {device}\")\n",
    "\n",
    "# Initialize model and tokenizer\n",
    "MODEL_NAME = \"meta-llama/Meta-Llama-3-8B-Instruct\"\n",
    "print(\"Loading model and tokenizer...\")\n",
    "tokenizer = AutoTokenizer.from_pretrained(MODEL_NAME)\n",
    "tokenizer.pad_token = tokenizer.eos_token\n",
    "model = AutoModelForCausalLM.from_pretrained(\n",
    "    MODEL_NAME,\n",
    "    torch_dtype=torch.float16,  # Use float16 to save memory\n",
    "    device_map=\"auto\"  # Automatically distribute across GPUs\n",
    ")\n",
    "model.eval()\n",
    "\n",
    "# Get model config\n",
    "num_layers = model.config.num_hidden_layers\n",
    "print(f\"Model has {num_layers} layers\")\n",
    "\n",
    "def extract_correct_predictions(input_file, output_file, num_samples=200):\n",
    "    \"\"\"Extract prompts where pred == gold\"\"\"\n",
    "    correct_prompts = []\n",
    "    \n",
    "    with open(input_file, 'r') as f:\n",
    "        for line in f:\n",
    "            data = json.loads(line)\n",
    "            if data['pred'] == data['gold']:\n",
    "                correct_prompts.append(data)\n",
    "                if len(correct_prompts) >= num_samples:\n",
    "                    break\n",
    "    \n",
    "    # Save to new file\n",
    "    with open(output_file, 'w') as f:\n",
    "        for prompt_data in correct_prompts:\n",
    "            f.write(json.dumps(prompt_data) + '\\n')\n",
    "    \n",
    "    print(f\"Extracted {len(correct_prompts)} correct predictions\")\n",
    "    return correct_prompts\n",
    "\n",
    "def parse_prompt(prompt):\n",
    "    \"\"\"Extract category type and list items from prompt\"\"\"\n",
    "    type_match = re.search(r'Type: (\\w+)', prompt)\n",
    "    list_match = re.search(r'List: \\[(.*?)\\]', prompt)\n",
    "    \n",
    "    if not type_match or not list_match:\n",
    "        raise ValueError(\"Could not parse prompt\")\n",
    "    \n",
    "    category = type_match.group(1)\n",
    "    items = [item.strip() for item in list_match.group(1).split(',')]\n",
    "    \n",
    "    return category, items\n",
    "\n",
    "def get_token_positions_for_items(tokenizer, prompt, items):\n",
    "    \"\"\"Map each list item to its token position in the prompt\"\"\"\n",
    "    # Tokenize the full prompt\n",
    "    tokens = tokenizer.tokenize(prompt)\n",
    "    \n",
    "    # Find positions of list items\n",
    "    item_positions = []\n",
    "    \n",
    "    for item in items:\n",
    "        # Tokenize each item\n",
    "        item_tokens = tokenizer.tokenize(item)\n",
    "        \n",
    "        # Find where this item appears in the token sequence\n",
    "        for i in range(len(tokens) - len(item_tokens) + 1):\n",
    "            if tokens[i:i+len(item_tokens)] == item_tokens:\n",
    "                # Use the first token of the item as its position\n",
    "                item_positions.append(i)\n",
    "                break\n",
    "    \n",
    "    return item_positions\n",
    "\n",
    "def count_category_matches(items, category):\n",
    "    \"\"\"Count how many items match the category\"\"\"\n",
    "    # This is a simplified version - in practice you'd need a proper categorization function\n",
    "    # For now, we'll use the ground truth from the data\n",
    "    return sum(1 for item in items if is_category_match(item, category))\n",
    "\n",
    "def is_category_match(item, category):\n",
    "    \"\"\"Check if an item belongs to a category\"\"\"\n",
    "    CATEGORY_ITEMS = {\n",
    "        \"fruit\": [\n",
    "            \"apple\", \"banana\", \"cherry\", \"grape\", \"orange\",\n",
    "            \"pear\", \"peach\", \"mango\", \"tangerine\", \"plum\"\n",
    "        ],\n",
    "        \"animal\": [\n",
    "            \"dog\", \"cat\", \"horse\", \"cow\", \"sheep\",\n",
    "            \"lion\", \"tiger\", \"bear\", \"rabbit\", \"fox\"\n",
    "        ],\n",
    "        \"vehicle\": [\n",
    "            \"car\", \"bus\", \"truck\", \"bicycle\", \"motorcycle\",\n",
    "            \"train\", \"boat\", \"plane\", \"scooter\", \"van\"\n",
    "        ],\n",
    "        \"instrument\": [           \n",
    "            \"guitar\", \"piano\", \"violin\", \"drum\", \"flute\",\n",
    "            \"trumpet\", \"saxophone\", \"cello\", \"clarinet\", \"harp\"\n",
    "        ],\n",
    "        \"furniture\": [            \n",
    "            \"chair\", \"table\", \"sofa\", \"bed\", \"desk\",\n",
    "            \"cabinet\", \"dresser\", \"stool\", \"wardrobe\", \"bookshelf\"\n",
    "        ],\n",
    "    }\n",
    "    \n",
    "    return item.lower() in CATEGORY_ITEMS.get(category.lower(), [])\n",
    "\n",
    "def get_hidden_states_with_hook(model, input_ids):\n",
    "    \"\"\"Get hidden states for all layers using hooks\"\"\"\n",
    "    hidden_states = {}\n",
    "    \n",
    "    def hook_fn(name):\n",
    "        def hook(module, input, output):\n",
    "            # Store the hidden states\n",
    "            hidden_states[name] = output[0].detach().cpu()\n",
    "        return hook\n",
    "    \n",
    "    # Register hooks\n",
    "    hooks = []\n",
    "    for i in range(num_layers):\n",
    "        layer = model.model.layers[i]\n",
    "        hook = layer.register_forward_hook(hook_fn(f\"layer_{i}\"))\n",
    "        hooks.append(hook)\n",
    "    \n",
    "    # Forward pass\n",
    "    with torch.no_grad():\n",
    "        outputs = model(input_ids)\n",
    "    \n",
    "    # Remove hooks\n",
    "    for hook in hooks:\n",
    "        hook.remove()\n",
    "    \n",
    "    return hidden_states\n",
    "\n",
    "def create_prefix_permuted_prompt(prompt, items, k):\n",
    "    \"\"\"Create a prompt with the first k+1 items shuffled\"\"\"\n",
    "    # Shuffle first k+1 items\n",
    "    prefix = items[:k+1].copy()\n",
    "    random.shuffle(prefix)\n",
    "    \n",
    "    # Combine with rest of list\n",
    "    permuted_items = prefix + items[k+1:]\n",
    "    \n",
    "    # Reconstruct prompt\n",
    "    list_str = ', '.join(permuted_items)\n",
    "    permuted_prompt = re.sub(r'List: \\[.*?\\]', f'List: [{list_str}]', prompt)\n",
    "    \n",
    "    return permuted_prompt, permuted_items\n",
    "\n",
    "def compute_running_counts(items, category):\n",
    "    \"\"\"Compute running count of category matches at each position\"\"\"\n",
    "    running_counts = []\n",
    "    count = 0\n",
    "    for item in items:\n",
    "        if is_category_match(item, category):\n",
    "            count += 1\n",
    "        running_counts.append(count)\n",
    "    return running_counts\n",
    "\n",
    "def train_probes(hidden_states_dict, running_counts_dict, token_positions_dict, layer_idx):\n",
    "    \"\"\"Train linear probes to predict running counts from hidden states\"\"\"\n",
    "    X_all = []\n",
    "    y_all = []\n",
    "    \n",
    "    for prompt_idx, hidden_states in hidden_states_dict.items():\n",
    "        running_counts = running_counts_dict[prompt_idx]\n",
    "        token_positions = token_positions_dict[prompt_idx]\n",
    "        \n",
    "        # For each list item and its corresponding token position\n",
    "        for i, (count, token_pos) in enumerate(zip(running_counts, token_positions)):\n",
    "            if token_pos < hidden_states.shape[1]:  # Ensure we're within bounds\n",
    "                X_all.append(hidden_states[0, token_pos].numpy())\n",
    "                y_all.append(count)\n",
    "    \n",
    "    if len(X_all) == 0:\n",
    "        return None, 0.0\n",
    "    \n",
    "    X_all = np.array(X_all)\n",
    "    y_all = np.array(y_all)\n",
    "    \n",
    "    # Train Ridge regression\n",
    "    probe = Ridge(alpha=1.0)\n",
    "    probe.fit(X_all, y_all)\n",
    "    \n",
    "    # Evaluate\n",
    "    y_pred = probe.predict(X_all)\n",
    "    score = r2_score(y_all, y_pred)\n",
    "    \n",
    "    return probe, score\n",
    "\n",
    "def patch_and_evaluate(model, tokenizer, prompt_data, best_layer, probes):\n",
    "    \"\"\"Patch hidden states and evaluate impact on final answer\"\"\"\n",
    "    prompt = prompt_data['prompt']\n",
    "    gold_answer = prompt_data['gold']\n",
    "    category, items = parse_prompt(prompt)\n",
    "    \n",
    "    # Get token positions for list items\n",
    "    token_positions = get_token_positions_for_items(tokenizer, prompt, items)\n",
    "    \n",
    "    # Tokenize original prompt\n",
    "    inputs = tokenizer(prompt, return_tensors=\"pt\", padding=True).to(device)\n",
    "    \n",
    "    # Get clean run hidden states\n",
    "    clean_hidden_states = get_hidden_states_with_hook(model, inputs.input_ids)\n",
    "    \n",
    "    patching_results = []\n",
    "    \n",
    "    for k in range(min(len(items) - 1, len(token_positions) - 1)):  # For each prefix position\n",
    "        # Create prefix-permuted version\n",
    "        permuted_prompt, permuted_items = create_prefix_permuted_prompt(prompt, items, k)\n",
    "        permuted_count = count_category_matches(permuted_items, category)\n",
    "        \n",
    "        # Get counterfactual hidden states\n",
    "        permuted_inputs = tokenizer(permuted_prompt, return_tensors=\"pt\", padding=True).to(device)\n",
    "        \n",
    "        # Ensure both sequences have the same length\n",
    "        if permuted_inputs.input_ids.shape[1] != inputs.input_ids.shape[1]:\n",
    "            continue\n",
    "            \n",
    "        counterfactual_hidden_states = get_hidden_states_with_hook(model, permuted_inputs.input_ids)\n",
    "        \n",
    "        # Get the token position for item k\n",
    "        if k >= len(token_positions):\n",
    "            continue\n",
    "        token_pos = token_positions[k]\n",
    "        \n",
    "        # Check if token position is valid\n",
    "        if token_pos >= clean_hidden_states[f\"layer_{best_layer}\"].shape[1]:\n",
    "            continue\n",
    "        \n",
    "        # Patch at best layer, token position for item k\n",
    "        def patching_hook(module, input, output):\n",
    "            # Replace hidden state at token position with counterfactual\n",
    "            hidden_states = output[0]\n",
    "            if token_pos < hidden_states.shape[1]:\n",
    "                hidden_states[:, token_pos] = counterfactual_hidden_states[f\"layer_{best_layer}\"][:, token_pos].to(device)\n",
    "            return (hidden_states,) + output[1:]\n",
    "        \n",
    "        # Register patching hook\n",
    "        hook = model.model.layers[best_layer].register_forward_hook(patching_hook)\n",
    "        \n",
    "        # Run patched forward pass\n",
    "        with torch.no_grad():\n",
    "            outputs = model.generate(\n",
    "                inputs.input_ids,\n",
    "                max_new_tokens=10,\n",
    "                do_sample=False,\n",
    "                pad_token_id=tokenizer.eos_token_id,\n",
    "                attention_mask=inputs.attention_mask\n",
    "            )\n",
    "        \n",
    "        # Remove hook\n",
    "        hook.remove()\n",
    "        \n",
    "        # Extract predicted number\n",
    "        generated_text = tokenizer.decode(outputs[0], skip_special_tokens=True)\n",
    "        pred_match = re.search(r'\\((\\d+)\\)', generated_text)\n",
    "        if pred_match:\n",
    "            patched_pred = int(pred_match.group(1))\n",
    "        else:\n",
    "            patched_pred = -1\n",
    "        \n",
    "        patching_results.append({\n",
    "            'position': k,\n",
    "            'token_position': token_pos,\n",
    "            'original_answer': gold_answer,\n",
    "            'permuted_answer': permuted_count,\n",
    "            'patched_prediction': patched_pred,\n",
    "            'shifted_correctly': patched_pred == permuted_count\n",
    "        })\n",
    "    \n",
    "    return patching_results\n",
    "\n",
    "def main():\n",
    "    # Step 1: Extract correct predictions\n",
    "    input_file = \"/net/scratch/slhleosun/counting_items/behavioral_results/llama3-8b-inst/predictions.jsonl\"\n",
    "    output_file = \"correct_predictions.jsonl\"\n",
    "    correct_prompts = extract_correct_predictions(input_file, output_file)\n",
    "    \n",
    "    # Step 2 & 3: Run clean and counterfactual runs, collect hidden states\n",
    "    print(\"\\nCollecting hidden states for clean runs...\")\n",
    "    clean_hidden_states = {}\n",
    "    running_counts_all = {}\n",
    "    token_positions_all = {}\n",
    "    \n",
    "    for idx, prompt_data in enumerate(tqdm(correct_prompts[:10])):  # Start with 10 for testing\n",
    "        prompt = prompt_data['prompt']\n",
    "        category, items = parse_prompt(prompt)\n",
    "        \n",
    "        # Get token positions for list items\n",
    "        token_positions = get_token_positions_for_items(tokenizer, prompt, items)\n",
    "        token_positions_all[idx] = token_positions\n",
    "        \n",
    "        # Tokenize\n",
    "        inputs = tokenizer(prompt, return_tensors=\"pt\", padding=True).to(device)\n",
    "        \n",
    "        # Get hidden states\n",
    "        hidden_states = get_hidden_states_with_hook(model, inputs.input_ids)\n",
    "        \n",
    "        # Store hidden states for each layer\n",
    "        for layer_idx in range(num_layers):\n",
    "            if layer_idx not in clean_hidden_states:\n",
    "                clean_hidden_states[layer_idx] = {}\n",
    "            clean_hidden_states[layer_idx][idx] = hidden_states[f\"layer_{layer_idx}\"]\n",
    "        \n",
    "        # Compute running counts\n",
    "        running_counts = compute_running_counts(items, category)\n",
    "        running_counts_all[idx] = running_counts\n",
    "        \n",
    "        # Clear GPU memory periodically\n",
    "        if idx % 5 == 0:\n",
    "            torch.cuda.empty_cache()\n",
    "            gc.collect()\n",
    "    \n",
    "    # Step 4: Train probes at each layer\n",
    "    print(\"\\nTraining probes at each layer...\")\n",
    "    probe_scores = {}\n",
    "    probes = {}\n",
    "    \n",
    "    for layer_idx in tqdm(range(num_layers)):\n",
    "        probe, score = train_probes(clean_hidden_states[layer_idx], running_counts_all, token_positions_all, layer_idx)\n",
    "        probe_scores[layer_idx] = score\n",
    "        probes[layer_idx] = probe\n",
    "        print(f\"Layer {layer_idx}: R² score = {score:.4f}\")\n",
    "    \n",
    "    # Find best layer\n",
    "    best_layer = max(probe_scores, key=probe_scores.get)\n",
    "    print(f\"\\nBest layer for count tracking: Layer {best_layer} (R² = {probe_scores[best_layer]:.4f})\")\n",
    "    \n",
    "    # Step 5 & 6: Patch and evaluate\n",
    "    print(\"\\nPatching and evaluating...\")\n",
    "    all_patching_results = []\n",
    "    \n",
    "    for prompt_data in tqdm(correct_prompts[:5]):  # Test on subset\n",
    "        results = patch_and_evaluate(model, tokenizer, prompt_data, best_layer, probes)\n",
    "        all_patching_results.extend(results)\n",
    "    \n",
    "    # Step 7: Visualize results\n",
    "    print(\"\\nCreating visualization...\")\n",
    "    \n",
    "    # Create heatmap data\n",
    "    success_matrix = defaultdict(list)\n",
    "    for result in all_patching_results:\n",
    "        success_matrix[result['position']].append(int(result['shifted_correctly']))\n",
    "    \n",
    "    # Convert to array for plotting\n",
    "    if success_matrix:\n",
    "        max_pos = max(success_matrix.keys()) + 1\n",
    "        heatmap_data = np.zeros((1, max_pos))\n",
    "        for pos, successes in success_matrix.items():\n",
    "            heatmap_data[0, pos] = np.mean(successes)\n",
    "        \n",
    "        # Plot\n",
    "        plt.figure(figsize=(12, 3))\n",
    "        sns.heatmap(heatmap_data, \n",
    "                    xticklabels=range(max_pos),\n",
    "                    yticklabels=[f'Layer {best_layer}'],\n",
    "                    cmap='RdYlGn',\n",
    "                    vmin=0, vmax=1,\n",
    "                    annot=True, fmt='.2f',\n",
    "                    cbar_kws={'label': 'Patching Success Rate'})\n",
    "        plt.xlabel('List Position')\n",
    "        plt.title(f'Impact of Patching Hidden States at Layer {best_layer}')\n",
    "        plt.tight_layout()\n",
    "        plt.savefig('patching_heatmap.png', dpi=150)\n",
    "        plt.close()\n",
    "    \n",
    "    # Save detailed results\n",
    "    with open('patching_results.json', 'w') as f:\n",
    "        json.dump({\n",
    "            'probe_scores': probe_scores,\n",
    "            'best_layer': best_layer,\n",
    "            'patching_results': all_patching_results\n",
    "        }, f, indent=2)\n",
    "    \n",
    "    print(\"\\nAnalysis complete! Results saved to patching_results.json and patching_heatmap.png\")\n",
    "\n",
    "if __name__ == \"__main__\":\n",
    "    main()"
   ]
  },
  {
   "cell_type": "code",
   "execution_count": null,
   "id": "c8cc6425-9e08-4fae-881c-b3fad336dae0",
   "metadata": {},
   "outputs": [],
   "source": []
  }
 ],
 "metadata": {
  "kernelspec": {
   "display_name": "fixed_ai_env",
   "language": "python",
   "name": "fixed_ai_env"
  },
  "language_info": {
   "codemirror_mode": {
    "name": "ipython",
    "version": 3
   },
   "file_extension": ".py",
   "mimetype": "text/x-python",
   "name": "python",
   "nbconvert_exporter": "python",
   "pygments_lexer": "ipython3",
   "version": "3.11.8"
  }
 },
 "nbformat": 4,
 "nbformat_minor": 5
}
